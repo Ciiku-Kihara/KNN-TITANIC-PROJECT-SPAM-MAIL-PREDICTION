{
  "nbformat": 4,
  "nbformat_minor": 0,
  "metadata": {
    "colab": {
      "name": "KNN_Titanic_Project",
      "provenance": [],
      "collapsed_sections": [],
      "toc_visible": true,
      "include_colab_link": true
    },
    "kernelspec": {
      "name": "python3",
      "display_name": "Python 3"
    },
    "language_info": {
      "name": "python"
    }
  },
  "cells": [
    {
      "cell_type": "markdown",
      "metadata": {
        "id": "view-in-github",
        "colab_type": "text"
      },
      "source": [
        "<a href=\"https://colab.research.google.com/github/Ciiku-Kihara/KNN-TITANIC-PROJECT-SPAM-MAIL-PREDICTION/blob/main/KNN_Titanic_Project.ipynb\" target=\"_parent\"><img src=\"https://colab.research.google.com/assets/colab-badge.svg\" alt=\"Open In Colab\"/></a>"
      ]
    },
    {
      "cell_type": "markdown",
      "metadata": {
        "id": "ROdDdygdOWJG"
      },
      "source": [
        "## 1. Defining the question"
      ]
    },
    {
      "cell_type": "markdown",
      "metadata": {
        "id": "112GSu7CPl5-"
      },
      "source": [
        "### a) Specifying the analysis question\n",
        "\n",
        "Build a model that determines whether a person survived the titanic accident or not."
      ]
    },
    {
      "cell_type": "markdown",
      "metadata": {
        "id": "TBT5LvwBPmkP"
      },
      "source": [
        "### b) Defining the metric for success\n",
        "\n",
        "Be able to effectively use K Nearest Neighbours(KNN) to build an efficient model that can predict whether a person survived the titanic accident or not with at least 90% accuracy "
      ]
    },
    {
      "cell_type": "markdown",
      "metadata": {
        "id": "xdPS32qUPnPK"
      },
      "source": [
        "### c) Understanding the context\n",
        "\n",
        "The RMS Titanic sank in the early morning hours of 15 April 1912 in the North Atlantic Ocean, four days into her maiden voyage from Southampton to New York City. The largest ocean liner in service at the time, Titanic had an estimated 2,224 people on board when she struck an iceberg.\n",
        "\n",
        "Her sinking two hours and forty minutes later at 02:20 on Monday, 15 April, resulted in the deaths of more than 1,500 people, making it one of the deadliest peacetime maritime disasters in history.\n",
        "\n",
        "Titanic sank with over a thousand passengers and crew still on board. Almost all of those who jumped or fell into the water drowned or died within minutes due to the effects of cold shock and incapacitation.\n",
        "The disaster shocked the world and caused widespread outrage over the lack of lifeboats, lax regulations, and the unequal treatment of the three passenger classes during the evacuation."
      ]
    },
    {
      "cell_type": "markdown",
      "metadata": {
        "id": "h0uUC0OpPnxc"
      },
      "source": [
        "### d) Recording the experimental design\n",
        "\n",
        "- Read and explore the given dataset\n",
        "- Define the appropriateness of the available data to answer the given question\n",
        "- Find and deal with outliers, anomalies, and missing data within the dataset\n",
        "- Perform Exploratory Data Analysis.\n",
        "- Build a model using KNN algorithm \n",
        "- Challenge the solution.\n",
        "- Optimize the model\n",
        "- Make conclusions\n",
        "\n"
      ]
    },
    {
      "cell_type": "markdown",
      "metadata": {
        "id": "LznBGpVFPoOT"
      },
      "source": [
        "### e) Data Relevance\n",
        "\n",
        "The dataset contains adequate information to build my models"
      ]
    },
    {
      "cell_type": "markdown",
      "metadata": {
        "id": "V0rTKmBbPor5"
      },
      "source": [
        "## 2. Importing relevant libraries"
      ]
    },
    {
      "cell_type": "code",
      "metadata": {
        "id": "lJHfv_3FbnN3"
      },
      "source": [
        "# Loading necessary libraries\n",
        "\n",
        "import numpy as np\n",
        "import pandas as pd\n",
        "import seaborn as sns\n",
        "import matplotlib.pyplot as plt\n",
        "from sklearn.model_selection import train_test_split\n",
        "from sklearn.metrics import accuracy_score, confusion_matrix, classification_report\n",
        "from sklearn.model_selection import GridSearchCV\n",
        "from sklearn.preprocessing import MinMaxScaler, LabelEncoder\n",
        "from sklearn.discriminant_analysis import LinearDiscriminantAnalysis as LDA\n",
        "from sklearn.neighbors import KNeighborsClassifier"
      ],
      "execution_count": 1,
      "outputs": []
    },
    {
      "cell_type": "markdown",
      "metadata": {
        "id": "Zp8drdSRQjg0"
      },
      "source": [
        "## 3. Loading and checking the data"
      ]
    },
    {
      "cell_type": "code",
      "metadata": {
        "id": "3xFo-4FwcSpQ"
      },
      "source": [
        "# Loading our dataset \n",
        "\n",
        "titanic =  pd.read_csv('titanic.csv')"
      ],
      "execution_count": 2,
      "outputs": []
    },
    {
      "cell_type": "code",
      "metadata": {
        "colab": {
          "base_uri": "https://localhost:8080/",
          "height": 229
        },
        "id": "tx1TuYKLce6R",
        "outputId": "d9039d55-90f4-4152-8ad3-0782d5a63b7e"
      },
      "source": [
        "# Getting a preview of the first 5 rows\n",
        "\n",
        "titanic.head()"
      ],
      "execution_count": 3,
      "outputs": [
        {
          "output_type": "execute_result",
          "data": {
            "text/html": [
              "<div>\n",
              "<style scoped>\n",
              "    .dataframe tbody tr th:only-of-type {\n",
              "        vertical-align: middle;\n",
              "    }\n",
              "\n",
              "    .dataframe tbody tr th {\n",
              "        vertical-align: top;\n",
              "    }\n",
              "\n",
              "    .dataframe thead th {\n",
              "        text-align: right;\n",
              "    }\n",
              "</style>\n",
              "<table border=\"1\" class=\"dataframe\">\n",
              "  <thead>\n",
              "    <tr style=\"text-align: right;\">\n",
              "      <th></th>\n",
              "      <th>PassengerId</th>\n",
              "      <th>Survived</th>\n",
              "      <th>Pclass</th>\n",
              "      <th>Name</th>\n",
              "      <th>Sex</th>\n",
              "      <th>Age</th>\n",
              "      <th>SibSp</th>\n",
              "      <th>Parch</th>\n",
              "      <th>Ticket</th>\n",
              "      <th>Fare</th>\n",
              "      <th>Cabin</th>\n",
              "      <th>Embarked</th>\n",
              "    </tr>\n",
              "  </thead>\n",
              "  <tbody>\n",
              "    <tr>\n",
              "      <th>0</th>\n",
              "      <td>1</td>\n",
              "      <td>0</td>\n",
              "      <td>3</td>\n",
              "      <td>Braund, Mr. Owen Harris</td>\n",
              "      <td>male</td>\n",
              "      <td>22.0</td>\n",
              "      <td>1</td>\n",
              "      <td>0</td>\n",
              "      <td>A/5 21171</td>\n",
              "      <td>7.2500</td>\n",
              "      <td>NaN</td>\n",
              "      <td>S</td>\n",
              "    </tr>\n",
              "    <tr>\n",
              "      <th>1</th>\n",
              "      <td>2</td>\n",
              "      <td>1</td>\n",
              "      <td>1</td>\n",
              "      <td>Cumings, Mrs. John Bradley (Florence Briggs Th...</td>\n",
              "      <td>female</td>\n",
              "      <td>38.0</td>\n",
              "      <td>1</td>\n",
              "      <td>0</td>\n",
              "      <td>PC 17599</td>\n",
              "      <td>71.2833</td>\n",
              "      <td>C85</td>\n",
              "      <td>C</td>\n",
              "    </tr>\n",
              "    <tr>\n",
              "      <th>2</th>\n",
              "      <td>3</td>\n",
              "      <td>1</td>\n",
              "      <td>3</td>\n",
              "      <td>Heikkinen, Miss. Laina</td>\n",
              "      <td>female</td>\n",
              "      <td>26.0</td>\n",
              "      <td>0</td>\n",
              "      <td>0</td>\n",
              "      <td>STON/O2. 3101282</td>\n",
              "      <td>7.9250</td>\n",
              "      <td>NaN</td>\n",
              "      <td>S</td>\n",
              "    </tr>\n",
              "    <tr>\n",
              "      <th>3</th>\n",
              "      <td>4</td>\n",
              "      <td>1</td>\n",
              "      <td>1</td>\n",
              "      <td>Futrelle, Mrs. Jacques Heath (Lily May Peel)</td>\n",
              "      <td>female</td>\n",
              "      <td>35.0</td>\n",
              "      <td>1</td>\n",
              "      <td>0</td>\n",
              "      <td>113803</td>\n",
              "      <td>53.1000</td>\n",
              "      <td>C123</td>\n",
              "      <td>S</td>\n",
              "    </tr>\n",
              "    <tr>\n",
              "      <th>4</th>\n",
              "      <td>5</td>\n",
              "      <td>0</td>\n",
              "      <td>3</td>\n",
              "      <td>Allen, Mr. William Henry</td>\n",
              "      <td>male</td>\n",
              "      <td>35.0</td>\n",
              "      <td>0</td>\n",
              "      <td>0</td>\n",
              "      <td>373450</td>\n",
              "      <td>8.0500</td>\n",
              "      <td>NaN</td>\n",
              "      <td>S</td>\n",
              "    </tr>\n",
              "  </tbody>\n",
              "</table>\n",
              "</div>"
            ],
            "text/plain": [
              "   PassengerId  Survived  Pclass  ...     Fare Cabin  Embarked\n",
              "0            1         0       3  ...   7.2500   NaN         S\n",
              "1            2         1       1  ...  71.2833   C85         C\n",
              "2            3         1       3  ...   7.9250   NaN         S\n",
              "3            4         1       1  ...  53.1000  C123         S\n",
              "4            5         0       3  ...   8.0500   NaN         S\n",
              "\n",
              "[5 rows x 12 columns]"
            ]
          },
          "metadata": {
            "tags": []
          },
          "execution_count": 3
        }
      ]
    },
    {
      "cell_type": "code",
      "metadata": {
        "colab": {
          "base_uri": "https://localhost:8080/"
        },
        "id": "SApzDmXYemul",
        "outputId": "c0e624f9-1d6b-43a0-ae55-944e3c8eec88"
      },
      "source": [
        "# Determining the number of rows and columns in the dataset\n",
        "\n",
        "titanic.shape\n",
        "\n",
        "# This dataset has 891 observations and 12 columns"
      ],
      "execution_count": 4,
      "outputs": [
        {
          "output_type": "execute_result",
          "data": {
            "text/plain": [
              "(891, 12)"
            ]
          },
          "metadata": {
            "tags": []
          },
          "execution_count": 4
        }
      ]
    },
    {
      "cell_type": "code",
      "metadata": {
        "colab": {
          "base_uri": "https://localhost:8080/"
        },
        "id": "BndCOUEFfM9a",
        "outputId": "3af8050c-bd13-4405-f274-28077f8cf6fc"
      },
      "source": [
        "# Determining the names of the columns present in the dataset\n",
        "\n",
        "titanic.columns"
      ],
      "execution_count": 5,
      "outputs": [
        {
          "output_type": "execute_result",
          "data": {
            "text/plain": [
              "Index(['PassengerId', 'Survived', 'Pclass', 'Name', 'Sex', 'Age', 'SibSp',\n",
              "       'Parch', 'Ticket', 'Fare', 'Cabin', 'Embarked'],\n",
              "      dtype='object')"
            ]
          },
          "metadata": {
            "tags": []
          },
          "execution_count": 5
        }
      ]
    },
    {
      "cell_type": "code",
      "metadata": {
        "colab": {
          "base_uri": "https://localhost:8080/",
          "height": 284
        },
        "id": "YXt7KcR4llU1",
        "outputId": "c4c675af-7f8a-4d8a-cf77-b0c8104a05cc"
      },
      "source": [
        "# Obtaining descriptive statistics\n",
        "\n",
        "titanic.describe()"
      ],
      "execution_count": 6,
      "outputs": [
        {
          "output_type": "execute_result",
          "data": {
            "text/html": [
              "<div>\n",
              "<style scoped>\n",
              "    .dataframe tbody tr th:only-of-type {\n",
              "        vertical-align: middle;\n",
              "    }\n",
              "\n",
              "    .dataframe tbody tr th {\n",
              "        vertical-align: top;\n",
              "    }\n",
              "\n",
              "    .dataframe thead th {\n",
              "        text-align: right;\n",
              "    }\n",
              "</style>\n",
              "<table border=\"1\" class=\"dataframe\">\n",
              "  <thead>\n",
              "    <tr style=\"text-align: right;\">\n",
              "      <th></th>\n",
              "      <th>PassengerId</th>\n",
              "      <th>Survived</th>\n",
              "      <th>Pclass</th>\n",
              "      <th>Age</th>\n",
              "      <th>SibSp</th>\n",
              "      <th>Parch</th>\n",
              "      <th>Fare</th>\n",
              "    </tr>\n",
              "  </thead>\n",
              "  <tbody>\n",
              "    <tr>\n",
              "      <th>count</th>\n",
              "      <td>891.000000</td>\n",
              "      <td>891.000000</td>\n",
              "      <td>891.000000</td>\n",
              "      <td>714.000000</td>\n",
              "      <td>891.000000</td>\n",
              "      <td>891.000000</td>\n",
              "      <td>891.000000</td>\n",
              "    </tr>\n",
              "    <tr>\n",
              "      <th>mean</th>\n",
              "      <td>446.000000</td>\n",
              "      <td>0.383838</td>\n",
              "      <td>2.308642</td>\n",
              "      <td>29.699118</td>\n",
              "      <td>0.523008</td>\n",
              "      <td>0.381594</td>\n",
              "      <td>32.204208</td>\n",
              "    </tr>\n",
              "    <tr>\n",
              "      <th>std</th>\n",
              "      <td>257.353842</td>\n",
              "      <td>0.486592</td>\n",
              "      <td>0.836071</td>\n",
              "      <td>14.526497</td>\n",
              "      <td>1.102743</td>\n",
              "      <td>0.806057</td>\n",
              "      <td>49.693429</td>\n",
              "    </tr>\n",
              "    <tr>\n",
              "      <th>min</th>\n",
              "      <td>1.000000</td>\n",
              "      <td>0.000000</td>\n",
              "      <td>1.000000</td>\n",
              "      <td>0.420000</td>\n",
              "      <td>0.000000</td>\n",
              "      <td>0.000000</td>\n",
              "      <td>0.000000</td>\n",
              "    </tr>\n",
              "    <tr>\n",
              "      <th>25%</th>\n",
              "      <td>223.500000</td>\n",
              "      <td>0.000000</td>\n",
              "      <td>2.000000</td>\n",
              "      <td>20.125000</td>\n",
              "      <td>0.000000</td>\n",
              "      <td>0.000000</td>\n",
              "      <td>7.910400</td>\n",
              "    </tr>\n",
              "    <tr>\n",
              "      <th>50%</th>\n",
              "      <td>446.000000</td>\n",
              "      <td>0.000000</td>\n",
              "      <td>3.000000</td>\n",
              "      <td>28.000000</td>\n",
              "      <td>0.000000</td>\n",
              "      <td>0.000000</td>\n",
              "      <td>14.454200</td>\n",
              "    </tr>\n",
              "    <tr>\n",
              "      <th>75%</th>\n",
              "      <td>668.500000</td>\n",
              "      <td>1.000000</td>\n",
              "      <td>3.000000</td>\n",
              "      <td>38.000000</td>\n",
              "      <td>1.000000</td>\n",
              "      <td>0.000000</td>\n",
              "      <td>31.000000</td>\n",
              "    </tr>\n",
              "    <tr>\n",
              "      <th>max</th>\n",
              "      <td>891.000000</td>\n",
              "      <td>1.000000</td>\n",
              "      <td>3.000000</td>\n",
              "      <td>80.000000</td>\n",
              "      <td>8.000000</td>\n",
              "      <td>6.000000</td>\n",
              "      <td>512.329200</td>\n",
              "    </tr>\n",
              "  </tbody>\n",
              "</table>\n",
              "</div>"
            ],
            "text/plain": [
              "       PassengerId    Survived      Pclass  ...       SibSp       Parch        Fare\n",
              "count   891.000000  891.000000  891.000000  ...  891.000000  891.000000  891.000000\n",
              "mean    446.000000    0.383838    2.308642  ...    0.523008    0.381594   32.204208\n",
              "std     257.353842    0.486592    0.836071  ...    1.102743    0.806057   49.693429\n",
              "min       1.000000    0.000000    1.000000  ...    0.000000    0.000000    0.000000\n",
              "25%     223.500000    0.000000    2.000000  ...    0.000000    0.000000    7.910400\n",
              "50%     446.000000    0.000000    3.000000  ...    0.000000    0.000000   14.454200\n",
              "75%     668.500000    1.000000    3.000000  ...    1.000000    0.000000   31.000000\n",
              "max     891.000000    1.000000    3.000000  ...    8.000000    6.000000  512.329200\n",
              "\n",
              "[8 rows x 7 columns]"
            ]
          },
          "metadata": {
            "tags": []
          },
          "execution_count": 6
        }
      ]
    },
    {
      "cell_type": "code",
      "metadata": {
        "colab": {
          "base_uri": "https://localhost:8080/"
        },
        "id": "g4WLnrwGfZFN",
        "outputId": "5e55c616-c4f3-441a-e797-970e77b08651"
      },
      "source": [
        "# Checking if each column is of the appropriate data type\n",
        "\n",
        "titanic.dtypes\n",
        "\n",
        "# All the columns are of the appropriate data type."
      ],
      "execution_count": 7,
      "outputs": [
        {
          "output_type": "execute_result",
          "data": {
            "text/plain": [
              "PassengerId      int64\n",
              "Survived         int64\n",
              "Pclass           int64\n",
              "Name            object\n",
              "Sex             object\n",
              "Age            float64\n",
              "SibSp            int64\n",
              "Parch            int64\n",
              "Ticket          object\n",
              "Fare           float64\n",
              "Cabin           object\n",
              "Embarked        object\n",
              "dtype: object"
            ]
          },
          "metadata": {
            "tags": []
          },
          "execution_count": 7
        }
      ]
    },
    {
      "cell_type": "markdown",
      "metadata": {
        "id": "PSOXSQciSFn0"
      },
      "source": [
        "## 4. External data source validation"
      ]
    },
    {
      "cell_type": "markdown",
      "metadata": {
        "id": "_6hx-9sDM66o"
      },
      "source": [
        "The dataset has been validated against the Titanic dataset on Kaggle. The link is provided below\n",
        "\n",
        "https://www.kaggle.com/hesh97/titanicdataset-traincsv \n",
        "\n",
        "The data dictionary can be accessed here:\n",
        "\n",
        "https://www.kaggle.com/c/titanic/data"
      ]
    },
    {
      "cell_type": "markdown",
      "metadata": {
        "id": "iT1z5dFagd6g"
      },
      "source": [
        "## 5. Data cleaning\n"
      ]
    },
    {
      "cell_type": "code",
      "metadata": {
        "id": "d10waXUBgSnH",
        "colab": {
          "base_uri": "https://localhost:8080/",
          "height": 106
        },
        "outputId": "3ab3f489-82fa-407e-f55f-ea59c959f16d"
      },
      "source": [
        "# Stripping the columns of any probable white spaces\n",
        "\n",
        "titanic.columns = titanic.columns.str.strip().str.lower()\n",
        "\n",
        "# Preview of the dataset\n",
        "\n",
        "titanic.head(2)"
      ],
      "execution_count": 8,
      "outputs": [
        {
          "output_type": "execute_result",
          "data": {
            "text/html": [
              "<div>\n",
              "<style scoped>\n",
              "    .dataframe tbody tr th:only-of-type {\n",
              "        vertical-align: middle;\n",
              "    }\n",
              "\n",
              "    .dataframe tbody tr th {\n",
              "        vertical-align: top;\n",
              "    }\n",
              "\n",
              "    .dataframe thead th {\n",
              "        text-align: right;\n",
              "    }\n",
              "</style>\n",
              "<table border=\"1\" class=\"dataframe\">\n",
              "  <thead>\n",
              "    <tr style=\"text-align: right;\">\n",
              "      <th></th>\n",
              "      <th>passengerid</th>\n",
              "      <th>survived</th>\n",
              "      <th>pclass</th>\n",
              "      <th>name</th>\n",
              "      <th>sex</th>\n",
              "      <th>age</th>\n",
              "      <th>sibsp</th>\n",
              "      <th>parch</th>\n",
              "      <th>ticket</th>\n",
              "      <th>fare</th>\n",
              "      <th>cabin</th>\n",
              "      <th>embarked</th>\n",
              "    </tr>\n",
              "  </thead>\n",
              "  <tbody>\n",
              "    <tr>\n",
              "      <th>0</th>\n",
              "      <td>1</td>\n",
              "      <td>0</td>\n",
              "      <td>3</td>\n",
              "      <td>Braund, Mr. Owen Harris</td>\n",
              "      <td>male</td>\n",
              "      <td>22.0</td>\n",
              "      <td>1</td>\n",
              "      <td>0</td>\n",
              "      <td>A/5 21171</td>\n",
              "      <td>7.2500</td>\n",
              "      <td>NaN</td>\n",
              "      <td>S</td>\n",
              "    </tr>\n",
              "    <tr>\n",
              "      <th>1</th>\n",
              "      <td>2</td>\n",
              "      <td>1</td>\n",
              "      <td>1</td>\n",
              "      <td>Cumings, Mrs. John Bradley (Florence Briggs Th...</td>\n",
              "      <td>female</td>\n",
              "      <td>38.0</td>\n",
              "      <td>1</td>\n",
              "      <td>0</td>\n",
              "      <td>PC 17599</td>\n",
              "      <td>71.2833</td>\n",
              "      <td>C85</td>\n",
              "      <td>C</td>\n",
              "    </tr>\n",
              "  </tbody>\n",
              "</table>\n",
              "</div>"
            ],
            "text/plain": [
              "   passengerid  survived  pclass  ...     fare cabin  embarked\n",
              "0            1         0       3  ...   7.2500   NaN         S\n",
              "1            2         1       1  ...  71.2833   C85         C\n",
              "\n",
              "[2 rows x 12 columns]"
            ]
          },
          "metadata": {
            "tags": []
          },
          "execution_count": 8
        }
      ]
    },
    {
      "cell_type": "code",
      "metadata": {
        "colab": {
          "base_uri": "https://localhost:8080/"
        },
        "id": "WJNqiDb0gSvi",
        "outputId": "7711a352-8c8b-465b-e84c-bb5938c806af"
      },
      "source": [
        "# Checking for presence of null values\n",
        "\n",
        "titanic.isnull().sum()\n",
        "\n",
        "# There are 3 columns with missing values. "
      ],
      "execution_count": 9,
      "outputs": [
        {
          "output_type": "execute_result",
          "data": {
            "text/plain": [
              "passengerid      0\n",
              "survived         0\n",
              "pclass           0\n",
              "name             0\n",
              "sex              0\n",
              "age            177\n",
              "sibsp            0\n",
              "parch            0\n",
              "ticket           0\n",
              "fare             0\n",
              "cabin          687\n",
              "embarked         2\n",
              "dtype: int64"
            ]
          },
          "metadata": {
            "tags": []
          },
          "execution_count": 9
        }
      ]
    },
    {
      "cell_type": "code",
      "metadata": {
        "colab": {
          "base_uri": "https://localhost:8080/"
        },
        "id": "k3qhOCl_dIFW",
        "outputId": "401aa0ee-3a70-4c46-a16d-362ffea6c5d4"
      },
      "source": [
        "# Previewing the columns again\n",
        "\n",
        "titanic.columns"
      ],
      "execution_count": 10,
      "outputs": [
        {
          "output_type": "execute_result",
          "data": {
            "text/plain": [
              "Index(['passengerid', 'survived', 'pclass', 'name', 'sex', 'age', 'sibsp',\n",
              "       'parch', 'ticket', 'fare', 'cabin', 'embarked'],\n",
              "      dtype='object')"
            ]
          },
          "metadata": {
            "tags": []
          },
          "execution_count": 10
        }
      ]
    },
    {
      "cell_type": "code",
      "metadata": {
        "colab": {
          "base_uri": "https://localhost:8080/"
        },
        "id": "7qQuV8F7B2Qg",
        "outputId": "03967d4c-829f-43b7-cedd-f9b78d0d286d"
      },
      "source": [
        "# Dealing with the missing values\n",
        "# Dropping the cabin column\n",
        "\n",
        "titanic.drop('cabin', axis = 1, inplace=True)\n",
        "\n",
        "# Imputing the median for age\n",
        "\n",
        "titanic['age'] = titanic['age'].fillna(titanic['age'].median())\n",
        "\n",
        "# Foward filling the null values in the embarked columns\n",
        "\n",
        "titanic['embarked'] = titanic['embarked'].fillna(method = 'ffill')\n",
        "\n",
        "# Confirming that there are no null values\n",
        "\n",
        "titanic.isna().sum()"
      ],
      "execution_count": 11,
      "outputs": [
        {
          "output_type": "execute_result",
          "data": {
            "text/plain": [
              "passengerid    0\n",
              "survived       0\n",
              "pclass         0\n",
              "name           0\n",
              "sex            0\n",
              "age            0\n",
              "sibsp          0\n",
              "parch          0\n",
              "ticket         0\n",
              "fare           0\n",
              "embarked       0\n",
              "dtype: int64"
            ]
          },
          "metadata": {
            "tags": []
          },
          "execution_count": 11
        }
      ]
    },
    {
      "cell_type": "code",
      "metadata": {
        "colab": {
          "base_uri": "https://localhost:8080/",
          "height": 195
        },
        "id": "1ZifcAM8g4FE",
        "outputId": "5fa19d90-5f23-46d7-f77e-4f49b3165c67"
      },
      "source": [
        "# Getting a preview of the dataset\n",
        "\n",
        "titanic.head()"
      ],
      "execution_count": 12,
      "outputs": [
        {
          "output_type": "execute_result",
          "data": {
            "text/html": [
              "<div>\n",
              "<style scoped>\n",
              "    .dataframe tbody tr th:only-of-type {\n",
              "        vertical-align: middle;\n",
              "    }\n",
              "\n",
              "    .dataframe tbody tr th {\n",
              "        vertical-align: top;\n",
              "    }\n",
              "\n",
              "    .dataframe thead th {\n",
              "        text-align: right;\n",
              "    }\n",
              "</style>\n",
              "<table border=\"1\" class=\"dataframe\">\n",
              "  <thead>\n",
              "    <tr style=\"text-align: right;\">\n",
              "      <th></th>\n",
              "      <th>passengerid</th>\n",
              "      <th>survived</th>\n",
              "      <th>pclass</th>\n",
              "      <th>name</th>\n",
              "      <th>sex</th>\n",
              "      <th>age</th>\n",
              "      <th>sibsp</th>\n",
              "      <th>parch</th>\n",
              "      <th>ticket</th>\n",
              "      <th>fare</th>\n",
              "      <th>embarked</th>\n",
              "    </tr>\n",
              "  </thead>\n",
              "  <tbody>\n",
              "    <tr>\n",
              "      <th>0</th>\n",
              "      <td>1</td>\n",
              "      <td>0</td>\n",
              "      <td>3</td>\n",
              "      <td>Braund, Mr. Owen Harris</td>\n",
              "      <td>male</td>\n",
              "      <td>22.0</td>\n",
              "      <td>1</td>\n",
              "      <td>0</td>\n",
              "      <td>A/5 21171</td>\n",
              "      <td>7.2500</td>\n",
              "      <td>S</td>\n",
              "    </tr>\n",
              "    <tr>\n",
              "      <th>1</th>\n",
              "      <td>2</td>\n",
              "      <td>1</td>\n",
              "      <td>1</td>\n",
              "      <td>Cumings, Mrs. John Bradley (Florence Briggs Th...</td>\n",
              "      <td>female</td>\n",
              "      <td>38.0</td>\n",
              "      <td>1</td>\n",
              "      <td>0</td>\n",
              "      <td>PC 17599</td>\n",
              "      <td>71.2833</td>\n",
              "      <td>C</td>\n",
              "    </tr>\n",
              "    <tr>\n",
              "      <th>2</th>\n",
              "      <td>3</td>\n",
              "      <td>1</td>\n",
              "      <td>3</td>\n",
              "      <td>Heikkinen, Miss. Laina</td>\n",
              "      <td>female</td>\n",
              "      <td>26.0</td>\n",
              "      <td>0</td>\n",
              "      <td>0</td>\n",
              "      <td>STON/O2. 3101282</td>\n",
              "      <td>7.9250</td>\n",
              "      <td>S</td>\n",
              "    </tr>\n",
              "    <tr>\n",
              "      <th>3</th>\n",
              "      <td>4</td>\n",
              "      <td>1</td>\n",
              "      <td>1</td>\n",
              "      <td>Futrelle, Mrs. Jacques Heath (Lily May Peel)</td>\n",
              "      <td>female</td>\n",
              "      <td>35.0</td>\n",
              "      <td>1</td>\n",
              "      <td>0</td>\n",
              "      <td>113803</td>\n",
              "      <td>53.1000</td>\n",
              "      <td>S</td>\n",
              "    </tr>\n",
              "    <tr>\n",
              "      <th>4</th>\n",
              "      <td>5</td>\n",
              "      <td>0</td>\n",
              "      <td>3</td>\n",
              "      <td>Allen, Mr. William Henry</td>\n",
              "      <td>male</td>\n",
              "      <td>35.0</td>\n",
              "      <td>0</td>\n",
              "      <td>0</td>\n",
              "      <td>373450</td>\n",
              "      <td>8.0500</td>\n",
              "      <td>S</td>\n",
              "    </tr>\n",
              "  </tbody>\n",
              "</table>\n",
              "</div>"
            ],
            "text/plain": [
              "   passengerid  survived  pclass  ...            ticket     fare  embarked\n",
              "0            1         0       3  ...         A/5 21171   7.2500         S\n",
              "1            2         1       1  ...          PC 17599  71.2833         C\n",
              "2            3         1       3  ...  STON/O2. 3101282   7.9250         S\n",
              "3            4         1       1  ...            113803  53.1000         S\n",
              "4            5         0       3  ...            373450   8.0500         S\n",
              "\n",
              "[5 rows x 11 columns]"
            ]
          },
          "metadata": {
            "tags": []
          },
          "execution_count": 12
        }
      ]
    },
    {
      "cell_type": "code",
      "metadata": {
        "colab": {
          "base_uri": "https://localhost:8080/"
        },
        "id": "RJii5OZdhoIz",
        "outputId": "a9f90093-02c4-428a-eb93-50da6a1f2116"
      },
      "source": [
        "# Checking if there are any duplicated rows\n",
        "\n",
        "titanic.duplicated().sum()\n",
        "\n",
        "# There are no doplicates in the data"
      ],
      "execution_count": 13,
      "outputs": [
        {
          "output_type": "execute_result",
          "data": {
            "text/plain": [
              "0"
            ]
          },
          "metadata": {
            "tags": []
          },
          "execution_count": 13
        }
      ]
    },
    {
      "cell_type": "code",
      "metadata": {
        "colab": {
          "base_uri": "https://localhost:8080/"
        },
        "id": "tHFyTqExxFvP",
        "outputId": "eebe3805-7aaf-4e1c-ee69-4d12edce34b6"
      },
      "source": [
        "# Previewing the columns again\n",
        "\n",
        "titanic.columns"
      ],
      "execution_count": 14,
      "outputs": [
        {
          "output_type": "execute_result",
          "data": {
            "text/plain": [
              "Index(['passengerid', 'survived', 'pclass', 'name', 'sex', 'age', 'sibsp',\n",
              "       'parch', 'ticket', 'fare', 'embarked'],\n",
              "      dtype='object')"
            ]
          },
          "metadata": {
            "tags": []
          },
          "execution_count": 14
        }
      ]
    },
    {
      "cell_type": "code",
      "metadata": {
        "colab": {
          "base_uri": "https://localhost:8080/"
        },
        "id": "gnCGxac1TiV4",
        "outputId": "9ead4789-284e-46aa-bb73-5f47e6200665"
      },
      "source": [
        "# Checking for any anomalies in the categorical variables\n",
        "\n",
        "qcol =['survived', 'pclass', 'sex', 'sibsp', 'parch', 'embarked']\n",
        "\n",
        "for col in qcol:\n",
        "  print(col, ':', titanic[col].unique(), '\\n')\n",
        "\n",
        "# The categorical columns have no errors in their entries"
      ],
      "execution_count": 15,
      "outputs": [
        {
          "output_type": "stream",
          "text": [
            "survived : [0 1] \n",
            "\n",
            "pclass : [3 1 2] \n",
            "\n",
            "sex : ['male' 'female'] \n",
            "\n",
            "sibsp : [1 0 3 4 2 5 8] \n",
            "\n",
            "parch : [0 1 2 5 3 4 6] \n",
            "\n",
            "embarked : ['S' 'C' 'Q'] \n",
            "\n"
          ],
          "name": "stdout"
        }
      ]
    },
    {
      "cell_type": "code",
      "metadata": {
        "colab": {
          "base_uri": "https://localhost:8080/",
          "height": 993
        },
        "id": "6nJRzbosrVw0",
        "outputId": "7af97d22-52d5-41df-b969-62e4e9113f69"
      },
      "source": [
        "# Checking for Outliers\n",
        "\n",
        "numna = ['fare', 'age']\n",
        "\n",
        "for column in numna:\n",
        "    plt.figure(figsize=(8,8))\n",
        "    titanic.boxplot([column], fontsize= 14)\n",
        "    plt.ylabel('count', fontsize = 14)\n",
        "    plt.title('Boxplot - {}'.format(column), fontsize = 16)\n",
        "\n",
        "# Both age and fare have outliers"
      ],
      "execution_count": 16,
      "outputs": [
        {
          "output_type": "display_data",
          "data": {
            "image/png": "[encoded data removed]",
            "text/plain": [
              "<Figure size 576x576 with 1 Axes>"
            ]
          },
          "metadata": {
            "tags": [],
            "needs_background": "light"
          }
        },
        {
          "output_type": "display_data",
          "data": {
            "image/png": "[encoded data removed]",
            "text/plain": [
              "<Figure size 576x576 with 1 Axes>"
            ]
          },
          "metadata": {
            "tags": [],
            "needs_background": "light"
          }
        }
      ]
    },
    {
      "cell_type": "code",
      "metadata": {
        "colab": {
          "base_uri": "https://localhost:8080/"
        },
        "id": "LxRfQNleU1pv",
        "outputId": "a225d3f1-afa2-4d50-dbf1-437f59a70d48"
      },
      "source": [
        "# Determining how many rows would be lost if outliers were removed\n",
        "\n",
        "# Calculating our first, third quantiles and then later our IQR\n",
        "# ---\n",
        "Q1 = titanic.quantile(0.25)\n",
        "Q3 = titanic.quantile(0.75)\n",
        "IQR = Q3 - Q1\n",
        "\n",
        "# Removing outliers based on the IQR range\n",
        "# ---\n",
        "# \n",
        "titanic_new = titanic[~((titanic < (Q1 - 1.5 * IQR)) | (titanic > (Q3 + 1.5 * IQR))).any(axis=1)]\n",
        "\n",
        "# Printing the shape of our new dataset\n",
        "# ---\n",
        "# \n",
        "print(titanic_new.shape)\n",
        "\n",
        "# Printing the shape of our old dataset\n",
        "# ---\n",
        "#\n",
        "print(titanic.shape)\n",
        "\n",
        "# Number of rows removed\n",
        "\n",
        "rows_removed = titanic.shape[0] - titanic_new.shape[0]\n",
        "print('Number of rows removed:', rows_removed)\n",
        "\n",
        "# Percentage of rows removed of the percentage\n",
        "row_percent = (rows_removed/titanic.shape[0]) * 100\n",
        "print('Percentage of rows removed:', row_percent)\n",
        "\n",
        "# There will be no need to remove the outliers since it \n",
        "# doesn't seem like there are obvious errors in the data.\n",
        "# Furthermore, removing outliers will reduce the diversity of the dataset "
      ],
      "execution_count": 17,
      "outputs": [
        {
          "output_type": "stream",
          "text": [
            "(577, 11)\n",
            "(891, 11)\n",
            "Number of rows removed: 314\n",
            "Percentage of rows removed: 35.24130190796858\n"
          ],
          "name": "stdout"
        }
      ]
    },
    {
      "cell_type": "code",
      "metadata": {
        "id": "YbGca6TYn1wv"
      },
      "source": [
        "# Dropping the unnecessary columns\n",
        "\n",
        "titanic.drop(['ticket', 'passengerid'], axis=1, inplace=True)"
      ],
      "execution_count": 18,
      "outputs": []
    },
    {
      "cell_type": "code",
      "metadata": {
        "colab": {
          "base_uri": "https://localhost:8080/",
          "height": 195
        },
        "id": "GLDq9sduodDr",
        "outputId": "779390d3-f38f-4dfe-e380-635077568937"
      },
      "source": [
        "# Feature extraction\n",
        "# Splitting the name column to get only the title\n",
        "\n",
        "title = [i.split(\",\")[1].split(\".\")[0].strip() for i in titanic['name']]\n",
        "\n",
        "titanic['title'] = pd.Series(title)\n",
        "\n",
        "titanic.head()"
      ],
      "execution_count": 19,
      "outputs": [
        {
          "output_type": "execute_result",
          "data": {
            "text/html": [
              "<div>\n",
              "<style scoped>\n",
              "    .dataframe tbody tr th:only-of-type {\n",
              "        vertical-align: middle;\n",
              "    }\n",
              "\n",
              "    .dataframe tbody tr th {\n",
              "        vertical-align: top;\n",
              "    }\n",
              "\n",
              "    .dataframe thead th {\n",
              "        text-align: right;\n",
              "    }\n",
              "</style>\n",
              "<table border=\"1\" class=\"dataframe\">\n",
              "  <thead>\n",
              "    <tr style=\"text-align: right;\">\n",
              "      <th></th>\n",
              "      <th>survived</th>\n",
              "      <th>pclass</th>\n",
              "      <th>name</th>\n",
              "      <th>sex</th>\n",
              "      <th>age</th>\n",
              "      <th>sibsp</th>\n",
              "      <th>parch</th>\n",
              "      <th>fare</th>\n",
              "      <th>embarked</th>\n",
              "      <th>title</th>\n",
              "    </tr>\n",
              "  </thead>\n",
              "  <tbody>\n",
              "    <tr>\n",
              "      <th>0</th>\n",
              "      <td>0</td>\n",
              "      <td>3</td>\n",
              "      <td>Braund, Mr. Owen Harris</td>\n",
              "      <td>male</td>\n",
              "      <td>22.0</td>\n",
              "      <td>1</td>\n",
              "      <td>0</td>\n",
              "      <td>7.2500</td>\n",
              "      <td>S</td>\n",
              "      <td>Mr</td>\n",
              "    </tr>\n",
              "    <tr>\n",
              "      <th>1</th>\n",
              "      <td>1</td>\n",
              "      <td>1</td>\n",
              "      <td>Cumings, Mrs. John Bradley (Florence Briggs Th...</td>\n",
              "      <td>female</td>\n",
              "      <td>38.0</td>\n",
              "      <td>1</td>\n",
              "      <td>0</td>\n",
              "      <td>71.2833</td>\n",
              "      <td>C</td>\n",
              "      <td>Mrs</td>\n",
              "    </tr>\n",
              "    <tr>\n",
              "      <th>2</th>\n",
              "      <td>1</td>\n",
              "      <td>3</td>\n",
              "      <td>Heikkinen, Miss. Laina</td>\n",
              "      <td>female</td>\n",
              "      <td>26.0</td>\n",
              "      <td>0</td>\n",
              "      <td>0</td>\n",
              "      <td>7.9250</td>\n",
              "      <td>S</td>\n",
              "      <td>Miss</td>\n",
              "    </tr>\n",
              "    <tr>\n",
              "      <th>3</th>\n",
              "      <td>1</td>\n",
              "      <td>1</td>\n",
              "      <td>Futrelle, Mrs. Jacques Heath (Lily May Peel)</td>\n",
              "      <td>female</td>\n",
              "      <td>35.0</td>\n",
              "      <td>1</td>\n",
              "      <td>0</td>\n",
              "      <td>53.1000</td>\n",
              "      <td>S</td>\n",
              "      <td>Mrs</td>\n",
              "    </tr>\n",
              "    <tr>\n",
              "      <th>4</th>\n",
              "      <td>0</td>\n",
              "      <td>3</td>\n",
              "      <td>Allen, Mr. William Henry</td>\n",
              "      <td>male</td>\n",
              "      <td>35.0</td>\n",
              "      <td>0</td>\n",
              "      <td>0</td>\n",
              "      <td>8.0500</td>\n",
              "      <td>S</td>\n",
              "      <td>Mr</td>\n",
              "    </tr>\n",
              "  </tbody>\n",
              "</table>\n",
              "</div>"
            ],
            "text/plain": [
              "   survived  pclass  ... embarked title\n",
              "0         0       3  ...        S    Mr\n",
              "1         1       1  ...        C   Mrs\n",
              "2         1       3  ...        S  Miss\n",
              "3         1       1  ...        S   Mrs\n",
              "4         0       3  ...        S    Mr\n",
              "\n",
              "[5 rows x 10 columns]"
            ]
          },
          "metadata": {
            "tags": []
          },
          "execution_count": 19
        }
      ]
    },
    {
      "cell_type": "code",
      "metadata": {
        "colab": {
          "base_uri": "https://localhost:8080/",
          "height": 195
        },
        "id": "ucL27q26slmt",
        "outputId": "cc81ef8d-a873-4e2d-a793-b1afdc460745"
      },
      "source": [
        "# Dropping the name column\n",
        "\n",
        "titanic.drop('name', axis=1, inplace=True)\n",
        "\n",
        "# Checking on the columns again\n",
        "titanic.head()"
      ],
      "execution_count": 20,
      "outputs": [
        {
          "output_type": "execute_result",
          "data": {
            "text/html": [
              "<div>\n",
              "<style scoped>\n",
              "    .dataframe tbody tr th:only-of-type {\n",
              "        vertical-align: middle;\n",
              "    }\n",
              "\n",
              "    .dataframe tbody tr th {\n",
              "        vertical-align: top;\n",
              "    }\n",
              "\n",
              "    .dataframe thead th {\n",
              "        text-align: right;\n",
              "    }\n",
              "</style>\n",
              "<table border=\"1\" class=\"dataframe\">\n",
              "  <thead>\n",
              "    <tr style=\"text-align: right;\">\n",
              "      <th></th>\n",
              "      <th>survived</th>\n",
              "      <th>pclass</th>\n",
              "      <th>sex</th>\n",
              "      <th>age</th>\n",
              "      <th>sibsp</th>\n",
              "      <th>parch</th>\n",
              "      <th>fare</th>\n",
              "      <th>embarked</th>\n",
              "      <th>title</th>\n",
              "    </tr>\n",
              "  </thead>\n",
              "  <tbody>\n",
              "    <tr>\n",
              "      <th>0</th>\n",
              "      <td>0</td>\n",
              "      <td>3</td>\n",
              "      <td>male</td>\n",
              "      <td>22.0</td>\n",
              "      <td>1</td>\n",
              "      <td>0</td>\n",
              "      <td>7.2500</td>\n",
              "      <td>S</td>\n",
              "      <td>Mr</td>\n",
              "    </tr>\n",
              "    <tr>\n",
              "      <th>1</th>\n",
              "      <td>1</td>\n",
              "      <td>1</td>\n",
              "      <td>female</td>\n",
              "      <td>38.0</td>\n",
              "      <td>1</td>\n",
              "      <td>0</td>\n",
              "      <td>71.2833</td>\n",
              "      <td>C</td>\n",
              "      <td>Mrs</td>\n",
              "    </tr>\n",
              "    <tr>\n",
              "      <th>2</th>\n",
              "      <td>1</td>\n",
              "      <td>3</td>\n",
              "      <td>female</td>\n",
              "      <td>26.0</td>\n",
              "      <td>0</td>\n",
              "      <td>0</td>\n",
              "      <td>7.9250</td>\n",
              "      <td>S</td>\n",
              "      <td>Miss</td>\n",
              "    </tr>\n",
              "    <tr>\n",
              "      <th>3</th>\n",
              "      <td>1</td>\n",
              "      <td>1</td>\n",
              "      <td>female</td>\n",
              "      <td>35.0</td>\n",
              "      <td>1</td>\n",
              "      <td>0</td>\n",
              "      <td>53.1000</td>\n",
              "      <td>S</td>\n",
              "      <td>Mrs</td>\n",
              "    </tr>\n",
              "    <tr>\n",
              "      <th>4</th>\n",
              "      <td>0</td>\n",
              "      <td>3</td>\n",
              "      <td>male</td>\n",
              "      <td>35.0</td>\n",
              "      <td>0</td>\n",
              "      <td>0</td>\n",
              "      <td>8.0500</td>\n",
              "      <td>S</td>\n",
              "      <td>Mr</td>\n",
              "    </tr>\n",
              "  </tbody>\n",
              "</table>\n",
              "</div>"
            ],
            "text/plain": [
              "   survived  pclass     sex   age  sibsp  parch     fare embarked title\n",
              "0         0       3    male  22.0      1      0   7.2500        S    Mr\n",
              "1         1       1  female  38.0      1      0  71.2833        C   Mrs\n",
              "2         1       3  female  26.0      0      0   7.9250        S  Miss\n",
              "3         1       1  female  35.0      1      0  53.1000        S   Mrs\n",
              "4         0       3    male  35.0      0      0   8.0500        S    Mr"
            ]
          },
          "metadata": {
            "tags": []
          },
          "execution_count": 20
        }
      ]
    },
    {
      "cell_type": "markdown",
      "metadata": {
        "id": "hKEgp4tisMLz"
      },
      "source": [
        "## 6. Exploratory Data Analysis"
      ]
    },
    {
      "cell_type": "markdown",
      "metadata": {
        "id": "a7vEdTzIsRoB"
      },
      "source": [
        "### a) Univariate Analysis"
      ]
    },
    {
      "cell_type": "code",
      "metadata": {
        "colab": {
          "base_uri": "https://localhost:8080/"
        },
        "id": "xXwwxR1qr0xK",
        "outputId": "0686d270-a2f3-4a30-c860-ada21dc52d6e"
      },
      "source": [
        "# Previewing the columns\n",
        "\n",
        "titanic.columns"
      ],
      "execution_count": 21,
      "outputs": [
        {
          "output_type": "execute_result",
          "data": {
            "text/plain": [
              "Index(['survived', 'pclass', 'sex', 'age', 'sibsp', 'parch', 'fare',\n",
              "       'embarked', 'title'],\n",
              "      dtype='object')"
            ]
          },
          "metadata": {
            "tags": []
          },
          "execution_count": 21
        }
      ]
    },
    {
      "cell_type": "code",
      "metadata": {
        "colab": {
          "base_uri": "https://localhost:8080/",
          "height": 1000
        },
        "id": "qAT5Lq44oq2h",
        "outputId": "cf059abd-791f-488d-a5ed-f042f4ff0921"
      },
      "source": [
        "# Countplots for the categorical columns\n",
        "\n",
        "qcol = ['survived', 'pclass', 'sex', 'sibsp', 'parch',\n",
        "       'embarked']\n",
        "\n",
        "for i in qcol:\n",
        "  plt.figure(figsize= (8,8))\n",
        "  sns.countplot(x = titanic[i])\n",
        "  plt.title('Countplot - {}'.format(i), fontsize = 16)\n",
        "  plt.xlabel(i , fontsize = 14)\n",
        "  plt.ylabel('Count', fontsize = 14)\n",
        "  plt.xticks(fontsize = 14)\n",
        "  plt.yticks(fontsize = 14)\n",
        "  plt.show()"
      ],
      "execution_count": 22,
      "outputs": [
        {
          "output_type": "display_data",
          "data": {
            "image/png": "[encoded data removed]",
            "text/plain": [
              "<Figure size 576x576 with 1 Axes>"
            ]
          },
          "metadata": {
            "tags": [],
            "needs_background": "light"
          }
        },
        {
          "output_type": "display_data",
          "data": {
            "image/png": "[encoded data removed]",
            "text/plain": [
              "<Figure size 576x576 with 1 Axes>"
            ]
          },
          "metadata": {
            "tags": [],
            "needs_background": "light"
          }
        },
        {
          "output_type": "display_data",
          "data": {
            "image/png": "[encoded data removed]",
            "text/plain": [
              "<Figure size 576x576 with 1 Axes>"
            ]
          },
          "metadata": {
            "tags": [],
            "needs_background": "light"
          }
        },
        {
          "output_type": "display_data",
          "data": {
            "image/png": "[encoded data removed]",
            "text/plain": [
              "<Figure size 576x576 with 1 Axes>"
            ]
          },
          "metadata": {
            "tags": [],
            "needs_background": "light"
          }
        },
        {
          "output_type": "display_data",
          "data": {
            "image/png": "[encoded data removed]",
            "text/plain": [
              "<Figure size 576x576 with 1 Axes>"
            ]
          },
          "metadata": {
            "tags": [],
            "needs_background": "light"
          }
        },
        {
          "output_type": "display_data",
          "data": {
            "image/png": "[encoded data removed]",
            "text/plain": [
              "<Figure size 576x576 with 1 Axes>"
            ]
          },
          "metadata": {
            "tags": [],
            "needs_background": "light"
          }
        }
      ]
    },
    {
      "cell_type": "markdown",
      "metadata": {
        "id": "RTX6pMg2wNuR"
      },
      "source": [
        "From these countplots, we can make the following observations:\n",
        "Of the total number recorded\n",
        "\n",
        "* Those who did not survive were more than those who did. Approximately 600 passengers did not survive while about 300 passengers survived\n",
        "* Most of the passengers were in ticket class(pclass) 3 followed by passengers in ticket class 1. Ticket class 2 had the least number of passengers.\n",
        "* Of the total number of passengers, about 560 passengers were male and 300 were female.\n",
        "* Approximately 600 passengers had no siblings or spouses(sibsp) on board. About 200 passengers had 1 sibling or spouse on board.\n",
        "* More than 650 passengers had no parent or child(parch) on board\n",
        "*Approximately 650 passengers embarked from Southampton port(S), about 180 passengers from the Cherbourg(C) port while less than 100 passengers from the Queenstown port(Q)."
      ]
    },
    {
      "cell_type": "code",
      "metadata": {
        "colab": {
          "base_uri": "https://localhost:8080/"
        },
        "id": "eQ68UEoJhx5I",
        "outputId": "9923a032-df98-4622-b3bd-ab06a84f119c"
      },
      "source": [
        "# Frequency of the titles\n",
        "\n",
        "titanic['title'].value_counts()\n",
        "\n",
        "# All the titles from Master to Don I will title as 'Other'"
      ],
      "execution_count": 23,
      "outputs": [
        {
          "output_type": "execute_result",
          "data": {
            "text/plain": [
              "Mr              517\n",
              "Miss            182\n",
              "Mrs             125\n",
              "Master           40\n",
              "Dr                7\n",
              "Rev               6\n",
              "Mlle              2\n",
              "Col               2\n",
              "Major             2\n",
              "Sir               1\n",
              "the Countess      1\n",
              "Jonkheer          1\n",
              "Ms                1\n",
              "Lady              1\n",
              "Mme               1\n",
              "Don               1\n",
              "Capt              1\n",
              "Name: title, dtype: int64"
            ]
          },
          "metadata": {
            "tags": []
          },
          "execution_count": 23
        }
      ]
    },
    {
      "cell_type": "code",
      "metadata": {
        "colab": {
          "base_uri": "https://localhost:8080/"
        },
        "id": "cFHlQyXTjMUU",
        "outputId": "b08ba7a0-05d0-40d5-e3c2-ccf6bf833aaf"
      },
      "source": [
        "titanic['title'].unique()"
      ],
      "execution_count": 24,
      "outputs": [
        {
          "output_type": "execute_result",
          "data": {
            "text/plain": [
              "array(['Mr', 'Mrs', 'Miss', 'Master', 'Don', 'Rev', 'Dr', 'Mme', 'Ms',\n",
              "       'Major', 'Lady', 'Sir', 'Mlle', 'Col', 'Capt', 'the Countess',\n",
              "       'Jonkheer'], dtype=object)"
            ]
          },
          "metadata": {
            "tags": []
          },
          "execution_count": 24
        }
      ]
    },
    {
      "cell_type": "code",
      "metadata": {
        "colab": {
          "base_uri": "https://localhost:8080/"
        },
        "id": "0Zd8wV68ig6Y",
        "outputId": "59c02c15-55ed-47fc-e2ab-5ca3dfd9c555"
      },
      "source": [
        "# Replacing the less popular titles with other\n",
        "\n",
        "other = ['Master', 'Don', 'Rev', 'Dr', 'Mme', 'Ms',\n",
        "       'Major', 'Lady', 'Sir', 'Mlle', 'Col', 'Capt', 'the Countess',\n",
        "       'Jonkheer']\n",
        "\n",
        "titanic['title'] = titanic['title'].replace(other, 'Other')\n",
        "\n",
        "titanic['title'].value_counts()\n",
        "\n",
        "# Most of the passengers went by the title Mr while 67 of the \n",
        "# went by the less common titles like Mademoiselle, Jonkheer and so forth"
      ],
      "execution_count": 25,
      "outputs": [
        {
          "output_type": "execute_result",
          "data": {
            "text/plain": [
              "Mr       517\n",
              "Miss     182\n",
              "Mrs      125\n",
              "Other     67\n",
              "Name: title, dtype: int64"
            ]
          },
          "metadata": {
            "tags": []
          },
          "execution_count": 25
        }
      ]
    },
    {
      "cell_type": "code",
      "metadata": {
        "colab": {
          "base_uri": "https://localhost:8080/",
          "height": 523
        },
        "id": "rqgAxohLBjAQ",
        "outputId": "40b29833-8dd4-4dd9-cc90-a33da9d6ce9e"
      },
      "source": [
        "# Histogram on age to see the shape of the distribution\n",
        "\n",
        "def histogram(var1, bins):\n",
        "  plt.figure(figsize= (10,8)),\n",
        "  sns.set_style('darkgrid'),\n",
        "  sns.set_palette('colorblind'),\n",
        "  sns.histplot(x = var1, data=titanic,  bins = bins , shrink= 0.9, kde = True)\n",
        "\n",
        "histogram('age', 60)\n",
        "plt.title('Histogram of age of passengers', fontsize = 16)\n",
        "plt.xlabel('Age', fontsize = 14)\n",
        "plt.ylabel('Count', fontsize = 14)\n",
        "plt.xticks(fontsize = 14)\n",
        "plt.yticks(fontsize = 14)\n",
        "plt.show()\n",
        "\n"
      ],
      "execution_count": 26,
      "outputs": [
        {
          "output_type": "display_data",
          "data": {
            "image/png": "[encoded data removed]",
            "text/plain": [
              "<Figure size 720x576 with 1 Axes>"
            ]
          },
          "metadata": {
            "tags": [],
            "needs_background": "light"
          }
        }
      ]
    },
    {
      "cell_type": "code",
      "metadata": {
        "colab": {
          "base_uri": "https://localhost:8080/"
        },
        "id": "ynTcE2DXDjPo",
        "outputId": "bcad4823-57f9-4a73-cc51-3ff8e9743e1c"
      },
      "source": [
        "# Measures of central tendency\n",
        "\n",
        "titanic['age'].describe()\n",
        "\n",
        "# The mean age is 29 \n",
        "# The maximum age is 80\n",
        "# The minimum age is 0.42\n",
        "# 25% of passengers are aged below 22 while 50% of passengers are aged below\n",
        "# 28 and 75% of passengers are aged below 35"
      ],
      "execution_count": 27,
      "outputs": [
        {
          "output_type": "execute_result",
          "data": {
            "text/plain": [
              "count    891.000000\n",
              "mean      29.361582\n",
              "std       13.019697\n",
              "min        0.420000\n",
              "25%       22.000000\n",
              "50%       28.000000\n",
              "75%       35.000000\n",
              "max       80.000000\n",
              "Name: age, dtype: float64"
            ]
          },
          "metadata": {
            "tags": []
          },
          "execution_count": 27
        }
      ]
    },
    {
      "cell_type": "code",
      "metadata": {
        "colab": {
          "base_uri": "https://localhost:8080/"
        },
        "id": "iXNSNm-lKGUM",
        "outputId": "1d5699e6-2e8d-4352-8082-fa096307a75b"
      },
      "source": [
        "# Defining a variable to calculate variation\n",
        "\n",
        "def variation(var):\n",
        "  print('The skewness is:', titanic[var].skew())\n",
        "  print('The kurtosis is:', titanic[var].kurt())\n",
        "  print('The coefficient of variation is:', titanic[var].std()/titanic[var].mean())\n",
        "\n",
        "# Checking on coefficent of variance, skewness and kurtosis\n",
        "\n",
        "variation('age')\n",
        "\n",
        "# The distribution is fairly symmetrical and is slightly leptokurtic.\n",
        "# There is low variance in the age of the passengers"
      ],
      "execution_count": 28,
      "outputs": [
        {
          "output_type": "stream",
          "text": [
            "The skewness is: 0.5102446555756495\n",
            "The kurtosis is: 0.9938710163801736\n",
            "The coefficient of variation is: 0.443426254518323\n"
          ],
          "name": "stdout"
        }
      ]
    },
    {
      "cell_type": "code",
      "metadata": {
        "colab": {
          "base_uri": "https://localhost:8080/",
          "height": 523
        },
        "id": "qCRS-q6dFrBQ",
        "outputId": "e4b6c1f4-8c58-4ecb-bd13-aab3f2699037"
      },
      "source": [
        "# Histogram of passenger fare\n",
        "\n",
        "histogram('fare', 60)\n",
        "plt.title('Histogram of passenger fare', fontsize = 16)\n",
        "plt.xlabel('Fare', fontsize = 14)\n",
        "plt.ylabel('Count', fontsize = 14)\n",
        "plt.xticks(fontsize = 14)\n",
        "plt.yticks(fontsize = 14)\n",
        "plt.show()\n"
      ],
      "execution_count": 29,
      "outputs": [
        {
          "output_type": "display_data",
          "data": {
            "image/png": "[encoded data removed]",
            "text/plain": [
              "<Figure size 720x576 with 1 Axes>"
            ]
          },
          "metadata": {
            "tags": []
          }
        }
      ]
    },
    {
      "cell_type": "code",
      "metadata": {
        "colab": {
          "base_uri": "https://localhost:8080/"
        },
        "id": "C-sEQ6uNHUgq",
        "outputId": "e341b673-ba1e-4da0-cdb7-8135cfe89063"
      },
      "source": [
        "# Measures of central tendency\n",
        "\n",
        "titanic['fare'].describe()\n",
        "\n",
        "# The mean fare is 32.2 \n",
        "# The maximum fare  is 512\n",
        "# The minimum fare is 0\n",
        "# 25% of passenger fares are below 7.9 while 50% of pasenger fares are below\n",
        "# 14 and 75% of passenger fares are below 31.\n",
        "\n",
        "# The fare price of 512 represents the prce for the luxury tickets. It is not an error"
      ],
      "execution_count": 30,
      "outputs": [
        {
          "output_type": "execute_result",
          "data": {
            "text/plain": [
              "count    891.000000\n",
              "mean      32.204208\n",
              "std       49.693429\n",
              "min        0.000000\n",
              "25%        7.910400\n",
              "50%       14.454200\n",
              "75%       31.000000\n",
              "max      512.329200\n",
              "Name: fare, dtype: float64"
            ]
          },
          "metadata": {
            "tags": []
          },
          "execution_count": 30
        }
      ]
    },
    {
      "cell_type": "code",
      "metadata": {
        "colab": {
          "base_uri": "https://localhost:8080/"
        },
        "id": "4SiI7TkY5Omt",
        "outputId": "342ed868-86d7-4c05-f601-42501d443fef"
      },
      "source": [
        "# Checking on coefficent of variance, skewness and kurtosis\n",
        "\n",
        "variation('fare')\n",
        "\n",
        "# The distribution is skewed to the right and is leptokurtic.\n",
        "# There is high variance in fare values"
      ],
      "execution_count": 31,
      "outputs": [
        {
          "output_type": "stream",
          "text": [
            "The skewness is: 4.787316519674893\n",
            "The kurtosis is: 33.39814088089868\n",
            "The coefficient of variation is: 1.5430725278408517\n"
          ],
          "name": "stdout"
        }
      ]
    },
    {
      "cell_type": "markdown",
      "metadata": {
        "id": "MTfYjlQV9_GU"
      },
      "source": [
        "### b) Bivariate Analysis"
      ]
    },
    {
      "cell_type": "code",
      "metadata": {
        "colab": {
          "base_uri": "https://localhost:8080/"
        },
        "id": "5ud6_d-axjUr",
        "outputId": "ab04dfde-f62a-40be-89de-54269ac6fc0d"
      },
      "source": [
        "# Preview of the coluns\n",
        "\n",
        "titanic.columns"
      ],
      "execution_count": 32,
      "outputs": [
        {
          "output_type": "execute_result",
          "data": {
            "text/plain": [
              "Index(['survived', 'pclass', 'sex', 'age', 'sibsp', 'parch', 'fare',\n",
              "       'embarked', 'title'],\n",
              "      dtype='object')"
            ]
          },
          "metadata": {
            "tags": []
          },
          "execution_count": 32
        }
      ]
    },
    {
      "cell_type": "code",
      "metadata": {
        "colab": {
          "base_uri": "https://localhost:8080/",
          "height": 1000
        },
        "id": "WRQuQiI7OaL-",
        "outputId": "d4678210-7729-400e-d6d0-d1c9fa97087e"
      },
      "source": [
        "# Bar charts to compare the whether a passenger survived vs the different categorical variables \n",
        "qcol1 =['pclass', 'sex', 'sibsp', 'parch',\n",
        "       'embarked', 'title']\n",
        "\n",
        "for i in qcol1:\n",
        "  table=pd.crosstab(titanic[i],titanic['survived'])\n",
        "  table.div(table.sum(1).astype(float), axis=0).plot(kind='bar', figsize = (10,8), stacked=False)\n",
        "  plt.title('Bar Chart of Survived vs {}'.format(i), fontsize = 16)\n",
        "  plt.xlabel(i, fontsize = 14)\n",
        "  plt.ylabel('Proportion of Respondents', fontsize = 14)\n",
        "  plt.xticks(rotation = 360, fontsize = 14)\n",
        "  plt.yticks(fontsize = 14)\n",
        "  plt.show()\n",
        "  print(' ')\n",
        "  print(' ')\n"
      ],
      "execution_count": 33,
      "outputs": [
        {
          "output_type": "display_data",
          "data": {
            "image/png": "[encoded data removed]",
            "text/plain": [
              "<Figure size 720x576 with 1 Axes>"
            ]
          },
          "metadata": {
            "tags": []
          }
        },
        {
          "output_type": "stream",
          "text": [
            " \n",
            " \n"
          ],
          "name": "stdout"
        },
        {
          "output_type": "display_data",
          "data": {
            "image/png": "[encoded data removed]",
            "text/plain": [
              "<Figure size 720x576 with 1 Axes>"
            ]
          },
          "metadata": {
            "tags": []
          }
        },
        {
          "output_type": "stream",
          "text": [
            " \n",
            " \n"
          ],
          "name": "stdout"
        },
        {
          "output_type": "display_data",
          "data": {
            "image/png": "[encoded data removed]",
            "text/plain": [
              "<Figure size 720x576 with 1 Axes>"
            ]
          },
          "metadata": {
            "tags": []
          }
        },
        {
          "output_type": "stream",
          "text": [
            " \n",
            " \n"
          ],
          "name": "stdout"
        },
        {
          "output_type": "display_data",
          "data": {
            "image/png": "[encoded data removed]",
            "text/plain": [
              "<Figure size 720x576 with 1 Axes>"
            ]
          },
          "metadata": {
            "tags": []
          }
        },
        {
          "output_type": "stream",
          "text": [
            " \n",
            " \n"
          ],
          "name": "stdout"
        },
        {
          "output_type": "display_data",
          "data": {
            "image/png": "[encoded data removed]",
            "text/plain": [
              "<Figure size 720x576 with 1 Axes>"
            ]
          },
          "metadata": {
            "tags": []
          }
        },
        {
          "output_type": "stream",
          "text": [
            " \n",
            " \n"
          ],
          "name": "stdout"
        },
        {
          "output_type": "display_data",
          "data": {
            "image/png": "[encoded data removed]",
            "text/plain": [
              "<Figure size 720x576 with 1 Axes>"
            ]
          },
          "metadata": {
            "tags": []
          }
        },
        {
          "output_type": "stream",
          "text": [
            " \n",
            " \n"
          ],
          "name": "stdout"
        }
      ]
    },
    {
      "cell_type": "markdown",
      "metadata": {
        "id": "TUkYFbytjXrI"
      },
      "source": [
        "The observations made from the graphs above are:\n",
        "\n",
        "- 62% of those in ticket class 1 survived, 48% of those in ticket class 2 survived and only 25% of those in ticket class 3 survived.\n",
        "- More than 70% of females survived while less than 20% of males survived.\n",
        "- All of those who had 8 or 5 siblings or spouses on board died. Almost 70% of those who had no siblings or spouses on board did not survive.\n",
        "- More than 65% of those who had no parents or children on board died. However, the number of passengers who survived was higher for those who had 1 or 3 parents or siblings.\n",
        "- Of those who embarked from Cherbourg port 55% survived. Of those who embarked from Queenstown port, 40% survived and of those who embarked from Southampton Port, about 34% survived.  \n",
        "- The number of passengers who survived was higher for those who took the title 'Mrs', 'Miss' or had other less common titles. Less than 20% of individuals with the title 'Mr' survived"
      ]
    },
    {
      "cell_type": "code",
      "metadata": {
        "colab": {
          "base_uri": "https://localhost:8080/",
          "height": 166
        },
        "id": "O3CrJRRByZx4",
        "outputId": "1754ee23-dc1a-43a7-a462-f8ac45b5ee43"
      },
      "source": [
        "# Looking at the relationship between fare and the port that\n",
        "# the passengers embarked from\n",
        "\n",
        "titanic.groupby('embarked')['fare'].describe()\n",
        "\n",
        "# Those who embarked from Cherbourg paid more on average than those who embarked \n",
        "# from the other 2 ports."
      ],
      "execution_count": 34,
      "outputs": [
        {
          "output_type": "execute_result",
          "data": {
            "text/html": [
              "<div>\n",
              "<style scoped>\n",
              "    .dataframe tbody tr th:only-of-type {\n",
              "        vertical-align: middle;\n",
              "    }\n",
              "\n",
              "    .dataframe tbody tr th {\n",
              "        vertical-align: top;\n",
              "    }\n",
              "\n",
              "    .dataframe thead th {\n",
              "        text-align: right;\n",
              "    }\n",
              "</style>\n",
              "<table border=\"1\" class=\"dataframe\">\n",
              "  <thead>\n",
              "    <tr style=\"text-align: right;\">\n",
              "      <th></th>\n",
              "      <th>count</th>\n",
              "      <th>mean</th>\n",
              "      <th>std</th>\n",
              "      <th>min</th>\n",
              "      <th>25%</th>\n",
              "      <th>50%</th>\n",
              "      <th>75%</th>\n",
              "      <th>max</th>\n",
              "    </tr>\n",
              "    <tr>\n",
              "      <th>embarked</th>\n",
              "      <th></th>\n",
              "      <th></th>\n",
              "      <th></th>\n",
              "      <th></th>\n",
              "      <th></th>\n",
              "      <th></th>\n",
              "      <th></th>\n",
              "      <th></th>\n",
              "    </tr>\n",
              "  </thead>\n",
              "  <tbody>\n",
              "    <tr>\n",
              "      <th>C</th>\n",
              "      <td>169.0</td>\n",
              "      <td>60.072759</td>\n",
              "      <td>83.677089</td>\n",
              "      <td>4.0125</td>\n",
              "      <td>13.7917</td>\n",
              "      <td>29.70</td>\n",
              "      <td>79.2</td>\n",
              "      <td>512.3292</td>\n",
              "    </tr>\n",
              "    <tr>\n",
              "      <th>Q</th>\n",
              "      <td>78.0</td>\n",
              "      <td>14.131465</td>\n",
              "      <td>15.992637</td>\n",
              "      <td>6.7500</td>\n",
              "      <td>7.7500</td>\n",
              "      <td>7.75</td>\n",
              "      <td>15.5</td>\n",
              "      <td>90.0000</td>\n",
              "    </tr>\n",
              "    <tr>\n",
              "      <th>S</th>\n",
              "      <td>644.0</td>\n",
              "      <td>27.079812</td>\n",
              "      <td>35.887993</td>\n",
              "      <td>0.0000</td>\n",
              "      <td>8.0500</td>\n",
              "      <td>13.00</td>\n",
              "      <td>27.9</td>\n",
              "      <td>263.0000</td>\n",
              "    </tr>\n",
              "  </tbody>\n",
              "</table>\n",
              "</div>"
            ],
            "text/plain": [
              "          count       mean        std     min      25%    50%   75%       max\n",
              "embarked                                                                     \n",
              "C         169.0  60.072759  83.677089  4.0125  13.7917  29.70  79.2  512.3292\n",
              "Q          78.0  14.131465  15.992637  6.7500   7.7500   7.75  15.5   90.0000\n",
              "S         644.0  27.079812  35.887993  0.0000   8.0500  13.00  27.9  263.0000"
            ]
          },
          "metadata": {
            "tags": []
          },
          "execution_count": 34
        }
      ]
    },
    {
      "cell_type": "code",
      "metadata": {
        "colab": {
          "base_uri": "https://localhost:8080/",
          "height": 136
        },
        "id": "4wcHJHYb08Za",
        "outputId": "2cca8fe4-cde5-45e3-c17e-cebeee3db1fa"
      },
      "source": [
        "# Looking at the relationship between fare and sex\n",
        "\n",
        "titanic.groupby('sex')['fare'].describe()\n",
        "\n",
        "# Females paid more on average than men"
      ],
      "execution_count": 35,
      "outputs": [
        {
          "output_type": "execute_result",
          "data": {
            "text/html": [
              "<div>\n",
              "<style scoped>\n",
              "    .dataframe tbody tr th:only-of-type {\n",
              "        vertical-align: middle;\n",
              "    }\n",
              "\n",
              "    .dataframe tbody tr th {\n",
              "        vertical-align: top;\n",
              "    }\n",
              "\n",
              "    .dataframe thead th {\n",
              "        text-align: right;\n",
              "    }\n",
              "</style>\n",
              "<table border=\"1\" class=\"dataframe\">\n",
              "  <thead>\n",
              "    <tr style=\"text-align: right;\">\n",
              "      <th></th>\n",
              "      <th>count</th>\n",
              "      <th>mean</th>\n",
              "      <th>std</th>\n",
              "      <th>min</th>\n",
              "      <th>25%</th>\n",
              "      <th>50%</th>\n",
              "      <th>75%</th>\n",
              "      <th>max</th>\n",
              "    </tr>\n",
              "    <tr>\n",
              "      <th>sex</th>\n",
              "      <th></th>\n",
              "      <th></th>\n",
              "      <th></th>\n",
              "      <th></th>\n",
              "      <th></th>\n",
              "      <th></th>\n",
              "      <th></th>\n",
              "      <th></th>\n",
              "    </tr>\n",
              "  </thead>\n",
              "  <tbody>\n",
              "    <tr>\n",
              "      <th>female</th>\n",
              "      <td>314.0</td>\n",
              "      <td>44.479818</td>\n",
              "      <td>57.997698</td>\n",
              "      <td>6.75</td>\n",
              "      <td>12.071875</td>\n",
              "      <td>23.0</td>\n",
              "      <td>55.00</td>\n",
              "      <td>512.3292</td>\n",
              "    </tr>\n",
              "    <tr>\n",
              "      <th>male</th>\n",
              "      <td>577.0</td>\n",
              "      <td>25.523893</td>\n",
              "      <td>43.138263</td>\n",
              "      <td>0.00</td>\n",
              "      <td>7.895800</td>\n",
              "      <td>10.5</td>\n",
              "      <td>26.55</td>\n",
              "      <td>512.3292</td>\n",
              "    </tr>\n",
              "  </tbody>\n",
              "</table>\n",
              "</div>"
            ],
            "text/plain": [
              "        count       mean        std   min        25%   50%    75%       max\n",
              "sex                                                                        \n",
              "female  314.0  44.479818  57.997698  6.75  12.071875  23.0  55.00  512.3292\n",
              "male    577.0  25.523893  43.138263  0.00   7.895800  10.5  26.55  512.3292"
            ]
          },
          "metadata": {
            "tags": []
          },
          "execution_count": 35
        }
      ]
    },
    {
      "cell_type": "code",
      "metadata": {
        "colab": {
          "base_uri": "https://localhost:8080/",
          "height": 523
        },
        "id": "9q-NF2sVoYzD",
        "outputId": "b8ecf73c-07da-44b8-ad94-199237c33ce5"
      },
      "source": [
        "# Comparing age and survival status\n",
        "\n",
        "plt.figure(figsize=(10,8))\n",
        "sns.boxplot(x = titanic['survived'], y= titanic['age'])\n",
        "plt.title('Age vs survival status', fontsize = 16)\n",
        "plt.xlabel('Survival status', fontsize = 14)\n",
        "plt.ylabel('Age', fontsize = 14)\n",
        "plt.xticks(fontsize = 14)\n",
        "plt.yticks(fontsize = 14)\n",
        "plt.show()\n",
        "\n",
        "# There is not much of a difference in the ages for those who survived and those that\n",
        "# did not survive."
      ],
      "execution_count": 36,
      "outputs": [
        {
          "output_type": "display_data",
          "data": {
            "image/png": "[encoded data removed]",
            "text/plain": [
              "<Figure size 720x576 with 1 Axes>"
            ]
          },
          "metadata": {
            "tags": []
          }
        }
      ]
    },
    {
      "cell_type": "code",
      "metadata": {
        "colab": {
          "base_uri": "https://localhost:8080/",
          "height": 523
        },
        "id": "xli8Lz1a6GDb",
        "outputId": "8cefe2d5-17a3-4c16-9627-73048fd42355"
      },
      "source": [
        "# Comparing fare and survival status\n",
        "\n",
        "plt.figure(figsize=(10,8))\n",
        "sns.boxplot(x = titanic['survived'], y= titanic['fare'])\n",
        "plt.title('Passenger fare vs survival status', fontsize = 16)\n",
        "plt.xlabel('Survival status', fontsize = 14)\n",
        "plt.ylabel('Passenger fare', fontsize = 14)\n",
        "plt.xticks(fontsize = 14)\n",
        "plt.yticks(fontsize = 14)\n",
        "plt.show()\n",
        "\n",
        "# Those who survived had a higher median fare than those who did not"
      ],
      "execution_count": 37,
      "outputs": [
        {
          "output_type": "display_data",
          "data": {
            "image/png": "[encoded data removed]",
            "text/plain": [
              "<Figure size 720x576 with 1 Axes>"
            ]
          },
          "metadata": {
            "tags": []
          }
        }
      ]
    },
    {
      "cell_type": "markdown",
      "metadata": {
        "id": "dmHL48kwIIb7"
      },
      "source": [
        "### c) Multivariate Analysis "
      ]
    },
    {
      "cell_type": "code",
      "metadata": {
        "colab": {
          "base_uri": "https://localhost:8080/"
        },
        "id": "26Tj9yNAAFEn",
        "outputId": "430fcb4d-caa6-463a-f491-a242d6f0dbb2"
      },
      "source": [
        "# Getting a preview of the columns again\n",
        "\n",
        "titanic.columns"
      ],
      "execution_count": 38,
      "outputs": [
        {
          "output_type": "execute_result",
          "data": {
            "text/plain": [
              "Index(['survived', 'pclass', 'sex', 'age', 'sibsp', 'parch', 'fare',\n",
              "       'embarked', 'title'],\n",
              "      dtype='object')"
            ]
          },
          "metadata": {
            "tags": []
          },
          "execution_count": 38
        }
      ]
    },
    {
      "cell_type": "code",
      "metadata": {
        "id": "zvpcz_P2I8aw",
        "colab": {
          "base_uri": "https://localhost:8080/",
          "height": 505
        },
        "outputId": "04ad196f-c1a3-47b1-d060-0e3d5440a55c"
      },
      "source": [
        "# Correlation Heatmap for numerical features\n",
        "\n",
        "plt.figure(figsize=(10,8)) \n",
        "sns.heatmap(titanic.corr(),annot=True)\n",
        "plt.title('Correlation matrix', fontsize = 16)\n",
        "plt.xticks(fontsize = 14)\n",
        "plt.yticks(fontsize = 14) \n",
        "plt.show()\n",
        "\n",
        "# There is a moderately high correlation between sibsp and parch.\n",
        "# The correlation coefficient between the two is 0.41"
      ],
      "execution_count": 39,
      "outputs": [
        {
          "output_type": "display_data",
          "data": {
            "image/png": "[encoded data removed]",
            "text/plain": [
              "<Figure size 720x576 with 2 Axes>"
            ]
          },
          "metadata": {
            "tags": []
          }
        }
      ]
    },
    {
      "cell_type": "markdown",
      "metadata": {
        "id": "G29Pa1eMPl8R"
      },
      "source": [
        "## 7. Feature Selection by checking for multicollinearity\n",
        "> Multicollinearity is the occurrence of high intercorrelations among 2 or more independent variables in a model with multiple features.\n",
        "\n",
        "> Testing for multicollinearity is extremely important because it can lead to:\n",
        "\n",
        "* Inaccurate estimates of the regression coefficients\n",
        "* Inflation of the standard errors of the regression coefficients\n",
        "* False and non-significant p-values\n",
        "* Degredation of the predictability of the model\n",
        "\n",
        "Checking for correlations in independent variables helps to do features selection. Any variables with a VIF value above 4 will be dropped and will not be used in building the model"
      ]
    },
    {
      "cell_type": "code",
      "metadata": {
        "colab": {
          "base_uri": "https://localhost:8080/"
        },
        "id": "tCGUS-p7CTVp",
        "outputId": "0dc7e8d1-aef3-450f-b653-cf6160c1c9fa"
      },
      "source": [
        "# Encoding the categorical columns\n",
        "\n",
        "for i in qcol1:\n",
        "  titanic[i] = titanic[i].astype('category')\n",
        "  titanic[i] = titanic[i].cat.codes\n",
        "\n",
        "# Confirming the changes\n",
        "for i in qcol1:\n",
        "  print(i, ':', titanic[i].unique(), '\\n')\n",
        " \n",
        "print(titanic.dtypes)"
      ],
      "execution_count": 40,
      "outputs": [
        {
          "output_type": "stream",
          "text": [
            "pclass : [2 0 1] \n",
            "\n",
            "sex : [1 0] \n",
            "\n",
            "sibsp : [1 0 3 4 2 5 6] \n",
            "\n",
            "parch : [0 1 2 5 3 4 6] \n",
            "\n",
            "embarked : [2 0 1] \n",
            "\n",
            "title : [1 2 0 3] \n",
            "\n",
            "survived      int64\n",
            "pclass         int8\n",
            "sex            int8\n",
            "age         float64\n",
            "sibsp          int8\n",
            "parch          int8\n",
            "fare        float64\n",
            "embarked       int8\n",
            "title          int8\n",
            "dtype: object\n"
          ],
          "name": "stdout"
        }
      ]
    },
    {
      "cell_type": "code",
      "metadata": {
        "id": "bjb2OKj7EUVN"
      },
      "source": [
        "# Specifying X and y\n",
        "\n",
        "X = titanic.drop('survived', 1)\n",
        "y = titanic['survived']"
      ],
      "execution_count": 41,
      "outputs": []
    },
    {
      "cell_type": "code",
      "metadata": {
        "colab": {
          "base_uri": "https://localhost:8080/",
          "height": 284
        },
        "id": "dwxiYWOUEubr",
        "outputId": "fa732f8b-6d30-4e4f-d170-880808bd3680"
      },
      "source": [
        "# Checking for multicollinearity\n",
        "\n",
        "correlations = X.corr()\n",
        "correlations"
      ],
      "execution_count": 42,
      "outputs": [
        {
          "output_type": "execute_result",
          "data": {
            "text/html": [
              "<div>\n",
              "<style scoped>\n",
              "    .dataframe tbody tr th:only-of-type {\n",
              "        vertical-align: middle;\n",
              "    }\n",
              "\n",
              "    .dataframe tbody tr th {\n",
              "        vertical-align: top;\n",
              "    }\n",
              "\n",
              "    .dataframe thead th {\n",
              "        text-align: right;\n",
              "    }\n",
              "</style>\n",
              "<table border=\"1\" class=\"dataframe\">\n",
              "  <thead>\n",
              "    <tr style=\"text-align: right;\">\n",
              "      <th></th>\n",
              "      <th>pclass</th>\n",
              "      <th>sex</th>\n",
              "      <th>age</th>\n",
              "      <th>sibsp</th>\n",
              "      <th>parch</th>\n",
              "      <th>fare</th>\n",
              "      <th>embarked</th>\n",
              "      <th>title</th>\n",
              "    </tr>\n",
              "  </thead>\n",
              "  <tbody>\n",
              "    <tr>\n",
              "      <th>pclass</th>\n",
              "      <td>1.000000</td>\n",
              "      <td>0.131900</td>\n",
              "      <td>-0.339898</td>\n",
              "      <td>0.078141</td>\n",
              "      <td>0.018443</td>\n",
              "      <td>-0.549500</td>\n",
              "      <td>0.168430</td>\n",
              "      <td>-0.110599</td>\n",
              "    </tr>\n",
              "    <tr>\n",
              "      <th>sex</th>\n",
              "      <td>0.131900</td>\n",
              "      <td>1.000000</td>\n",
              "      <td>0.081163</td>\n",
              "      <td>-0.123164</td>\n",
              "      <td>-0.245489</td>\n",
              "      <td>-0.182333</td>\n",
              "      <td>0.113807</td>\n",
              "      <td>0.206310</td>\n",
              "    </tr>\n",
              "    <tr>\n",
              "      <th>age</th>\n",
              "      <td>-0.339898</td>\n",
              "      <td>0.081163</td>\n",
              "      <td>1.000000</td>\n",
              "      <td>-0.254098</td>\n",
              "      <td>-0.172482</td>\n",
              "      <td>0.096688</td>\n",
              "      <td>-0.024149</td>\n",
              "      <td>0.077593</td>\n",
              "    </tr>\n",
              "    <tr>\n",
              "      <th>sibsp</th>\n",
              "      <td>0.078141</td>\n",
              "      <td>-0.123164</td>\n",
              "      <td>-0.254098</td>\n",
              "      <td>1.000000</td>\n",
              "      <td>0.423338</td>\n",
              "      <td>0.163254</td>\n",
              "      <td>0.067649</td>\n",
              "      <td>0.167633</td>\n",
              "    </tr>\n",
              "    <tr>\n",
              "      <th>parch</th>\n",
              "      <td>0.018443</td>\n",
              "      <td>-0.245489</td>\n",
              "      <td>-0.172482</td>\n",
              "      <td>0.423338</td>\n",
              "      <td>1.000000</td>\n",
              "      <td>0.216225</td>\n",
              "      <td>0.041732</td>\n",
              "      <td>0.154579</td>\n",
              "    </tr>\n",
              "    <tr>\n",
              "      <th>fare</th>\n",
              "      <td>-0.549500</td>\n",
              "      <td>-0.182333</td>\n",
              "      <td>0.096688</td>\n",
              "      <td>0.163254</td>\n",
              "      <td>0.216225</td>\n",
              "      <td>1.000000</td>\n",
              "      <td>-0.228364</td>\n",
              "      <td>0.002254</td>\n",
              "    </tr>\n",
              "    <tr>\n",
              "      <th>embarked</th>\n",
              "      <td>0.168430</td>\n",
              "      <td>0.113807</td>\n",
              "      <td>-0.024149</td>\n",
              "      <td>0.067649</td>\n",
              "      <td>0.041732</td>\n",
              "      <td>-0.228364</td>\n",
              "      <td>1.000000</td>\n",
              "      <td>0.022960</td>\n",
              "    </tr>\n",
              "    <tr>\n",
              "      <th>title</th>\n",
              "      <td>-0.110599</td>\n",
              "      <td>0.206310</td>\n",
              "      <td>0.077593</td>\n",
              "      <td>0.167633</td>\n",
              "      <td>0.154579</td>\n",
              "      <td>0.002254</td>\n",
              "      <td>0.022960</td>\n",
              "      <td>1.000000</td>\n",
              "    </tr>\n",
              "  </tbody>\n",
              "</table>\n",
              "</div>"
            ],
            "text/plain": [
              "            pclass       sex       age  ...      fare  embarked     title\n",
              "pclass    1.000000  0.131900 -0.339898  ... -0.549500  0.168430 -0.110599\n",
              "sex       0.131900  1.000000  0.081163  ... -0.182333  0.113807  0.206310\n",
              "age      -0.339898  0.081163  1.000000  ...  0.096688 -0.024149  0.077593\n",
              "sibsp     0.078141 -0.123164 -0.254098  ...  0.163254  0.067649  0.167633\n",
              "parch     0.018443 -0.245489 -0.172482  ...  0.216225  0.041732  0.154579\n",
              "fare     -0.549500 -0.182333  0.096688  ...  1.000000 -0.228364  0.002254\n",
              "embarked  0.168430  0.113807 -0.024149  ... -0.228364  1.000000  0.022960\n",
              "title    -0.110599  0.206310  0.077593  ...  0.002254  0.022960  1.000000\n",
              "\n",
              "[8 rows x 8 columns]"
            ]
          },
          "metadata": {
            "tags": []
          },
          "execution_count": 42
        }
      ]
    },
    {
      "cell_type": "code",
      "metadata": {
        "colab": {
          "base_uri": "https://localhost:8080/",
          "height": 284
        },
        "id": "h9S4YG8gE0x2",
        "outputId": "8c7b8891-90f7-4bca-9aff-1fee280824eb"
      },
      "source": [
        "# Creating the VIF dataframe\n",
        "\n",
        "VIF = pd.DataFrame(np.linalg.inv(correlations.values), index = correlations.index, columns = correlations.columns)\n",
        "VIF"
      ],
      "execution_count": 43,
      "outputs": [
        {
          "output_type": "execute_result",
          "data": {
            "text/html": [
              "<div>\n",
              "<style scoped>\n",
              "    .dataframe tbody tr th:only-of-type {\n",
              "        vertical-align: middle;\n",
              "    }\n",
              "\n",
              "    .dataframe tbody tr th {\n",
              "        vertical-align: top;\n",
              "    }\n",
              "\n",
              "    .dataframe thead th {\n",
              "        text-align: right;\n",
              "    }\n",
              "</style>\n",
              "<table border=\"1\" class=\"dataframe\">\n",
              "  <thead>\n",
              "    <tr style=\"text-align: right;\">\n",
              "      <th></th>\n",
              "      <th>pclass</th>\n",
              "      <th>sex</th>\n",
              "      <th>age</th>\n",
              "      <th>sibsp</th>\n",
              "      <th>parch</th>\n",
              "      <th>fare</th>\n",
              "      <th>embarked</th>\n",
              "      <th>title</th>\n",
              "    </tr>\n",
              "  </thead>\n",
              "  <tbody>\n",
              "    <tr>\n",
              "      <th>pclass</th>\n",
              "      <td>1.733192</td>\n",
              "      <td>-0.206707</td>\n",
              "      <td>0.420758</td>\n",
              "      <td>-0.172003</td>\n",
              "      <td>-0.177269</td>\n",
              "      <td>0.932508</td>\n",
              "      <td>-0.032143</td>\n",
              "      <td>0.256560</td>\n",
              "    </tr>\n",
              "    <tr>\n",
              "      <th>sex</th>\n",
              "      <td>-0.206707</td>\n",
              "      <td>1.198344</td>\n",
              "      <td>-0.074194</td>\n",
              "      <td>0.075524</td>\n",
              "      <td>0.305706</td>\n",
              "      <td>0.008846</td>\n",
              "      <td>-0.111816</td>\n",
              "      <td>-0.321703</td>\n",
              "    </tr>\n",
              "    <tr>\n",
              "      <th>age</th>\n",
              "      <td>0.420758</td>\n",
              "      <td>-0.074194</td>\n",
              "      <td>1.229969</td>\n",
              "      <td>0.244667</td>\n",
              "      <td>0.091756</td>\n",
              "      <td>0.029017</td>\n",
              "      <td>-0.044460</td>\n",
              "      <td>-0.087837</td>\n",
              "    </tr>\n",
              "    <tr>\n",
              "      <th>sibsp</th>\n",
              "      <td>-0.172003</td>\n",
              "      <td>0.075524</td>\n",
              "      <td>0.244667</td>\n",
              "      <td>1.343908</td>\n",
              "      <td>-0.412347</td>\n",
              "      <td>-0.257296</td>\n",
              "      <td>-0.101306</td>\n",
              "      <td>-0.212227</td>\n",
              "    </tr>\n",
              "    <tr>\n",
              "      <th>parch</th>\n",
              "      <td>-0.177269</td>\n",
              "      <td>0.305706</td>\n",
              "      <td>0.091756</td>\n",
              "      <td>-0.412347</td>\n",
              "      <td>1.373470</td>\n",
              "      <td>-0.301542</td>\n",
              "      <td>-0.095719</td>\n",
              "      <td>-0.230105</td>\n",
              "    </tr>\n",
              "    <tr>\n",
              "      <th>fare</th>\n",
              "      <td>0.932508</td>\n",
              "      <td>0.008846</td>\n",
              "      <td>0.029017</td>\n",
              "      <td>-0.257296</td>\n",
              "      <td>-0.301542</td>\n",
              "      <td>1.675363</td>\n",
              "      <td>0.251097</td>\n",
              "      <td>0.179261</td>\n",
              "    </tr>\n",
              "    <tr>\n",
              "      <th>embarked</th>\n",
              "      <td>-0.032143</td>\n",
              "      <td>-0.111816</td>\n",
              "      <td>-0.044460</td>\n",
              "      <td>-0.101306</td>\n",
              "      <td>-0.095719</td>\n",
              "      <td>0.251097</td>\n",
              "      <td>1.084583</td>\n",
              "      <td>0.029274</td>\n",
              "    </tr>\n",
              "    <tr>\n",
              "      <th>title</th>\n",
              "      <td>0.256560</td>\n",
              "      <td>-0.321703</td>\n",
              "      <td>-0.087837</td>\n",
              "      <td>-0.212227</td>\n",
              "      <td>-0.230105</td>\n",
              "      <td>0.179261</td>\n",
              "      <td>0.029274</td>\n",
              "      <td>1.171631</td>\n",
              "    </tr>\n",
              "  </tbody>\n",
              "</table>\n",
              "</div>"
            ],
            "text/plain": [
              "            pclass       sex       age  ...      fare  embarked     title\n",
              "pclass    1.733192 -0.206707  0.420758  ...  0.932508 -0.032143  0.256560\n",
              "sex      -0.206707  1.198344 -0.074194  ...  0.008846 -0.111816 -0.321703\n",
              "age       0.420758 -0.074194  1.229969  ...  0.029017 -0.044460 -0.087837\n",
              "sibsp    -0.172003  0.075524  0.244667  ... -0.257296 -0.101306 -0.212227\n",
              "parch    -0.177269  0.305706  0.091756  ... -0.301542 -0.095719 -0.230105\n",
              "fare      0.932508  0.008846  0.029017  ...  1.675363  0.251097  0.179261\n",
              "embarked -0.032143 -0.111816 -0.044460  ...  0.251097  1.084583  0.029274\n",
              "title     0.256560 -0.321703 -0.087837  ...  0.179261  0.029274  1.171631\n",
              "\n",
              "[8 rows x 8 columns]"
            ]
          },
          "metadata": {
            "tags": []
          },
          "execution_count": 43
        }
      ]
    },
    {
      "cell_type": "code",
      "metadata": {
        "colab": {
          "base_uri": "https://localhost:8080/"
        },
        "id": "7FDfLwUlFE3n",
        "outputId": "a27be8be-f035-4a72-dc8e-cfd715ad890e"
      },
      "source": [
        "# Extracting the VIF values\n",
        "\n",
        "pd.Series(np.diag(VIF), index=[VIF.columns])\n",
        "\n",
        "# There is no multicollinearity"
      ],
      "execution_count": 44,
      "outputs": [
        {
          "output_type": "execute_result",
          "data": {
            "text/plain": [
              "pclass      1.733192\n",
              "sex         1.198344\n",
              "age         1.229969\n",
              "sibsp       1.343908\n",
              "parch       1.373470\n",
              "fare        1.675363\n",
              "embarked    1.084583\n",
              "title       1.171631\n",
              "dtype: float64"
            ]
          },
          "metadata": {
            "tags": []
          },
          "execution_count": 44
        }
      ]
    },
    {
      "cell_type": "markdown",
      "metadata": {
        "id": "h8yrx7-28pK8"
      },
      "source": [
        "There is no multicollinearity so no features will be dropped."
      ]
    },
    {
      "cell_type": "markdown",
      "metadata": {
        "id": "k4tcH-U_F3np"
      },
      "source": [
        "## 8. Implementing the solution"
      ]
    },
    {
      "cell_type": "markdown",
      "metadata": {
        "id": "9yysvwtaGFWQ"
      },
      "source": [
        "### a) Building my model using K Nearest Neighbors algorithm.\n",
        "\n",
        "KNN is a non parametric algorithm that can be used with both classification and regression problems. However, it is more widely used to solve classification problems.\n",
        "\n",
        "KNN works by finding the distances between a new point and all the examples in the data, selecting the specified number examples (K) closest to the new point, then votes for the most frequent label (in the case of classification) or averages the labels (in the case of regression).\n",
        "\n",
        "Some of the advantages of using KNN are:\n",
        "* It is easy to use \n",
        "* Has quick calculation time\n",
        "* Does not make any assumptions about the data (non-parametric)\n",
        "\n",
        "\n"
      ]
    },
    {
      "cell_type": "code",
      "metadata": {
        "colab": {
          "base_uri": "https://localhost:8080/"
        },
        "id": "OySYU6dYJz-l",
        "outputId": "98a2931d-9a5f-48aa-9262-115fdc8e81d0"
      },
      "source": [
        "# Splitting into train and test using 80-20 ratio\n",
        "\n",
        "X_train, X_test, y_train, y_test = train_test_split(X, y, test_size = 0.2, random_state = 99)\n",
        "\n",
        "# fitting and making predictions\n",
        "\n",
        "classifier = KNeighborsClassifier()\n",
        "\n",
        "classifier.fit(X_train, y_train)\n",
        "\n",
        "y_pred = classifier.predict(X_test)\n",
        "\n",
        "# Evaluating the model\n",
        "\n",
        "print('Accuracy:', accuracy_score(y_test, y_pred), '\\n')\n",
        "print(confusion_matrix(y_test, y_pred), '\\n')\n",
        "print( classification_report(y_test, y_pred))\n",
        "\n",
        "# At 80-20 split ratio, the accuracy is 70.9%"
      ],
      "execution_count": 45,
      "outputs": [
        {
          "output_type": "stream",
          "text": [
            "Accuracy: 0.7094972067039106 \n",
            "\n",
            "[[87 26]\n",
            " [26 40]] \n",
            "\n",
            "              precision    recall  f1-score   support\n",
            "\n",
            "           0       0.77      0.77      0.77       113\n",
            "           1       0.61      0.61      0.61        66\n",
            "\n",
            "    accuracy                           0.71       179\n",
            "   macro avg       0.69      0.69      0.69       179\n",
            "weighted avg       0.71      0.71      0.71       179\n",
            "\n"
          ],
          "name": "stdout"
        }
      ]
    },
    {
      "cell_type": "markdown",
      "metadata": {
        "id": "tcUkJnXH201K"
      },
      "source": [
        "* With an 80-20 split the accuracy is 70.9%\n",
        "\n",
        "From the first row of the confusion matrix we see that:\n",
        "* 87 passengers were correctly classified as having not survived  \n",
        "* 26 were wrongly classified as having not survived.\n",
        "\n",
        "From the second row of the confusion matrix we see that \n",
        "* 26 passengers where wrongly classified as having survived \n",
        "* 93 were correctly classified as having survived\n",
        "\n",
        "The recall is 77% \n"
      ]
    },
    {
      "cell_type": "code",
      "metadata": {
        "colab": {
          "base_uri": "https://localhost:8080/"
        },
        "id": "112Q7CnHLz5k",
        "outputId": "5ffe9dfc-58e5-4c8d-f040-6541fadc7f48"
      },
      "source": [
        "# Splitting into train and test using 70-30 ratio\n",
        "\n",
        "X_train1, X_test1, y_train1, y_test1 = train_test_split(X, y, test_size = 0.3, random_state = 99)\n",
        "\n",
        "# fitting and making predictions\n",
        "\n",
        "classifier = KNeighborsClassifier()\n",
        "\n",
        "classifier.fit(X_train1, y_train1)\n",
        "\n",
        "y_pred1 = classifier.predict(X_test1)\n",
        "\n",
        "# Evaluating the model\n",
        "\n",
        "print('Accuracy:', accuracy_score(y_test1, y_pred1), '\\n')\n",
        "print(confusion_matrix(y_test1, y_pred1), '\\n')\n",
        "print( classification_report(y_test1, y_pred1))\n",
        "\n",
        "# At 70-30 split ratio, the accuracy has risen to 73.1%"
      ],
      "execution_count": 46,
      "outputs": [
        {
          "output_type": "stream",
          "text": [
            "Accuracy: 0.7313432835820896 \n",
            "\n",
            "[[140  34]\n",
            " [ 38  56]] \n",
            "\n",
            "              precision    recall  f1-score   support\n",
            "\n",
            "           0       0.79      0.80      0.80       174\n",
            "           1       0.62      0.60      0.61        94\n",
            "\n",
            "    accuracy                           0.73       268\n",
            "   macro avg       0.70      0.70      0.70       268\n",
            "weighted avg       0.73      0.73      0.73       268\n",
            "\n"
          ],
          "name": "stdout"
        }
      ]
    },
    {
      "cell_type": "markdown",
      "metadata": {
        "id": "gmM9DBUb5V-R"
      },
      "source": [
        "* With an 70-30 split the accuracy is 73.1%\n",
        "\n",
        "From the first row of the confusion matrix we see that:\n",
        "* 140 passengers were correctly classified as having not survived  \n",
        "* 34 were wrongly classified as having not survived.\n",
        "\n",
        "From the second row of the confusion matrix we see that \n",
        "* 38 passengers where wrongly classified as having survived \n",
        "* 56 were correctly classified as having survived\n",
        "\n",
        "The recall is 80%"
      ]
    },
    {
      "cell_type": "code",
      "metadata": {
        "colab": {
          "base_uri": "https://localhost:8080/"
        },
        "id": "kvS1N3uvMepH",
        "outputId": "6ed62c31-4925-451f-9c90-cf20d1fbac5d"
      },
      "source": [
        "# Splitting into train and test using 60-40 ratio\n",
        "\n",
        "X_train2, X_test2, y_train2, y_test2 = train_test_split(X, y, test_size = 0.4, random_state = 99)\n",
        "\n",
        "# fitting and making predictions\n",
        "\n",
        "classifier = KNeighborsClassifier()\n",
        "\n",
        "classifier.fit(X_train2, y_train2)\n",
        "\n",
        "y_pred2 = classifier.predict(X_test2)\n",
        "\n",
        "# Evaluating the model\n",
        "\n",
        "print('Accuracy:', accuracy_score(y_test2, y_pred2), '\\n')\n",
        "print(confusion_matrix(y_test2, y_pred2), '\\n')\n",
        "print( classification_report(y_test2, y_pred2))\n",
        "\n",
        "# At 60-40 split ratio, the accuracy of the model dropped to 69.7%\n",
        "# which was lower than the 80-20 split\n",
        "\n",
        "# I will choose to optimize the 70-30 option"
      ],
      "execution_count": 47,
      "outputs": [
        {
          "output_type": "stream",
          "text": [
            "Accuracy: 0.6974789915966386 \n",
            "\n",
            "[[169  61]\n",
            " [ 47  80]] \n",
            "\n",
            "              precision    recall  f1-score   support\n",
            "\n",
            "           0       0.78      0.73      0.76       230\n",
            "           1       0.57      0.63      0.60       127\n",
            "\n",
            "    accuracy                           0.70       357\n",
            "   macro avg       0.67      0.68      0.68       357\n",
            "weighted avg       0.71      0.70      0.70       357\n",
            "\n"
          ],
          "name": "stdout"
        }
      ]
    },
    {
      "cell_type": "markdown",
      "metadata": {
        "id": "Gb-xHuXB5rP9"
      },
      "source": [
        "* With an 60-40 split the accuracy is 69.7%\n",
        "\n",
        "From the first row of the confusion matrix we see that:\n",
        "* 169 passengers were correctly classified as having not survived  \n",
        "* 61 were wrongly classified as having not survived.\n",
        "\n",
        "From the second row of the confusion matrix we see that \n",
        "* 47 passengers where wrongly classified as having survived \n",
        "* 80 were correctly classified as having survived\n",
        "\n",
        "The recall is 73%\n"
      ]
    },
    {
      "cell_type": "markdown",
      "metadata": {
        "id": "psgdp3q8TLv0"
      },
      "source": [
        "The 70-30 split recoreded the highest accuracy and recall before any optimiation technique is put in place. Therefore I will optimize the model built using the 70-30 split"
      ]
    },
    {
      "cell_type": "markdown",
      "metadata": {
        "id": "aukLrlGkN-fn"
      },
      "source": [
        "**Optimizing the model**\n",
        "\n",
        "KNN can be optimized using the following techniques:\n",
        "* Dimensionality Reduction with Linear Discriminant Analysis\n",
        "* Rescaling our data which makes the distance metric more meaningful. \n",
        "* Changing the distance metric for different applications.\n",
        "* Implementing weighted voting\n",
        "* Applying  additional appropriate nearest-neighbor techniques"
      ]
    },
    {
      "cell_type": "code",
      "metadata": {
        "colab": {
          "base_uri": "https://localhost:8080/"
        },
        "id": "ikaiPba-SxEQ",
        "outputId": "e1c89cef-4066-40d8-b3f9-da89708b21f9"
      },
      "source": [
        "# Performing feature scaling\n",
        "\n",
        "scale = MinMaxScaler()\n",
        "X_train1 = scale.fit_transform(X_train1)\n",
        "X_test1 = scale.transform(X_test1)\n",
        "\n",
        "# fitting and making predictions\n",
        "\n",
        "classifier = KNeighborsClassifier()\n",
        "\n",
        "classifier.fit(X_train1, y_train1)\n",
        "\n",
        "y_pred1 = classifier.predict(X_test1)\n",
        "\n",
        "# Evaluating the model\n",
        "\n",
        "print('Accuracy:', accuracy_score(y_test1, y_pred1), '\\n')\n",
        "print(confusion_matrix(y_test1, y_pred1), '\\n')\n",
        "print( classification_report(y_test1, y_pred1))\n",
        "\n",
        "# After feature scaling, the accuracy has risen from 73.1% to 80.2%\n",
        "# The recall also increased from 80% to 86%"
      ],
      "execution_count": 48,
      "outputs": [
        {
          "output_type": "stream",
          "text": [
            "Accuracy: 0.8022388059701493 \n",
            "\n",
            "[[149  25]\n",
            " [ 28  66]] \n",
            "\n",
            "              precision    recall  f1-score   support\n",
            "\n",
            "           0       0.84      0.86      0.85       174\n",
            "           1       0.73      0.70      0.71        94\n",
            "\n",
            "    accuracy                           0.80       268\n",
            "   macro avg       0.78      0.78      0.78       268\n",
            "weighted avg       0.80      0.80      0.80       268\n",
            "\n"
          ],
          "name": "stdout"
        }
      ]
    },
    {
      "cell_type": "code",
      "metadata": {
        "id": "MI8601nSOKsf"
      },
      "source": [
        "# Hyper parameter tuning\n",
        "\n",
        "param_grid = {'n_neighbors' : np.arange(3,21,2),\n",
        "              'algorithm' : ['auto', 'kd_tree'],\n",
        "              'metric' : ['minkowski', 'euclidean', 'manhattan'],\n",
        "              'weights' : ['uniform', 'distance']}\n",
        "\n",
        "search = GridSearchCV(classifier, param_grid = param_grid, cv = 10, scoring= 'accuracy' )"
      ],
      "execution_count": 49,
      "outputs": []
    },
    {
      "cell_type": "code",
      "metadata": {
        "colab": {
          "base_uri": "https://localhost:8080/"
        },
        "id": "HHrl-bQ7POM6",
        "outputId": "20d62687-f24f-4a3f-b5ce-68d3c92764cf"
      },
      "source": [
        "# Getting the best parameters\n",
        "\n",
        "search.fit(X_train1, y_train1)\n",
        "print(search.best_params_)\n",
        "print(search.best_score_)"
      ],
      "execution_count": 50,
      "outputs": [
        {
          "output_type": "stream",
          "text": [
            "{'algorithm': 'auto', 'metric': 'manhattan', 'n_neighbors': 9, 'weights': 'uniform'}\n",
            "0.836226318484383\n"
          ],
          "name": "stdout"
        }
      ]
    },
    {
      "cell_type": "code",
      "metadata": {
        "colab": {
          "base_uri": "https://localhost:8080/"
        },
        "id": "_Ticm0jlPa0a",
        "outputId": "cb1dc5e9-75f2-4306-cb7f-b750fad002c5"
      },
      "source": [
        "# Fitting and making predictions using the suggested parameters\n",
        "\n",
        "classifier = KNeighborsClassifier(n_neighbors=11,  metric='manhattan')\n",
        "\n",
        "classifier.fit(X_train1, y_train1)\n",
        "\n",
        "y_pred1 = classifier.predict(X_test1)\n",
        "\n",
        "# Evaluating the model\n",
        "\n",
        "print('Accuracy:', accuracy_score(y_test1, y_pred1), '\\n')\n",
        "print(confusion_matrix(y_test1, y_pred1), '\\n')\n",
        "print( classification_report(y_test1, y_pred1))\n",
        "\n",
        "# The recall after optimizing the model increased from 86% to 88%. However,\n",
        "# the accuracy if the model did not increase by much"
      ],
      "execution_count": 51,
      "outputs": [
        {
          "output_type": "stream",
          "text": [
            "Accuracy: 0.8059701492537313 \n",
            "\n",
            "[[153  21]\n",
            " [ 31  63]] \n",
            "\n",
            "              precision    recall  f1-score   support\n",
            "\n",
            "           0       0.83      0.88      0.85       174\n",
            "           1       0.75      0.67      0.71        94\n",
            "\n",
            "    accuracy                           0.81       268\n",
            "   macro avg       0.79      0.77      0.78       268\n",
            "weighted avg       0.80      0.81      0.80       268\n",
            "\n"
          ],
          "name": "stdout"
        }
      ]
    },
    {
      "cell_type": "code",
      "metadata": {
        "colab": {
          "base_uri": "https://localhost:8080/"
        },
        "id": "O4dSzENkQ855",
        "outputId": "11fc76d1-a905-44e3-c2df-9053235fb077"
      },
      "source": [
        "# Attempting to use dimensionality reduction\n",
        "\n",
        "lda = LDA(n_components=1)\n",
        "X_train1 = lda.fit_transform(X_train1, y_train1)\n",
        "X_test1 = lda.transform(X_test1)\n",
        "\n",
        "classifier.fit(X_train1, y_train1)\n",
        "\n",
        "y_pred1 = classifier.predict(X_test1)\n",
        "\n",
        "# Evaluating the model\n",
        "\n",
        "print('Accuracy:', accuracy_score(y_test1, y_pred1), '\\n')\n",
        "print(confusion_matrix(y_test1, y_pred1), '\\n')\n",
        "print( classification_report(y_test1, y_pred1))\n",
        "\n",
        "# With dimensionality reduction there is a reduction in the accuracy of the model\n"
      ],
      "execution_count": 52,
      "outputs": [
        {
          "output_type": "stream",
          "text": [
            "Accuracy: 0.7947761194029851 \n",
            "\n",
            "[[144  30]\n",
            " [ 25  69]] \n",
            "\n",
            "              precision    recall  f1-score   support\n",
            "\n",
            "           0       0.85      0.83      0.84       174\n",
            "           1       0.70      0.73      0.72        94\n",
            "\n",
            "    accuracy                           0.79       268\n",
            "   macro avg       0.77      0.78      0.78       268\n",
            "weighted avg       0.80      0.79      0.80       268\n",
            "\n"
          ],
          "name": "stdout"
        }
      ]
    },
    {
      "cell_type": "markdown",
      "metadata": {
        "id": "CsIUlQ617pCr"
      },
      "source": [
        "## 9. Challenging the solution\n",
        "\n",
        "- I will compare the performance of KNN with Catboost\n"
      ]
    },
    {
      "cell_type": "code",
      "metadata": {
        "colab": {
          "base_uri": "https://localhost:8080/"
        },
        "id": "yas0kTZWirR9",
        "outputId": "996bdf24-5a66-4bb9-802a-02c4db86b335"
      },
      "source": [
        "# Instaling catboost\n",
        "\n",
        "!pip install catboost"
      ],
      "execution_count": 53,
      "outputs": [
        {
          "output_type": "stream",
          "text": [
            "Collecting catboost\n",
            "\u001b[?25l  Downloading https://files.pythonhosted.org/packages/47/80/8e9c57ec32dfed6ba2922bc5c96462cbf8596ce1a6f5de532ad1e43e53fe/catboost-0.25.1-cp37-none-manylinux1_x86_64.whl (67.3MB)\n",
            "\u001b[K     |████████████████████████████████| 67.3MB 59kB/s \n",
            "\u001b[?25hRequirement already satisfied: plotly in /usr/local/lib/python3.7/dist-packages (from catboost) (4.4.1)\n",
            "Requirement already satisfied: scipy in /usr/local/lib/python3.7/dist-packages (from catboost) (1.4.1)\n",
            "Requirement already satisfied: graphviz in /usr/local/lib/python3.7/dist-packages (from catboost) (0.10.1)\n",
            "Requirement already satisfied: numpy>=1.16.0 in /usr/local/lib/python3.7/dist-packages (from catboost) (1.19.5)\n",
            "Requirement already satisfied: six in /usr/local/lib/python3.7/dist-packages (from catboost) (1.15.0)\n",
            "Requirement already satisfied: pandas>=0.24.0 in /usr/local/lib/python3.7/dist-packages (from catboost) (1.1.5)\n",
            "Requirement already satisfied: matplotlib in /usr/local/lib/python3.7/dist-packages (from catboost) (3.2.2)\n",
            "Requirement already satisfied: retrying>=1.3.3 in /usr/local/lib/python3.7/dist-packages (from plotly->catboost) (1.3.3)\n",
            "Requirement already satisfied: pytz>=2017.2 in /usr/local/lib/python3.7/dist-packages (from pandas>=0.24.0->catboost) (2018.9)\n",
            "Requirement already satisfied: python-dateutil>=2.7.3 in /usr/local/lib/python3.7/dist-packages (from pandas>=0.24.0->catboost) (2.8.1)\n",
            "Requirement already satisfied: pyparsing!=2.0.4,!=2.1.2,!=2.1.6,>=2.0.1 in /usr/local/lib/python3.7/dist-packages (from matplotlib->catboost) (2.4.7)\n",
            "Requirement already satisfied: kiwisolver>=1.0.1 in /usr/local/lib/python3.7/dist-packages (from matplotlib->catboost) (1.3.1)\n",
            "Requirement already satisfied: cycler>=0.10 in /usr/local/lib/python3.7/dist-packages (from matplotlib->catboost) (0.10.0)\n",
            "Installing collected packages: catboost\n",
            "Successfully installed catboost-0.25.1\n"
          ],
          "name": "stdout"
        }
      ]
    },
    {
      "cell_type": "code",
      "metadata": {
        "colab": {
          "base_uri": "https://localhost:8080/"
        },
        "id": "bNZCL3n5i9af",
        "outputId": "ae4ea0f5-e145-4817-b3f5-f8842d932e18"
      },
      "source": [
        "# Converting age and fare to integers\n",
        "\n",
        "X['age'] = X['age'].astype('int64')\n",
        "X['fare'] = X['fare'].astype('int64')\n",
        "\n",
        "# Changing the data to categorical columns\n",
        "\n",
        "for i in qcol1:\n",
        "  X[i] = X[i].astype('category')\n",
        "\n",
        "titanic.dtypes\n",
        "\n",
        "# Confirming the changes\n",
        "\n",
        "X.dtypes"
      ],
      "execution_count": 54,
      "outputs": [
        {
          "output_type": "execute_result",
          "data": {
            "text/plain": [
              "pclass      category\n",
              "sex         category\n",
              "age            int64\n",
              "sibsp       category\n",
              "parch       category\n",
              "fare           int64\n",
              "embarked    category\n",
              "title       category\n",
              "dtype: object"
            ]
          },
          "metadata": {
            "tags": []
          },
          "execution_count": 54
        }
      ]
    },
    {
      "cell_type": "code",
      "metadata": {
        "colab": {
          "base_uri": "https://localhost:8080/"
        },
        "id": "JRxfEhbXhuVc",
        "outputId": "4779bafa-423f-4230-abbd-9b7d8768472a"
      },
      "source": [
        "# Building the model\n",
        "\n",
        "from catboost import CatBoostClassifier\n",
        "\n",
        "# Splitting X and y\n",
        "\n",
        "X_train, X_test, y_train, y_test = train_test_split(X, y, test_size = 0.3, random_state = 99)\n",
        "\n",
        "# Building the model\n",
        "\n",
        "cat = CatBoostClassifier(learning_rate=0.2, max_depth=5, iterations=1010)\n",
        "\n",
        "#Fitting the model\n",
        "\n",
        "cat.fit(X_train,y_train, cat_features= qcol1)\n",
        "\n",
        "# Making predictions\n",
        "\n",
        "y_pred_cat = cat.predict(X_test)\n",
        "\n",
        "# Checking for accuracy\n",
        "\n",
        "print('Accuracy:', accuracy_score(y_test, y_pred_cat), '\\n')\n",
        "print(confusion_matrix(y_test, y_pred_cat), '\\n')\n",
        "print( classification_report(y_test, y_pred_cat))\n",
        "\n",
        "# With a learning rate of 0.2, max_depth of 5 and 1010 iterations\n",
        "# the accuracy came up to 83.9%"
      ],
      "execution_count": 55,
      "outputs": [
        {
          "output_type": "stream",
          "text": [
            "0:\tlearn: 0.5854867\ttotal: 51.4ms\tremaining: 51.9s\n",
            "1:\tlearn: 0.5417400\ttotal: 53.1ms\tremaining: 26.7s\n",
            "2:\tlearn: 0.5065666\ttotal: 55.2ms\tremaining: 18.5s\n",
            "3:\tlearn: 0.4731185\ttotal: 57.3ms\tremaining: 14.4s\n",
            "4:\tlearn: 0.4568029\ttotal: 59.5ms\tremaining: 12s\n",
            "5:\tlearn: 0.4319645\ttotal: 61.5ms\tremaining: 10.3s\n",
            "6:\tlearn: 0.4286035\ttotal: 62.6ms\tremaining: 8.97s\n",
            "7:\tlearn: 0.4136887\ttotal: 64.7ms\tremaining: 8.11s\n",
            "8:\tlearn: 0.4020268\ttotal: 66.9ms\tremaining: 7.44s\n",
            "9:\tlearn: 0.3972330\ttotal: 68.9ms\tremaining: 6.89s\n",
            "10:\tlearn: 0.3886785\ttotal: 71.1ms\tremaining: 6.46s\n",
            "11:\tlearn: 0.3831682\ttotal: 73.4ms\tremaining: 6.11s\n",
            "12:\tlearn: 0.3761396\ttotal: 75.7ms\tremaining: 5.81s\n",
            "13:\tlearn: 0.3722845\ttotal: 78.2ms\tremaining: 5.56s\n",
            "14:\tlearn: 0.3708062\ttotal: 80.6ms\tremaining: 5.35s\n",
            "15:\tlearn: 0.3686750\ttotal: 82.9ms\tremaining: 5.15s\n",
            "16:\tlearn: 0.3668241\ttotal: 85.2ms\tremaining: 4.97s\n",
            "17:\tlearn: 0.3633297\ttotal: 87.3ms\tremaining: 4.81s\n",
            "18:\tlearn: 0.3614589\ttotal: 89.5ms\tremaining: 4.67s\n",
            "19:\tlearn: 0.3614589\ttotal: 90.4ms\tremaining: 4.47s\n",
            "20:\tlearn: 0.3603540\ttotal: 92.4ms\tremaining: 4.35s\n",
            "21:\tlearn: 0.3567663\ttotal: 94.7ms\tremaining: 4.25s\n",
            "22:\tlearn: 0.3546318\ttotal: 96.8ms\tremaining: 4.15s\n",
            "23:\tlearn: 0.3529603\ttotal: 99.1ms\tremaining: 4.07s\n",
            "24:\tlearn: 0.3516429\ttotal: 101ms\tremaining: 3.99s\n",
            "25:\tlearn: 0.3508725\ttotal: 103ms\tremaining: 3.91s\n",
            "26:\tlearn: 0.3492012\ttotal: 105ms\tremaining: 3.83s\n",
            "27:\tlearn: 0.3487561\ttotal: 108ms\tremaining: 3.78s\n",
            "28:\tlearn: 0.3473130\ttotal: 110ms\tremaining: 3.72s\n",
            "29:\tlearn: 0.3445260\ttotal: 112ms\tremaining: 3.65s\n",
            "30:\tlearn: 0.3422064\ttotal: 114ms\tremaining: 3.6s\n",
            "31:\tlearn: 0.3388759\ttotal: 116ms\tremaining: 3.54s\n",
            "32:\tlearn: 0.3369735\ttotal: 118ms\tremaining: 3.5s\n",
            "33:\tlearn: 0.3342822\ttotal: 120ms\tremaining: 3.46s\n",
            "34:\tlearn: 0.3302673\ttotal: 123ms\tremaining: 3.42s\n",
            "35:\tlearn: 0.3283312\ttotal: 125ms\tremaining: 3.39s\n",
            "36:\tlearn: 0.3280039\ttotal: 126ms\tremaining: 3.32s\n",
            "37:\tlearn: 0.3277426\ttotal: 127ms\tremaining: 3.26s\n",
            "38:\tlearn: 0.3272131\ttotal: 130ms\tremaining: 3.23s\n",
            "39:\tlearn: 0.3233539\ttotal: 132ms\tremaining: 3.2s\n",
            "40:\tlearn: 0.3217955\ttotal: 134ms\tremaining: 3.17s\n",
            "41:\tlearn: 0.3206927\ttotal: 137ms\tremaining: 3.15s\n",
            "42:\tlearn: 0.3201582\ttotal: 138ms\tremaining: 3.11s\n",
            "43:\tlearn: 0.3198169\ttotal: 140ms\tremaining: 3.08s\n",
            "44:\tlearn: 0.3193659\ttotal: 142ms\tremaining: 3.05s\n",
            "45:\tlearn: 0.3125204\ttotal: 145ms\tremaining: 3.03s\n",
            "46:\tlearn: 0.3104828\ttotal: 147ms\tremaining: 3.01s\n",
            "47:\tlearn: 0.3099293\ttotal: 149ms\tremaining: 2.99s\n",
            "48:\tlearn: 0.3083542\ttotal: 151ms\tremaining: 2.97s\n",
            "49:\tlearn: 0.3073704\ttotal: 154ms\tremaining: 2.95s\n",
            "50:\tlearn: 0.3068408\ttotal: 156ms\tremaining: 2.93s\n",
            "51:\tlearn: 0.3027713\ttotal: 158ms\tremaining: 2.92s\n",
            "52:\tlearn: 0.3012745\ttotal: 161ms\tremaining: 2.9s\n",
            "53:\tlearn: 0.2964561\ttotal: 163ms\tremaining: 2.88s\n",
            "54:\tlearn: 0.2956954\ttotal: 165ms\tremaining: 2.86s\n",
            "55:\tlearn: 0.2923233\ttotal: 167ms\tremaining: 2.85s\n",
            "56:\tlearn: 0.2908045\ttotal: 169ms\tremaining: 2.83s\n",
            "57:\tlearn: 0.2895829\ttotal: 172ms\tremaining: 2.81s\n",
            "58:\tlearn: 0.2830395\ttotal: 174ms\tremaining: 2.81s\n",
            "59:\tlearn: 0.2785598\ttotal: 177ms\tremaining: 2.8s\n",
            "60:\tlearn: 0.2783480\ttotal: 179ms\tremaining: 2.78s\n",
            "61:\tlearn: 0.2774700\ttotal: 181ms\tremaining: 2.77s\n",
            "62:\tlearn: 0.2772556\ttotal: 183ms\tremaining: 2.75s\n",
            "63:\tlearn: 0.2764508\ttotal: 186ms\tremaining: 2.75s\n",
            "64:\tlearn: 0.2764285\ttotal: 188ms\tremaining: 2.73s\n",
            "65:\tlearn: 0.2755820\ttotal: 190ms\tremaining: 2.72s\n",
            "66:\tlearn: 0.2755076\ttotal: 192ms\tremaining: 2.71s\n",
            "67:\tlearn: 0.2737975\ttotal: 195ms\tremaining: 2.69s\n",
            "68:\tlearn: 0.2701083\ttotal: 198ms\tremaining: 2.7s\n",
            "69:\tlearn: 0.2691915\ttotal: 200ms\tremaining: 2.69s\n",
            "70:\tlearn: 0.2683755\ttotal: 203ms\tremaining: 2.68s\n",
            "71:\tlearn: 0.2671663\ttotal: 205ms\tremaining: 2.67s\n",
            "72:\tlearn: 0.2649215\ttotal: 207ms\tremaining: 2.65s\n",
            "73:\tlearn: 0.2634881\ttotal: 209ms\tremaining: 2.64s\n",
            "74:\tlearn: 0.2609958\ttotal: 211ms\tremaining: 2.63s\n",
            "75:\tlearn: 0.2606623\ttotal: 213ms\tremaining: 2.62s\n",
            "76:\tlearn: 0.2585143\ttotal: 215ms\tremaining: 2.61s\n",
            "77:\tlearn: 0.2582319\ttotal: 218ms\tremaining: 2.6s\n",
            "78:\tlearn: 0.2571049\ttotal: 220ms\tremaining: 2.59s\n",
            "79:\tlearn: 0.2530297\ttotal: 222ms\tremaining: 2.58s\n",
            "80:\tlearn: 0.2526361\ttotal: 224ms\tremaining: 2.56s\n",
            "81:\tlearn: 0.2511331\ttotal: 226ms\tremaining: 2.55s\n",
            "82:\tlearn: 0.2500276\ttotal: 228ms\tremaining: 2.54s\n",
            "83:\tlearn: 0.2497182\ttotal: 230ms\tremaining: 2.53s\n",
            "84:\tlearn: 0.2480725\ttotal: 231ms\tremaining: 2.52s\n",
            "85:\tlearn: 0.2477799\ttotal: 233ms\tremaining: 2.51s\n",
            "86:\tlearn: 0.2456236\ttotal: 237ms\tremaining: 2.51s\n",
            "87:\tlearn: 0.2434493\ttotal: 242ms\tremaining: 2.53s\n",
            "88:\tlearn: 0.2416978\ttotal: 246ms\tremaining: 2.54s\n",
            "89:\tlearn: 0.2414766\ttotal: 248ms\tremaining: 2.53s\n",
            "90:\tlearn: 0.2404338\ttotal: 250ms\tremaining: 2.53s\n",
            "91:\tlearn: 0.2386165\ttotal: 252ms\tremaining: 2.52s\n",
            "92:\tlearn: 0.2353271\ttotal: 255ms\tremaining: 2.51s\n",
            "93:\tlearn: 0.2352234\ttotal: 257ms\tremaining: 2.5s\n",
            "94:\tlearn: 0.2331750\ttotal: 259ms\tremaining: 2.5s\n",
            "95:\tlearn: 0.2326558\ttotal: 261ms\tremaining: 2.49s\n",
            "96:\tlearn: 0.2319238\ttotal: 263ms\tremaining: 2.48s\n",
            "97:\tlearn: 0.2316345\ttotal: 266ms\tremaining: 2.47s\n",
            "98:\tlearn: 0.2277377\ttotal: 268ms\tremaining: 2.47s\n",
            "99:\tlearn: 0.2277145\ttotal: 271ms\tremaining: 2.46s\n",
            "100:\tlearn: 0.2276920\ttotal: 273ms\tremaining: 2.45s\n",
            "101:\tlearn: 0.2272263\ttotal: 275ms\tremaining: 2.45s\n",
            "102:\tlearn: 0.2267056\ttotal: 278ms\tremaining: 2.44s\n",
            "103:\tlearn: 0.2262121\ttotal: 280ms\tremaining: 2.44s\n",
            "104:\tlearn: 0.2254157\ttotal: 283ms\tremaining: 2.44s\n",
            "105:\tlearn: 0.2233376\ttotal: 285ms\tremaining: 2.43s\n",
            "106:\tlearn: 0.2218018\ttotal: 287ms\tremaining: 2.42s\n",
            "107:\tlearn: 0.2197569\ttotal: 290ms\tremaining: 2.42s\n",
            "108:\tlearn: 0.2192452\ttotal: 292ms\tremaining: 2.41s\n",
            "109:\tlearn: 0.2182192\ttotal: 294ms\tremaining: 2.41s\n",
            "110:\tlearn: 0.2179400\ttotal: 297ms\tremaining: 2.4s\n",
            "111:\tlearn: 0.2165041\ttotal: 299ms\tremaining: 2.4s\n",
            "112:\tlearn: 0.2148594\ttotal: 301ms\tremaining: 2.39s\n",
            "113:\tlearn: 0.2125506\ttotal: 304ms\tremaining: 2.39s\n",
            "114:\tlearn: 0.2122477\ttotal: 306ms\tremaining: 2.38s\n",
            "115:\tlearn: 0.2106755\ttotal: 309ms\tremaining: 2.38s\n",
            "116:\tlearn: 0.2099665\ttotal: 311ms\tremaining: 2.37s\n",
            "117:\tlearn: 0.2088442\ttotal: 314ms\tremaining: 2.37s\n",
            "118:\tlearn: 0.2083446\ttotal: 317ms\tremaining: 2.37s\n",
            "119:\tlearn: 0.2064257\ttotal: 322ms\tremaining: 2.39s\n",
            "120:\tlearn: 0.2063701\ttotal: 326ms\tremaining: 2.4s\n",
            "121:\tlearn: 0.2053458\ttotal: 332ms\tremaining: 2.42s\n",
            "122:\tlearn: 0.2043578\ttotal: 335ms\tremaining: 2.41s\n",
            "123:\tlearn: 0.2035400\ttotal: 337ms\tremaining: 2.41s\n",
            "124:\tlearn: 0.2035000\ttotal: 339ms\tremaining: 2.4s\n",
            "125:\tlearn: 0.2020557\ttotal: 342ms\tremaining: 2.4s\n",
            "126:\tlearn: 0.2003405\ttotal: 344ms\tremaining: 2.39s\n",
            "127:\tlearn: 0.2001710\ttotal: 346ms\tremaining: 2.39s\n",
            "128:\tlearn: 0.2000787\ttotal: 348ms\tremaining: 2.38s\n",
            "129:\tlearn: 0.1993673\ttotal: 351ms\tremaining: 2.38s\n",
            "130:\tlearn: 0.1985673\ttotal: 353ms\tremaining: 2.37s\n",
            "131:\tlearn: 0.1980209\ttotal: 356ms\tremaining: 2.37s\n",
            "132:\tlearn: 0.1969556\ttotal: 358ms\tremaining: 2.36s\n",
            "133:\tlearn: 0.1950585\ttotal: 360ms\tremaining: 2.35s\n",
            "134:\tlearn: 0.1935873\ttotal: 362ms\tremaining: 2.35s\n",
            "135:\tlearn: 0.1932000\ttotal: 365ms\tremaining: 2.34s\n",
            "136:\tlearn: 0.1930626\ttotal: 367ms\tremaining: 2.34s\n",
            "137:\tlearn: 0.1926291\ttotal: 370ms\tremaining: 2.33s\n",
            "138:\tlearn: 0.1919101\ttotal: 372ms\tremaining: 2.33s\n",
            "139:\tlearn: 0.1916951\ttotal: 374ms\tremaining: 2.33s\n",
            "140:\tlearn: 0.1900720\ttotal: 377ms\tremaining: 2.32s\n",
            "141:\tlearn: 0.1888242\ttotal: 379ms\tremaining: 2.32s\n",
            "142:\tlearn: 0.1882044\ttotal: 381ms\tremaining: 2.31s\n",
            "143:\tlearn: 0.1851944\ttotal: 384ms\tremaining: 2.31s\n",
            "144:\tlearn: 0.1842891\ttotal: 386ms\tremaining: 2.3s\n",
            "145:\tlearn: 0.1841703\ttotal: 389ms\tremaining: 2.3s\n",
            "146:\tlearn: 0.1834093\ttotal: 391ms\tremaining: 2.3s\n",
            "147:\tlearn: 0.1816249\ttotal: 394ms\tremaining: 2.29s\n",
            "148:\tlearn: 0.1807057\ttotal: 396ms\tremaining: 2.29s\n",
            "149:\tlearn: 0.1806081\ttotal: 399ms\tremaining: 2.28s\n",
            "150:\tlearn: 0.1785035\ttotal: 401ms\tremaining: 2.28s\n",
            "151:\tlearn: 0.1778540\ttotal: 404ms\tremaining: 2.28s\n",
            "152:\tlearn: 0.1774371\ttotal: 406ms\tremaining: 2.27s\n",
            "153:\tlearn: 0.1765839\ttotal: 408ms\tremaining: 2.27s\n",
            "154:\tlearn: 0.1761603\ttotal: 411ms\tremaining: 2.27s\n",
            "155:\tlearn: 0.1760708\ttotal: 413ms\tremaining: 2.26s\n",
            "156:\tlearn: 0.1759401\ttotal: 415ms\tremaining: 2.25s\n",
            "157:\tlearn: 0.1752620\ttotal: 418ms\tremaining: 2.25s\n",
            "158:\tlearn: 0.1746281\ttotal: 420ms\tremaining: 2.25s\n",
            "159:\tlearn: 0.1739607\ttotal: 422ms\tremaining: 2.24s\n",
            "160:\tlearn: 0.1730924\ttotal: 424ms\tremaining: 2.24s\n",
            "161:\tlearn: 0.1724050\ttotal: 426ms\tremaining: 2.23s\n",
            "162:\tlearn: 0.1719932\ttotal: 428ms\tremaining: 2.23s\n",
            "163:\tlearn: 0.1712883\ttotal: 431ms\tremaining: 2.22s\n",
            "164:\tlearn: 0.1709613\ttotal: 433ms\tremaining: 2.22s\n",
            "165:\tlearn: 0.1703695\ttotal: 438ms\tremaining: 2.23s\n",
            "166:\tlearn: 0.1703048\ttotal: 442ms\tremaining: 2.23s\n",
            "167:\tlearn: 0.1699969\ttotal: 444ms\tremaining: 2.23s\n",
            "168:\tlearn: 0.1699524\ttotal: 446ms\tremaining: 2.22s\n",
            "169:\tlearn: 0.1693708\ttotal: 449ms\tremaining: 2.22s\n",
            "170:\tlearn: 0.1679254\ttotal: 451ms\tremaining: 2.21s\n",
            "171:\tlearn: 0.1671048\ttotal: 453ms\tremaining: 2.21s\n",
            "172:\tlearn: 0.1664947\ttotal: 456ms\tremaining: 2.2s\n",
            "173:\tlearn: 0.1651402\ttotal: 458ms\tremaining: 2.2s\n",
            "174:\tlearn: 0.1647788\ttotal: 460ms\tremaining: 2.19s\n",
            "175:\tlearn: 0.1645993\ttotal: 462ms\tremaining: 2.19s\n",
            "176:\tlearn: 0.1641204\ttotal: 464ms\tremaining: 2.19s\n",
            "177:\tlearn: 0.1627792\ttotal: 467ms\tremaining: 2.18s\n",
            "178:\tlearn: 0.1615255\ttotal: 469ms\tremaining: 2.18s\n",
            "179:\tlearn: 0.1610397\ttotal: 472ms\tremaining: 2.17s\n",
            "180:\tlearn: 0.1605811\ttotal: 474ms\tremaining: 2.17s\n",
            "181:\tlearn: 0.1604829\ttotal: 476ms\tremaining: 2.17s\n",
            "182:\tlearn: 0.1601863\ttotal: 479ms\tremaining: 2.16s\n",
            "183:\tlearn: 0.1593348\ttotal: 482ms\tremaining: 2.16s\n",
            "184:\tlearn: 0.1593026\ttotal: 484ms\tremaining: 2.16s\n",
            "185:\tlearn: 0.1582708\ttotal: 486ms\tremaining: 2.15s\n",
            "186:\tlearn: 0.1577931\ttotal: 489ms\tremaining: 2.15s\n",
            "187:\tlearn: 0.1571407\ttotal: 491ms\tremaining: 2.15s\n",
            "188:\tlearn: 0.1564955\ttotal: 493ms\tremaining: 2.14s\n",
            "189:\tlearn: 0.1560712\ttotal: 496ms\tremaining: 2.14s\n",
            "190:\tlearn: 0.1552749\ttotal: 498ms\tremaining: 2.14s\n",
            "191:\tlearn: 0.1549676\ttotal: 501ms\tremaining: 2.13s\n",
            "192:\tlearn: 0.1540604\ttotal: 503ms\tremaining: 2.13s\n",
            "193:\tlearn: 0.1534063\ttotal: 505ms\tremaining: 2.13s\n",
            "194:\tlearn: 0.1520491\ttotal: 508ms\tremaining: 2.12s\n",
            "195:\tlearn: 0.1515862\ttotal: 510ms\tremaining: 2.12s\n",
            "196:\tlearn: 0.1514983\ttotal: 513ms\tremaining: 2.12s\n",
            "197:\tlearn: 0.1514191\ttotal: 515ms\tremaining: 2.11s\n",
            "198:\tlearn: 0.1513765\ttotal: 517ms\tremaining: 2.11s\n",
            "199:\tlearn: 0.1511512\ttotal: 520ms\tremaining: 2.1s\n",
            "200:\tlearn: 0.1506234\ttotal: 522ms\tremaining: 2.1s\n",
            "201:\tlearn: 0.1505895\ttotal: 524ms\tremaining: 2.1s\n",
            "202:\tlearn: 0.1488931\ttotal: 527ms\tremaining: 2.09s\n",
            "203:\tlearn: 0.1478944\ttotal: 529ms\tremaining: 2.09s\n",
            "204:\tlearn: 0.1472069\ttotal: 531ms\tremaining: 2.09s\n",
            "205:\tlearn: 0.1469117\ttotal: 534ms\tremaining: 2.08s\n",
            "206:\tlearn: 0.1465591\ttotal: 536ms\tremaining: 2.08s\n",
            "207:\tlearn: 0.1453270\ttotal: 539ms\tremaining: 2.08s\n",
            "208:\tlearn: 0.1450082\ttotal: 541ms\tremaining: 2.07s\n",
            "209:\tlearn: 0.1439692\ttotal: 543ms\tremaining: 2.07s\n",
            "210:\tlearn: 0.1427347\ttotal: 546ms\tremaining: 2.07s\n",
            "211:\tlearn: 0.1426779\ttotal: 548ms\tremaining: 2.06s\n",
            "212:\tlearn: 0.1418031\ttotal: 551ms\tremaining: 2.06s\n",
            "213:\tlearn: 0.1415489\ttotal: 553ms\tremaining: 2.06s\n",
            "214:\tlearn: 0.1411528\ttotal: 555ms\tremaining: 2.05s\n",
            "215:\tlearn: 0.1402636\ttotal: 558ms\tremaining: 2.05s\n",
            "216:\tlearn: 0.1399949\ttotal: 560ms\tremaining: 2.05s\n",
            "217:\tlearn: 0.1398044\ttotal: 563ms\tremaining: 2.04s\n",
            "218:\tlearn: 0.1396443\ttotal: 565ms\tremaining: 2.04s\n",
            "219:\tlearn: 0.1394159\ttotal: 567ms\tremaining: 2.04s\n",
            "220:\tlearn: 0.1392418\ttotal: 569ms\tremaining: 2.03s\n",
            "221:\tlearn: 0.1388530\ttotal: 571ms\tremaining: 2.03s\n",
            "222:\tlearn: 0.1378084\ttotal: 574ms\tremaining: 2.02s\n",
            "223:\tlearn: 0.1377406\ttotal: 576ms\tremaining: 2.02s\n",
            "224:\tlearn: 0.1376599\ttotal: 578ms\tremaining: 2.02s\n",
            "225:\tlearn: 0.1375435\ttotal: 580ms\tremaining: 2.01s\n",
            "226:\tlearn: 0.1374391\ttotal: 582ms\tremaining: 2.01s\n",
            "227:\tlearn: 0.1372582\ttotal: 585ms\tremaining: 2s\n",
            "228:\tlearn: 0.1372257\ttotal: 587ms\tremaining: 2s\n",
            "229:\tlearn: 0.1371041\ttotal: 589ms\tremaining: 2s\n",
            "230:\tlearn: 0.1363557\ttotal: 592ms\tremaining: 1.99s\n",
            "231:\tlearn: 0.1361916\ttotal: 594ms\tremaining: 1.99s\n",
            "232:\tlearn: 0.1360751\ttotal: 596ms\tremaining: 1.99s\n",
            "233:\tlearn: 0.1360220\ttotal: 599ms\tremaining: 1.99s\n",
            "234:\tlearn: 0.1357932\ttotal: 601ms\tremaining: 1.98s\n",
            "235:\tlearn: 0.1353874\ttotal: 603ms\tremaining: 1.98s\n",
            "236:\tlearn: 0.1349448\ttotal: 606ms\tremaining: 1.98s\n",
            "237:\tlearn: 0.1345876\ttotal: 608ms\tremaining: 1.97s\n",
            "238:\tlearn: 0.1343500\ttotal: 610ms\tremaining: 1.97s\n",
            "239:\tlearn: 0.1338861\ttotal: 612ms\tremaining: 1.96s\n",
            "240:\tlearn: 0.1336715\ttotal: 615ms\tremaining: 1.96s\n",
            "241:\tlearn: 0.1336524\ttotal: 617ms\tremaining: 1.96s\n",
            "242:\tlearn: 0.1334189\ttotal: 619ms\tremaining: 1.95s\n",
            "243:\tlearn: 0.1328265\ttotal: 621ms\tremaining: 1.95s\n",
            "244:\tlearn: 0.1326133\ttotal: 624ms\tremaining: 1.95s\n",
            "245:\tlearn: 0.1325471\ttotal: 626ms\tremaining: 1.95s\n",
            "246:\tlearn: 0.1324589\ttotal: 628ms\tremaining: 1.94s\n",
            "247:\tlearn: 0.1323917\ttotal: 631ms\tremaining: 1.94s\n",
            "248:\tlearn: 0.1322341\ttotal: 636ms\tremaining: 1.94s\n",
            "249:\tlearn: 0.1319275\ttotal: 639ms\tremaining: 1.94s\n",
            "250:\tlearn: 0.1312141\ttotal: 641ms\tremaining: 1.94s\n",
            "251:\tlearn: 0.1311567\ttotal: 643ms\tremaining: 1.93s\n",
            "252:\tlearn: 0.1310594\ttotal: 645ms\tremaining: 1.93s\n",
            "253:\tlearn: 0.1303454\ttotal: 648ms\tremaining: 1.93s\n",
            "254:\tlearn: 0.1297595\ttotal: 650ms\tremaining: 1.92s\n",
            "255:\tlearn: 0.1290460\ttotal: 652ms\tremaining: 1.92s\n",
            "256:\tlearn: 0.1289823\ttotal: 655ms\tremaining: 1.92s\n",
            "257:\tlearn: 0.1286552\ttotal: 657ms\tremaining: 1.92s\n",
            "258:\tlearn: 0.1280021\ttotal: 659ms\tremaining: 1.91s\n",
            "259:\tlearn: 0.1278114\ttotal: 662ms\tremaining: 1.91s\n",
            "260:\tlearn: 0.1277804\ttotal: 664ms\tremaining: 1.91s\n",
            "261:\tlearn: 0.1273143\ttotal: 666ms\tremaining: 1.9s\n",
            "262:\tlearn: 0.1269926\ttotal: 669ms\tremaining: 1.9s\n",
            "263:\tlearn: 0.1260296\ttotal: 671ms\tremaining: 1.9s\n",
            "264:\tlearn: 0.1259879\ttotal: 673ms\tremaining: 1.89s\n",
            "265:\tlearn: 0.1256050\ttotal: 676ms\tremaining: 1.89s\n",
            "266:\tlearn: 0.1253492\ttotal: 678ms\tremaining: 1.89s\n",
            "267:\tlearn: 0.1252944\ttotal: 680ms\tremaining: 1.88s\n",
            "268:\tlearn: 0.1251412\ttotal: 682ms\tremaining: 1.88s\n",
            "269:\tlearn: 0.1251011\ttotal: 685ms\tremaining: 1.88s\n",
            "270:\tlearn: 0.1249393\ttotal: 687ms\tremaining: 1.87s\n",
            "271:\tlearn: 0.1246910\ttotal: 689ms\tremaining: 1.87s\n",
            "272:\tlearn: 0.1246685\ttotal: 691ms\tremaining: 1.87s\n",
            "273:\tlearn: 0.1234459\ttotal: 694ms\tremaining: 1.86s\n",
            "274:\tlearn: 0.1231979\ttotal: 696ms\tremaining: 1.86s\n",
            "275:\tlearn: 0.1231462\ttotal: 698ms\tremaining: 1.86s\n",
            "276:\tlearn: 0.1222939\ttotal: 701ms\tremaining: 1.85s\n",
            "277:\tlearn: 0.1219901\ttotal: 703ms\tremaining: 1.85s\n",
            "278:\tlearn: 0.1217086\ttotal: 705ms\tremaining: 1.85s\n",
            "279:\tlearn: 0.1216041\ttotal: 707ms\tremaining: 1.84s\n",
            "280:\tlearn: 0.1214925\ttotal: 709ms\tremaining: 1.84s\n",
            "281:\tlearn: 0.1213348\ttotal: 712ms\tremaining: 1.84s\n",
            "282:\tlearn: 0.1212421\ttotal: 717ms\tremaining: 1.84s\n",
            "283:\tlearn: 0.1211830\ttotal: 721ms\tremaining: 1.84s\n",
            "284:\tlearn: 0.1207749\ttotal: 725ms\tremaining: 1.84s\n",
            "285:\tlearn: 0.1205575\ttotal: 728ms\tremaining: 1.84s\n",
            "286:\tlearn: 0.1203957\ttotal: 730ms\tremaining: 1.84s\n",
            "287:\tlearn: 0.1199333\ttotal: 732ms\tremaining: 1.83s\n",
            "288:\tlearn: 0.1191670\ttotal: 734ms\tremaining: 1.83s\n",
            "289:\tlearn: 0.1188592\ttotal: 736ms\tremaining: 1.83s\n",
            "290:\tlearn: 0.1182765\ttotal: 738ms\tremaining: 1.82s\n",
            "291:\tlearn: 0.1176724\ttotal: 740ms\tremaining: 1.82s\n",
            "292:\tlearn: 0.1176510\ttotal: 743ms\tremaining: 1.82s\n",
            "293:\tlearn: 0.1173508\ttotal: 745ms\tremaining: 1.81s\n",
            "294:\tlearn: 0.1169407\ttotal: 747ms\tremaining: 1.81s\n",
            "295:\tlearn: 0.1165101\ttotal: 750ms\tremaining: 1.81s\n",
            "296:\tlearn: 0.1162355\ttotal: 752ms\tremaining: 1.8s\n",
            "297:\tlearn: 0.1162178\ttotal: 754ms\tremaining: 1.8s\n",
            "298:\tlearn: 0.1152701\ttotal: 757ms\tremaining: 1.8s\n",
            "299:\tlearn: 0.1150767\ttotal: 759ms\tremaining: 1.8s\n",
            "300:\tlearn: 0.1150028\ttotal: 761ms\tremaining: 1.79s\n",
            "301:\tlearn: 0.1148167\ttotal: 765ms\tremaining: 1.79s\n",
            "302:\tlearn: 0.1147185\ttotal: 767ms\tremaining: 1.79s\n",
            "303:\tlearn: 0.1147082\ttotal: 770ms\tremaining: 1.79s\n",
            "304:\tlearn: 0.1145717\ttotal: 772ms\tremaining: 1.78s\n",
            "305:\tlearn: 0.1144688\ttotal: 774ms\tremaining: 1.78s\n",
            "306:\tlearn: 0.1143234\ttotal: 776ms\tremaining: 1.78s\n",
            "307:\tlearn: 0.1141408\ttotal: 778ms\tremaining: 1.77s\n",
            "308:\tlearn: 0.1136156\ttotal: 780ms\tremaining: 1.77s\n",
            "309:\tlearn: 0.1134254\ttotal: 783ms\tremaining: 1.77s\n",
            "310:\tlearn: 0.1133473\ttotal: 785ms\tremaining: 1.76s\n",
            "311:\tlearn: 0.1133379\ttotal: 787ms\tremaining: 1.76s\n",
            "312:\tlearn: 0.1132783\ttotal: 789ms\tremaining: 1.76s\n",
            "313:\tlearn: 0.1126035\ttotal: 792ms\tremaining: 1.75s\n",
            "314:\tlearn: 0.1123357\ttotal: 794ms\tremaining: 1.75s\n",
            "315:\tlearn: 0.1119868\ttotal: 796ms\tremaining: 1.75s\n",
            "316:\tlearn: 0.1117188\ttotal: 798ms\tremaining: 1.75s\n",
            "317:\tlearn: 0.1116097\ttotal: 801ms\tremaining: 1.74s\n",
            "318:\tlearn: 0.1115849\ttotal: 804ms\tremaining: 1.74s\n",
            "319:\tlearn: 0.1113071\ttotal: 807ms\tremaining: 1.74s\n",
            "320:\tlearn: 0.1110198\ttotal: 810ms\tremaining: 1.74s\n",
            "321:\tlearn: 0.1110035\ttotal: 812ms\tremaining: 1.74s\n",
            "322:\tlearn: 0.1104294\ttotal: 815ms\tremaining: 1.73s\n",
            "323:\tlearn: 0.1102730\ttotal: 817ms\tremaining: 1.73s\n",
            "324:\tlearn: 0.1101782\ttotal: 819ms\tremaining: 1.73s\n",
            "325:\tlearn: 0.1099490\ttotal: 821ms\tremaining: 1.72s\n",
            "326:\tlearn: 0.1097468\ttotal: 823ms\tremaining: 1.72s\n",
            "327:\tlearn: 0.1095346\ttotal: 831ms\tremaining: 1.73s\n",
            "328:\tlearn: 0.1092348\ttotal: 833ms\tremaining: 1.73s\n",
            "329:\tlearn: 0.1092258\ttotal: 836ms\tremaining: 1.72s\n",
            "330:\tlearn: 0.1091848\ttotal: 838ms\tremaining: 1.72s\n",
            "331:\tlearn: 0.1086956\ttotal: 841ms\tremaining: 1.72s\n",
            "332:\tlearn: 0.1085245\ttotal: 843ms\tremaining: 1.71s\n",
            "333:\tlearn: 0.1082875\ttotal: 845ms\tremaining: 1.71s\n",
            "334:\tlearn: 0.1082774\ttotal: 848ms\tremaining: 1.71s\n",
            "335:\tlearn: 0.1082641\ttotal: 850ms\tremaining: 1.71s\n",
            "336:\tlearn: 0.1081238\ttotal: 852ms\tremaining: 1.7s\n",
            "337:\tlearn: 0.1076580\ttotal: 855ms\tremaining: 1.7s\n",
            "338:\tlearn: 0.1072324\ttotal: 857ms\tremaining: 1.7s\n",
            "339:\tlearn: 0.1071327\ttotal: 859ms\tremaining: 1.69s\n",
            "340:\tlearn: 0.1070394\ttotal: 862ms\tremaining: 1.69s\n",
            "341:\tlearn: 0.1069168\ttotal: 864ms\tremaining: 1.69s\n",
            "342:\tlearn: 0.1069135\ttotal: 867ms\tremaining: 1.69s\n",
            "343:\tlearn: 0.1069013\ttotal: 870ms\tremaining: 1.68s\n",
            "344:\tlearn: 0.1068842\ttotal: 872ms\tremaining: 1.68s\n",
            "345:\tlearn: 0.1067564\ttotal: 874ms\tremaining: 1.68s\n",
            "346:\tlearn: 0.1065281\ttotal: 877ms\tremaining: 1.67s\n",
            "347:\tlearn: 0.1064444\ttotal: 878ms\tremaining: 1.67s\n",
            "348:\tlearn: 0.1064358\ttotal: 881ms\tremaining: 1.67s\n",
            "349:\tlearn: 0.1059636\ttotal: 883ms\tremaining: 1.67s\n",
            "350:\tlearn: 0.1058470\ttotal: 885ms\tremaining: 1.66s\n",
            "351:\tlearn: 0.1055795\ttotal: 888ms\tremaining: 1.66s\n",
            "352:\tlearn: 0.1055446\ttotal: 890ms\tremaining: 1.66s\n",
            "353:\tlearn: 0.1052323\ttotal: 892ms\tremaining: 1.65s\n",
            "354:\tlearn: 0.1052243\ttotal: 895ms\tremaining: 1.65s\n",
            "355:\tlearn: 0.1051456\ttotal: 897ms\tremaining: 1.65s\n",
            "356:\tlearn: 0.1051168\ttotal: 899ms\tremaining: 1.64s\n",
            "357:\tlearn: 0.1051060\ttotal: 901ms\tremaining: 1.64s\n",
            "358:\tlearn: 0.1050932\ttotal: 903ms\tremaining: 1.64s\n",
            "359:\tlearn: 0.1048254\ttotal: 905ms\tremaining: 1.63s\n",
            "360:\tlearn: 0.1046730\ttotal: 908ms\tremaining: 1.63s\n",
            "361:\tlearn: 0.1046050\ttotal: 910ms\tremaining: 1.63s\n",
            "362:\tlearn: 0.1040553\ttotal: 912ms\tremaining: 1.63s\n",
            "363:\tlearn: 0.1039352\ttotal: 914ms\tremaining: 1.62s\n",
            "364:\tlearn: 0.1034705\ttotal: 917ms\tremaining: 1.62s\n",
            "365:\tlearn: 0.1032206\ttotal: 919ms\tremaining: 1.62s\n",
            "366:\tlearn: 0.1030988\ttotal: 921ms\tremaining: 1.61s\n",
            "367:\tlearn: 0.1029360\ttotal: 924ms\tremaining: 1.61s\n",
            "368:\tlearn: 0.1028676\ttotal: 926ms\tremaining: 1.61s\n",
            "369:\tlearn: 0.1025882\ttotal: 928ms\tremaining: 1.6s\n",
            "370:\tlearn: 0.1024546\ttotal: 932ms\tremaining: 1.61s\n",
            "371:\tlearn: 0.1015507\ttotal: 935ms\tremaining: 1.6s\n",
            "372:\tlearn: 0.1011882\ttotal: 938ms\tremaining: 1.6s\n",
            "373:\tlearn: 0.1005513\ttotal: 940ms\tremaining: 1.6s\n",
            "374:\tlearn: 0.0999888\ttotal: 943ms\tremaining: 1.6s\n",
            "375:\tlearn: 0.0997192\ttotal: 945ms\tremaining: 1.59s\n",
            "376:\tlearn: 0.0995589\ttotal: 947ms\tremaining: 1.59s\n",
            "377:\tlearn: 0.0992775\ttotal: 949ms\tremaining: 1.59s\n",
            "378:\tlearn: 0.0991631\ttotal: 950ms\tremaining: 1.58s\n",
            "379:\tlearn: 0.0986028\ttotal: 952ms\tremaining: 1.58s\n",
            "380:\tlearn: 0.0985534\ttotal: 955ms\tremaining: 1.58s\n",
            "381:\tlearn: 0.0985485\ttotal: 957ms\tremaining: 1.57s\n",
            "382:\tlearn: 0.0985393\ttotal: 960ms\tremaining: 1.57s\n",
            "383:\tlearn: 0.0982829\ttotal: 962ms\tremaining: 1.57s\n",
            "384:\tlearn: 0.0982472\ttotal: 964ms\tremaining: 1.56s\n",
            "385:\tlearn: 0.0980676\ttotal: 967ms\tremaining: 1.56s\n",
            "386:\tlearn: 0.0980077\ttotal: 969ms\tremaining: 1.56s\n",
            "387:\tlearn: 0.0977109\ttotal: 972ms\tremaining: 1.56s\n",
            "388:\tlearn: 0.0976074\ttotal: 974ms\tremaining: 1.55s\n",
            "389:\tlearn: 0.0962199\ttotal: 977ms\tremaining: 1.55s\n",
            "390:\tlearn: 0.0961541\ttotal: 979ms\tremaining: 1.55s\n",
            "391:\tlearn: 0.0961068\ttotal: 981ms\tremaining: 1.55s\n",
            "392:\tlearn: 0.0960421\ttotal: 984ms\tremaining: 1.54s\n",
            "393:\tlearn: 0.0954011\ttotal: 986ms\tremaining: 1.54s\n",
            "394:\tlearn: 0.0944860\ttotal: 989ms\tremaining: 1.54s\n",
            "395:\tlearn: 0.0944710\ttotal: 991ms\tremaining: 1.54s\n",
            "396:\tlearn: 0.0943899\ttotal: 993ms\tremaining: 1.53s\n",
            "397:\tlearn: 0.0943284\ttotal: 995ms\tremaining: 1.53s\n",
            "398:\tlearn: 0.0940438\ttotal: 997ms\tremaining: 1.53s\n",
            "399:\tlearn: 0.0937891\ttotal: 1s\tremaining: 1.52s\n",
            "400:\tlearn: 0.0927608\ttotal: 1s\tremaining: 1.52s\n",
            "401:\tlearn: 0.0922170\ttotal: 1s\tremaining: 1.52s\n",
            "402:\tlearn: 0.0916820\ttotal: 1.01s\tremaining: 1.52s\n",
            "403:\tlearn: 0.0915806\ttotal: 1.01s\tremaining: 1.51s\n",
            "404:\tlearn: 0.0912208\ttotal: 1.01s\tremaining: 1.51s\n",
            "405:\tlearn: 0.0908117\ttotal: 1.01s\tremaining: 1.51s\n",
            "406:\tlearn: 0.0906309\ttotal: 1.02s\tremaining: 1.51s\n",
            "407:\tlearn: 0.0906114\ttotal: 1.02s\tremaining: 1.5s\n",
            "408:\tlearn: 0.0904503\ttotal: 1.02s\tremaining: 1.5s\n",
            "409:\tlearn: 0.0901479\ttotal: 1.03s\tremaining: 1.5s\n",
            "410:\tlearn: 0.0896783\ttotal: 1.03s\tremaining: 1.5s\n",
            "411:\tlearn: 0.0889331\ttotal: 1.03s\tremaining: 1.5s\n",
            "412:\tlearn: 0.0886366\ttotal: 1.04s\tremaining: 1.5s\n",
            "413:\tlearn: 0.0884424\ttotal: 1.04s\tremaining: 1.5s\n",
            "414:\tlearn: 0.0882995\ttotal: 1.04s\tremaining: 1.49s\n",
            "415:\tlearn: 0.0880740\ttotal: 1.04s\tremaining: 1.49s\n",
            "416:\tlearn: 0.0877249\ttotal: 1.05s\tremaining: 1.49s\n",
            "417:\tlearn: 0.0876071\ttotal: 1.05s\tremaining: 1.49s\n",
            "418:\tlearn: 0.0872555\ttotal: 1.05s\tremaining: 1.48s\n",
            "419:\tlearn: 0.0869915\ttotal: 1.05s\tremaining: 1.48s\n",
            "420:\tlearn: 0.0869527\ttotal: 1.05s\tremaining: 1.48s\n",
            "421:\tlearn: 0.0869211\ttotal: 1.06s\tremaining: 1.47s\n",
            "422:\tlearn: 0.0866597\ttotal: 1.06s\tremaining: 1.47s\n",
            "423:\tlearn: 0.0864341\ttotal: 1.06s\tremaining: 1.47s\n",
            "424:\tlearn: 0.0862923\ttotal: 1.06s\tremaining: 1.47s\n",
            "425:\tlearn: 0.0862192\ttotal: 1.07s\tremaining: 1.46s\n",
            "426:\tlearn: 0.0861241\ttotal: 1.07s\tremaining: 1.46s\n",
            "427:\tlearn: 0.0856554\ttotal: 1.07s\tremaining: 1.46s\n",
            "428:\tlearn: 0.0855923\ttotal: 1.07s\tremaining: 1.46s\n",
            "429:\tlearn: 0.0853032\ttotal: 1.08s\tremaining: 1.45s\n",
            "430:\tlearn: 0.0851357\ttotal: 1.08s\tremaining: 1.45s\n",
            "431:\tlearn: 0.0850494\ttotal: 1.08s\tremaining: 1.45s\n",
            "432:\tlearn: 0.0849445\ttotal: 1.08s\tremaining: 1.45s\n",
            "433:\tlearn: 0.0848179\ttotal: 1.09s\tremaining: 1.44s\n",
            "434:\tlearn: 0.0846755\ttotal: 1.09s\tremaining: 1.44s\n",
            "435:\tlearn: 0.0845219\ttotal: 1.09s\tremaining: 1.44s\n",
            "436:\tlearn: 0.0844202\ttotal: 1.09s\tremaining: 1.43s\n",
            "437:\tlearn: 0.0842910\ttotal: 1.09s\tremaining: 1.43s\n",
            "438:\tlearn: 0.0841858\ttotal: 1.1s\tremaining: 1.43s\n",
            "439:\tlearn: 0.0841240\ttotal: 1.1s\tremaining: 1.43s\n",
            "440:\tlearn: 0.0840556\ttotal: 1.1s\tremaining: 1.42s\n",
            "441:\tlearn: 0.0838484\ttotal: 1.1s\tremaining: 1.42s\n",
            "442:\tlearn: 0.0837702\ttotal: 1.11s\tremaining: 1.42s\n",
            "443:\tlearn: 0.0833993\ttotal: 1.11s\tremaining: 1.41s\n",
            "444:\tlearn: 0.0833599\ttotal: 1.11s\tremaining: 1.41s\n",
            "445:\tlearn: 0.0832866\ttotal: 1.11s\tremaining: 1.41s\n",
            "446:\tlearn: 0.0832251\ttotal: 1.12s\tremaining: 1.41s\n",
            "447:\tlearn: 0.0830342\ttotal: 1.12s\tremaining: 1.4s\n",
            "448:\tlearn: 0.0829666\ttotal: 1.12s\tremaining: 1.4s\n",
            "449:\tlearn: 0.0828938\ttotal: 1.12s\tremaining: 1.4s\n",
            "450:\tlearn: 0.0828011\ttotal: 1.13s\tremaining: 1.39s\n",
            "451:\tlearn: 0.0827166\ttotal: 1.13s\tremaining: 1.39s\n",
            "452:\tlearn: 0.0825617\ttotal: 1.13s\tremaining: 1.39s\n",
            "453:\tlearn: 0.0823790\ttotal: 1.13s\tremaining: 1.39s\n",
            "454:\tlearn: 0.0823158\ttotal: 1.14s\tremaining: 1.38s\n",
            "455:\tlearn: 0.0823011\ttotal: 1.14s\tremaining: 1.38s\n",
            "456:\tlearn: 0.0823009\ttotal: 1.14s\tremaining: 1.38s\n",
            "457:\tlearn: 0.0822571\ttotal: 1.14s\tremaining: 1.38s\n",
            "458:\tlearn: 0.0819955\ttotal: 1.14s\tremaining: 1.37s\n",
            "459:\tlearn: 0.0819885\ttotal: 1.15s\tremaining: 1.37s\n",
            "460:\tlearn: 0.0816377\ttotal: 1.15s\tremaining: 1.37s\n",
            "461:\tlearn: 0.0815173\ttotal: 1.15s\tremaining: 1.36s\n",
            "462:\tlearn: 0.0814492\ttotal: 1.15s\tremaining: 1.36s\n",
            "463:\tlearn: 0.0803705\ttotal: 1.15s\tremaining: 1.36s\n",
            "464:\tlearn: 0.0803586\ttotal: 1.16s\tremaining: 1.35s\n",
            "465:\tlearn: 0.0802152\ttotal: 1.16s\tremaining: 1.35s\n",
            "466:\tlearn: 0.0801780\ttotal: 1.16s\tremaining: 1.35s\n",
            "467:\tlearn: 0.0801220\ttotal: 1.16s\tremaining: 1.35s\n",
            "468:\tlearn: 0.0793358\ttotal: 1.17s\tremaining: 1.34s\n",
            "469:\tlearn: 0.0793326\ttotal: 1.17s\tremaining: 1.34s\n",
            "470:\tlearn: 0.0793157\ttotal: 1.17s\tremaining: 1.34s\n",
            "471:\tlearn: 0.0792405\ttotal: 1.17s\tremaining: 1.34s\n",
            "472:\tlearn: 0.0792233\ttotal: 1.18s\tremaining: 1.33s\n",
            "473:\tlearn: 0.0787928\ttotal: 1.18s\tremaining: 1.33s\n",
            "474:\tlearn: 0.0786461\ttotal: 1.18s\tremaining: 1.33s\n",
            "475:\tlearn: 0.0782998\ttotal: 1.18s\tremaining: 1.33s\n",
            "476:\tlearn: 0.0782768\ttotal: 1.18s\tremaining: 1.32s\n",
            "477:\tlearn: 0.0781184\ttotal: 1.19s\tremaining: 1.32s\n",
            "478:\tlearn: 0.0778344\ttotal: 1.19s\tremaining: 1.32s\n",
            "479:\tlearn: 0.0778321\ttotal: 1.19s\tremaining: 1.32s\n",
            "480:\tlearn: 0.0776815\ttotal: 1.19s\tremaining: 1.31s\n",
            "481:\tlearn: 0.0774595\ttotal: 1.2s\tremaining: 1.31s\n",
            "482:\tlearn: 0.0773240\ttotal: 1.2s\tremaining: 1.31s\n",
            "483:\tlearn: 0.0771964\ttotal: 1.21s\tremaining: 1.31s\n",
            "484:\tlearn: 0.0771763\ttotal: 1.21s\tremaining: 1.31s\n",
            "485:\tlearn: 0.0770724\ttotal: 1.21s\tremaining: 1.31s\n",
            "486:\tlearn: 0.0769475\ttotal: 1.22s\tremaining: 1.3s\n",
            "487:\tlearn: 0.0769359\ttotal: 1.22s\tremaining: 1.31s\n",
            "488:\tlearn: 0.0767660\ttotal: 1.23s\tremaining: 1.31s\n",
            "489:\tlearn: 0.0767389\ttotal: 1.23s\tremaining: 1.31s\n",
            "490:\tlearn: 0.0766913\ttotal: 1.23s\tremaining: 1.3s\n",
            "491:\tlearn: 0.0766576\ttotal: 1.24s\tremaining: 1.3s\n",
            "492:\tlearn: 0.0766338\ttotal: 1.24s\tremaining: 1.3s\n",
            "493:\tlearn: 0.0765169\ttotal: 1.24s\tremaining: 1.3s\n",
            "494:\tlearn: 0.0765113\ttotal: 1.24s\tremaining: 1.29s\n",
            "495:\tlearn: 0.0763455\ttotal: 1.25s\tremaining: 1.29s\n",
            "496:\tlearn: 0.0763392\ttotal: 1.25s\tremaining: 1.29s\n",
            "497:\tlearn: 0.0763197\ttotal: 1.25s\tremaining: 1.28s\n",
            "498:\tlearn: 0.0760767\ttotal: 1.25s\tremaining: 1.28s\n",
            "499:\tlearn: 0.0759025\ttotal: 1.25s\tremaining: 1.28s\n",
            "500:\tlearn: 0.0759014\ttotal: 1.26s\tremaining: 1.28s\n",
            "501:\tlearn: 0.0758975\ttotal: 1.26s\tremaining: 1.27s\n",
            "502:\tlearn: 0.0758968\ttotal: 1.26s\tremaining: 1.27s\n",
            "503:\tlearn: 0.0758936\ttotal: 1.26s\tremaining: 1.27s\n",
            "504:\tlearn: 0.0757502\ttotal: 1.27s\tremaining: 1.27s\n",
            "505:\tlearn: 0.0756441\ttotal: 1.27s\tremaining: 1.26s\n",
            "506:\tlearn: 0.0753721\ttotal: 1.27s\tremaining: 1.26s\n",
            "507:\tlearn: 0.0750794\ttotal: 1.27s\tremaining: 1.26s\n",
            "508:\tlearn: 0.0750793\ttotal: 1.27s\tremaining: 1.25s\n",
            "509:\tlearn: 0.0746627\ttotal: 1.28s\tremaining: 1.25s\n",
            "510:\tlearn: 0.0746461\ttotal: 1.28s\tremaining: 1.25s\n",
            "511:\tlearn: 0.0745107\ttotal: 1.28s\tremaining: 1.25s\n",
            "512:\tlearn: 0.0740013\ttotal: 1.28s\tremaining: 1.24s\n",
            "513:\tlearn: 0.0739703\ttotal: 1.29s\tremaining: 1.24s\n",
            "514:\tlearn: 0.0738944\ttotal: 1.29s\tremaining: 1.24s\n",
            "515:\tlearn: 0.0737859\ttotal: 1.29s\tremaining: 1.24s\n",
            "516:\tlearn: 0.0737381\ttotal: 1.29s\tremaining: 1.23s\n",
            "517:\tlearn: 0.0732859\ttotal: 1.3s\tremaining: 1.23s\n",
            "518:\tlearn: 0.0732858\ttotal: 1.3s\tremaining: 1.23s\n",
            "519:\tlearn: 0.0732157\ttotal: 1.3s\tremaining: 1.23s\n",
            "520:\tlearn: 0.0730024\ttotal: 1.3s\tremaining: 1.22s\n",
            "521:\tlearn: 0.0729478\ttotal: 1.3s\tremaining: 1.22s\n",
            "522:\tlearn: 0.0729447\ttotal: 1.31s\tremaining: 1.22s\n",
            "523:\tlearn: 0.0725899\ttotal: 1.31s\tremaining: 1.22s\n",
            "524:\tlearn: 0.0725893\ttotal: 1.31s\tremaining: 1.21s\n",
            "525:\tlearn: 0.0725501\ttotal: 1.31s\tremaining: 1.21s\n",
            "526:\tlearn: 0.0724557\ttotal: 1.32s\tremaining: 1.21s\n",
            "527:\tlearn: 0.0724449\ttotal: 1.32s\tremaining: 1.2s\n",
            "528:\tlearn: 0.0723110\ttotal: 1.32s\tremaining: 1.2s\n",
            "529:\tlearn: 0.0722378\ttotal: 1.32s\tremaining: 1.2s\n",
            "530:\tlearn: 0.0722378\ttotal: 1.33s\tremaining: 1.2s\n",
            "531:\tlearn: 0.0722377\ttotal: 1.33s\tremaining: 1.19s\n",
            "532:\tlearn: 0.0720851\ttotal: 1.33s\tremaining: 1.19s\n",
            "533:\tlearn: 0.0719906\ttotal: 1.33s\tremaining: 1.19s\n",
            "534:\tlearn: 0.0718762\ttotal: 1.34s\tremaining: 1.19s\n",
            "535:\tlearn: 0.0718737\ttotal: 1.34s\tremaining: 1.18s\n",
            "536:\tlearn: 0.0717856\ttotal: 1.34s\tremaining: 1.18s\n",
            "537:\tlearn: 0.0717849\ttotal: 1.34s\tremaining: 1.18s\n",
            "538:\tlearn: 0.0717726\ttotal: 1.34s\tremaining: 1.18s\n",
            "539:\tlearn: 0.0717717\ttotal: 1.35s\tremaining: 1.17s\n",
            "540:\tlearn: 0.0717015\ttotal: 1.35s\tremaining: 1.17s\n",
            "541:\tlearn: 0.0717013\ttotal: 1.35s\tremaining: 1.17s\n",
            "542:\tlearn: 0.0715255\ttotal: 1.35s\tremaining: 1.16s\n",
            "543:\tlearn: 0.0712086\ttotal: 1.36s\tremaining: 1.16s\n",
            "544:\tlearn: 0.0711591\ttotal: 1.36s\tremaining: 1.16s\n",
            "545:\tlearn: 0.0709050\ttotal: 1.36s\tremaining: 1.16s\n",
            "546:\tlearn: 0.0708828\ttotal: 1.36s\tremaining: 1.15s\n",
            "547:\tlearn: 0.0707361\ttotal: 1.36s\tremaining: 1.15s\n",
            "548:\tlearn: 0.0703770\ttotal: 1.37s\tremaining: 1.15s\n",
            "549:\tlearn: 0.0702879\ttotal: 1.37s\tremaining: 1.15s\n",
            "550:\tlearn: 0.0702759\ttotal: 1.37s\tremaining: 1.14s\n",
            "551:\tlearn: 0.0702313\ttotal: 1.38s\tremaining: 1.14s\n",
            "552:\tlearn: 0.0701444\ttotal: 1.38s\tremaining: 1.14s\n",
            "553:\tlearn: 0.0701142\ttotal: 1.38s\tremaining: 1.14s\n",
            "554:\tlearn: 0.0700907\ttotal: 1.38s\tremaining: 1.13s\n",
            "555:\tlearn: 0.0700349\ttotal: 1.39s\tremaining: 1.13s\n",
            "556:\tlearn: 0.0699213\ttotal: 1.39s\tremaining: 1.13s\n",
            "557:\tlearn: 0.0698900\ttotal: 1.39s\tremaining: 1.13s\n",
            "558:\tlearn: 0.0695548\ttotal: 1.39s\tremaining: 1.12s\n",
            "559:\tlearn: 0.0695062\ttotal: 1.4s\tremaining: 1.12s\n",
            "560:\tlearn: 0.0695029\ttotal: 1.4s\tremaining: 1.12s\n",
            "561:\tlearn: 0.0694696\ttotal: 1.4s\tremaining: 1.11s\n",
            "562:\tlearn: 0.0692726\ttotal: 1.4s\tremaining: 1.11s\n",
            "563:\tlearn: 0.0688217\ttotal: 1.4s\tremaining: 1.11s\n",
            "564:\tlearn: 0.0685747\ttotal: 1.41s\tremaining: 1.11s\n",
            "565:\tlearn: 0.0685175\ttotal: 1.41s\tremaining: 1.11s\n",
            "566:\tlearn: 0.0684814\ttotal: 1.42s\tremaining: 1.11s\n",
            "567:\tlearn: 0.0684572\ttotal: 1.42s\tremaining: 1.1s\n",
            "568:\tlearn: 0.0683557\ttotal: 1.42s\tremaining: 1.1s\n",
            "569:\tlearn: 0.0683275\ttotal: 1.42s\tremaining: 1.1s\n",
            "570:\tlearn: 0.0683249\ttotal: 1.42s\tremaining: 1.09s\n",
            "571:\tlearn: 0.0682111\ttotal: 1.43s\tremaining: 1.09s\n",
            "572:\tlearn: 0.0681997\ttotal: 1.43s\tremaining: 1.09s\n",
            "573:\tlearn: 0.0680889\ttotal: 1.43s\tremaining: 1.09s\n",
            "574:\tlearn: 0.0680290\ttotal: 1.43s\tremaining: 1.08s\n",
            "575:\tlearn: 0.0680249\ttotal: 1.43s\tremaining: 1.08s\n",
            "576:\tlearn: 0.0678180\ttotal: 1.44s\tremaining: 1.08s\n",
            "577:\tlearn: 0.0673719\ttotal: 1.44s\tremaining: 1.07s\n",
            "578:\tlearn: 0.0672662\ttotal: 1.44s\tremaining: 1.07s\n",
            "579:\tlearn: 0.0671237\ttotal: 1.44s\tremaining: 1.07s\n",
            "580:\tlearn: 0.0671020\ttotal: 1.45s\tremaining: 1.07s\n",
            "581:\tlearn: 0.0670955\ttotal: 1.45s\tremaining: 1.06s\n",
            "582:\tlearn: 0.0670864\ttotal: 1.45s\tremaining: 1.06s\n",
            "583:\tlearn: 0.0670700\ttotal: 1.45s\tremaining: 1.06s\n",
            "584:\tlearn: 0.0670398\ttotal: 1.45s\tremaining: 1.05s\n",
            "585:\tlearn: 0.0670397\ttotal: 1.45s\tremaining: 1.05s\n",
            "586:\tlearn: 0.0670022\ttotal: 1.46s\tremaining: 1.05s\n",
            "587:\tlearn: 0.0668682\ttotal: 1.46s\tremaining: 1.05s\n",
            "588:\tlearn: 0.0668671\ttotal: 1.46s\tremaining: 1.04s\n",
            "589:\tlearn: 0.0668460\ttotal: 1.46s\tremaining: 1.04s\n",
            "590:\tlearn: 0.0667905\ttotal: 1.47s\tremaining: 1.04s\n",
            "591:\tlearn: 0.0665583\ttotal: 1.47s\tremaining: 1.04s\n",
            "592:\tlearn: 0.0664138\ttotal: 1.47s\tremaining: 1.03s\n",
            "593:\tlearn: 0.0664128\ttotal: 1.47s\tremaining: 1.03s\n",
            "594:\tlearn: 0.0662647\ttotal: 1.47s\tremaining: 1.03s\n",
            "595:\tlearn: 0.0661151\ttotal: 1.48s\tremaining: 1.02s\n",
            "596:\tlearn: 0.0657306\ttotal: 1.48s\tremaining: 1.02s\n",
            "597:\tlearn: 0.0654207\ttotal: 1.48s\tremaining: 1.02s\n",
            "598:\tlearn: 0.0654205\ttotal: 1.48s\tremaining: 1.02s\n",
            "599:\tlearn: 0.0654176\ttotal: 1.48s\tremaining: 1.01s\n",
            "600:\tlearn: 0.0654170\ttotal: 1.49s\tremaining: 1.01s\n",
            "601:\tlearn: 0.0654162\ttotal: 1.49s\tremaining: 1.01s\n",
            "602:\tlearn: 0.0653971\ttotal: 1.49s\tremaining: 1.01s\n",
            "603:\tlearn: 0.0653640\ttotal: 1.49s\tremaining: 1s\n",
            "604:\tlearn: 0.0653447\ttotal: 1.5s\tremaining: 1s\n",
            "605:\tlearn: 0.0653403\ttotal: 1.5s\tremaining: 998ms\n",
            "606:\tlearn: 0.0653266\ttotal: 1.5s\tremaining: 995ms\n",
            "607:\tlearn: 0.0653097\ttotal: 1.5s\tremaining: 993ms\n",
            "608:\tlearn: 0.0653082\ttotal: 1.5s\tremaining: 990ms\n",
            "609:\tlearn: 0.0650109\ttotal: 1.5s\tremaining: 987ms\n",
            "610:\tlearn: 0.0649809\ttotal: 1.51s\tremaining: 985ms\n",
            "611:\tlearn: 0.0648808\ttotal: 1.51s\tremaining: 982ms\n",
            "612:\tlearn: 0.0648565\ttotal: 1.51s\tremaining: 979ms\n",
            "613:\tlearn: 0.0647539\ttotal: 1.51s\tremaining: 977ms\n",
            "614:\tlearn: 0.0647231\ttotal: 1.52s\tremaining: 974ms\n",
            "615:\tlearn: 0.0647192\ttotal: 1.52s\tremaining: 972ms\n",
            "616:\tlearn: 0.0647139\ttotal: 1.52s\tremaining: 969ms\n",
            "617:\tlearn: 0.0647139\ttotal: 1.52s\tremaining: 967ms\n",
            "618:\tlearn: 0.0647135\ttotal: 1.53s\tremaining: 964ms\n",
            "619:\tlearn: 0.0646469\ttotal: 1.53s\tremaining: 962ms\n",
            "620:\tlearn: 0.0646103\ttotal: 1.53s\tremaining: 959ms\n",
            "621:\tlearn: 0.0645804\ttotal: 1.53s\tremaining: 956ms\n",
            "622:\tlearn: 0.0645690\ttotal: 1.53s\tremaining: 954ms\n",
            "623:\tlearn: 0.0645586\ttotal: 1.54s\tremaining: 951ms\n",
            "624:\tlearn: 0.0645492\ttotal: 1.54s\tremaining: 948ms\n",
            "625:\tlearn: 0.0645487\ttotal: 1.54s\tremaining: 946ms\n",
            "626:\tlearn: 0.0643544\ttotal: 1.54s\tremaining: 943ms\n",
            "627:\tlearn: 0.0642484\ttotal: 1.55s\tremaining: 941ms\n",
            "628:\tlearn: 0.0642278\ttotal: 1.55s\tremaining: 938ms\n",
            "629:\tlearn: 0.0641811\ttotal: 1.55s\tremaining: 935ms\n",
            "630:\tlearn: 0.0641760\ttotal: 1.55s\tremaining: 933ms\n",
            "631:\tlearn: 0.0639926\ttotal: 1.55s\tremaining: 930ms\n",
            "632:\tlearn: 0.0639650\ttotal: 1.56s\tremaining: 927ms\n",
            "633:\tlearn: 0.0639409\ttotal: 1.56s\tremaining: 925ms\n",
            "634:\tlearn: 0.0638746\ttotal: 1.56s\tremaining: 922ms\n",
            "635:\tlearn: 0.0638541\ttotal: 1.56s\tremaining: 919ms\n",
            "636:\tlearn: 0.0637165\ttotal: 1.56s\tremaining: 917ms\n",
            "637:\tlearn: 0.0636770\ttotal: 1.57s\tremaining: 914ms\n",
            "638:\tlearn: 0.0635546\ttotal: 1.57s\tremaining: 912ms\n",
            "639:\tlearn: 0.0635136\ttotal: 1.57s\tremaining: 909ms\n",
            "640:\tlearn: 0.0635121\ttotal: 1.57s\tremaining: 906ms\n",
            "641:\tlearn: 0.0634898\ttotal: 1.58s\tremaining: 904ms\n",
            "642:\tlearn: 0.0631502\ttotal: 1.58s\tremaining: 901ms\n",
            "643:\tlearn: 0.0630987\ttotal: 1.58s\tremaining: 899ms\n",
            "644:\tlearn: 0.0630489\ttotal: 1.58s\tremaining: 896ms\n",
            "645:\tlearn: 0.0630137\ttotal: 1.58s\tremaining: 894ms\n",
            "646:\tlearn: 0.0630006\ttotal: 1.59s\tremaining: 891ms\n",
            "647:\tlearn: 0.0629661\ttotal: 1.59s\tremaining: 888ms\n",
            "648:\tlearn: 0.0629135\ttotal: 1.59s\tremaining: 886ms\n",
            "649:\tlearn: 0.0628767\ttotal: 1.59s\tremaining: 884ms\n",
            "650:\tlearn: 0.0628206\ttotal: 1.6s\tremaining: 882ms\n",
            "651:\tlearn: 0.0627378\ttotal: 1.6s\tremaining: 881ms\n",
            "652:\tlearn: 0.0625436\ttotal: 1.61s\tremaining: 879ms\n",
            "653:\tlearn: 0.0625435\ttotal: 1.61s\tremaining: 876ms\n",
            "654:\tlearn: 0.0624465\ttotal: 1.61s\tremaining: 874ms\n",
            "655:\tlearn: 0.0622611\ttotal: 1.61s\tremaining: 871ms\n",
            "656:\tlearn: 0.0621911\ttotal: 1.62s\tremaining: 869ms\n",
            "657:\tlearn: 0.0621001\ttotal: 1.62s\tremaining: 866ms\n",
            "658:\tlearn: 0.0620906\ttotal: 1.62s\tremaining: 864ms\n",
            "659:\tlearn: 0.0619879\ttotal: 1.62s\tremaining: 861ms\n",
            "660:\tlearn: 0.0619711\ttotal: 1.63s\tremaining: 859ms\n",
            "661:\tlearn: 0.0619518\ttotal: 1.63s\tremaining: 856ms\n",
            "662:\tlearn: 0.0618087\ttotal: 1.63s\tremaining: 854ms\n",
            "663:\tlearn: 0.0617203\ttotal: 1.63s\tremaining: 851ms\n",
            "664:\tlearn: 0.0617015\ttotal: 1.64s\tremaining: 848ms\n",
            "665:\tlearn: 0.0616770\ttotal: 1.64s\tremaining: 846ms\n",
            "666:\tlearn: 0.0616418\ttotal: 1.64s\tremaining: 843ms\n",
            "667:\tlearn: 0.0615311\ttotal: 1.64s\tremaining: 841ms\n",
            "668:\tlearn: 0.0613493\ttotal: 1.64s\tremaining: 838ms\n",
            "669:\tlearn: 0.0612513\ttotal: 1.65s\tremaining: 836ms\n",
            "670:\tlearn: 0.0612114\ttotal: 1.65s\tremaining: 833ms\n",
            "671:\tlearn: 0.0609733\ttotal: 1.65s\tremaining: 831ms\n",
            "672:\tlearn: 0.0609519\ttotal: 1.65s\tremaining: 828ms\n",
            "673:\tlearn: 0.0609275\ttotal: 1.66s\tremaining: 826ms\n",
            "674:\tlearn: 0.0608025\ttotal: 1.66s\tremaining: 823ms\n",
            "675:\tlearn: 0.0607815\ttotal: 1.66s\tremaining: 821ms\n",
            "676:\tlearn: 0.0606756\ttotal: 1.66s\tremaining: 818ms\n",
            "677:\tlearn: 0.0606160\ttotal: 1.67s\tremaining: 816ms\n",
            "678:\tlearn: 0.0605006\ttotal: 1.67s\tremaining: 813ms\n",
            "679:\tlearn: 0.0604469\ttotal: 1.67s\tremaining: 812ms\n",
            "680:\tlearn: 0.0604347\ttotal: 1.68s\tremaining: 810ms\n",
            "681:\tlearn: 0.0602652\ttotal: 1.68s\tremaining: 809ms\n",
            "682:\tlearn: 0.0599861\ttotal: 1.68s\tremaining: 806ms\n",
            "683:\tlearn: 0.0599019\ttotal: 1.69s\tremaining: 803ms\n",
            "684:\tlearn: 0.0598067\ttotal: 1.69s\tremaining: 801ms\n",
            "685:\tlearn: 0.0597908\ttotal: 1.69s\tremaining: 798ms\n",
            "686:\tlearn: 0.0597820\ttotal: 1.69s\tremaining: 795ms\n",
            "687:\tlearn: 0.0597272\ttotal: 1.69s\tremaining: 793ms\n",
            "688:\tlearn: 0.0596680\ttotal: 1.7s\tremaining: 790ms\n",
            "689:\tlearn: 0.0596486\ttotal: 1.7s\tremaining: 787ms\n",
            "690:\tlearn: 0.0595758\ttotal: 1.7s\tremaining: 785ms\n",
            "691:\tlearn: 0.0595544\ttotal: 1.7s\tremaining: 782ms\n",
            "692:\tlearn: 0.0595292\ttotal: 1.7s\tremaining: 780ms\n",
            "693:\tlearn: 0.0594194\ttotal: 1.71s\tremaining: 777ms\n",
            "694:\tlearn: 0.0593605\ttotal: 1.71s\tremaining: 774ms\n",
            "695:\tlearn: 0.0593104\ttotal: 1.71s\tremaining: 772ms\n",
            "696:\tlearn: 0.0589221\ttotal: 1.71s\tremaining: 769ms\n",
            "697:\tlearn: 0.0588328\ttotal: 1.71s\tremaining: 766ms\n",
            "698:\tlearn: 0.0587821\ttotal: 1.72s\tremaining: 764ms\n",
            "699:\tlearn: 0.0582085\ttotal: 1.72s\tremaining: 761ms\n",
            "700:\tlearn: 0.0581433\ttotal: 1.72s\tremaining: 758ms\n",
            "701:\tlearn: 0.0581433\ttotal: 1.72s\tremaining: 756ms\n",
            "702:\tlearn: 0.0580544\ttotal: 1.72s\tremaining: 753ms\n",
            "703:\tlearn: 0.0579091\ttotal: 1.73s\tremaining: 750ms\n",
            "704:\tlearn: 0.0577864\ttotal: 1.73s\tremaining: 748ms\n",
            "705:\tlearn: 0.0576966\ttotal: 1.73s\tremaining: 746ms\n",
            "706:\tlearn: 0.0576423\ttotal: 1.73s\tremaining: 743ms\n",
            "707:\tlearn: 0.0576420\ttotal: 1.74s\tremaining: 740ms\n",
            "708:\tlearn: 0.0575925\ttotal: 1.74s\tremaining: 738ms\n",
            "709:\tlearn: 0.0575921\ttotal: 1.74s\tremaining: 735ms\n",
            "710:\tlearn: 0.0574649\ttotal: 1.74s\tremaining: 733ms\n",
            "711:\tlearn: 0.0573843\ttotal: 1.74s\tremaining: 730ms\n",
            "712:\tlearn: 0.0573843\ttotal: 1.75s\tremaining: 728ms\n",
            "713:\tlearn: 0.0573843\ttotal: 1.75s\tremaining: 725ms\n",
            "714:\tlearn: 0.0572247\ttotal: 1.75s\tremaining: 722ms\n",
            "715:\tlearn: 0.0568763\ttotal: 1.75s\tremaining: 720ms\n",
            "716:\tlearn: 0.0567392\ttotal: 1.76s\tremaining: 718ms\n",
            "717:\tlearn: 0.0564485\ttotal: 1.76s\tremaining: 715ms\n",
            "718:\tlearn: 0.0564143\ttotal: 1.76s\tremaining: 713ms\n",
            "719:\tlearn: 0.0564122\ttotal: 1.76s\tremaining: 710ms\n",
            "720:\tlearn: 0.0564121\ttotal: 1.76s\tremaining: 707ms\n",
            "721:\tlearn: 0.0562011\ttotal: 1.77s\tremaining: 705ms\n",
            "722:\tlearn: 0.0560607\ttotal: 1.77s\tremaining: 702ms\n",
            "723:\tlearn: 0.0559987\ttotal: 1.77s\tremaining: 700ms\n",
            "724:\tlearn: 0.0559738\ttotal: 1.77s\tremaining: 697ms\n",
            "725:\tlearn: 0.0559619\ttotal: 1.77s\tremaining: 695ms\n",
            "726:\tlearn: 0.0559619\ttotal: 1.78s\tremaining: 692ms\n",
            "727:\tlearn: 0.0559563\ttotal: 1.78s\tremaining: 689ms\n",
            "728:\tlearn: 0.0559281\ttotal: 1.78s\tremaining: 687ms\n",
            "729:\tlearn: 0.0558511\ttotal: 1.78s\tremaining: 684ms\n",
            "730:\tlearn: 0.0558082\ttotal: 1.79s\tremaining: 682ms\n",
            "731:\tlearn: 0.0558013\ttotal: 1.79s\tremaining: 680ms\n",
            "732:\tlearn: 0.0558013\ttotal: 1.79s\tremaining: 679ms\n",
            "733:\tlearn: 0.0558011\ttotal: 1.8s\tremaining: 676ms\n",
            "734:\tlearn: 0.0557999\ttotal: 1.8s\tremaining: 674ms\n",
            "735:\tlearn: 0.0557999\ttotal: 1.8s\tremaining: 671ms\n",
            "736:\tlearn: 0.0557371\ttotal: 1.8s\tremaining: 669ms\n",
            "737:\tlearn: 0.0557343\ttotal: 1.81s\tremaining: 666ms\n",
            "738:\tlearn: 0.0557343\ttotal: 1.81s\tremaining: 664ms\n",
            "739:\tlearn: 0.0556839\ttotal: 1.81s\tremaining: 661ms\n",
            "740:\tlearn: 0.0556553\ttotal: 1.81s\tremaining: 659ms\n",
            "741:\tlearn: 0.0556482\ttotal: 1.82s\tremaining: 656ms\n",
            "742:\tlearn: 0.0555836\ttotal: 1.82s\tremaining: 654ms\n",
            "743:\tlearn: 0.0555817\ttotal: 1.82s\tremaining: 651ms\n",
            "744:\tlearn: 0.0555817\ttotal: 1.82s\tremaining: 649ms\n",
            "745:\tlearn: 0.0555803\ttotal: 1.82s\tremaining: 646ms\n",
            "746:\tlearn: 0.0554500\ttotal: 1.83s\tremaining: 643ms\n",
            "747:\tlearn: 0.0554286\ttotal: 1.83s\tremaining: 641ms\n",
            "748:\tlearn: 0.0554286\ttotal: 1.83s\tremaining: 639ms\n",
            "749:\tlearn: 0.0554223\ttotal: 1.83s\tremaining: 636ms\n",
            "750:\tlearn: 0.0554223\ttotal: 1.84s\tremaining: 633ms\n",
            "751:\tlearn: 0.0554222\ttotal: 1.84s\tremaining: 631ms\n",
            "752:\tlearn: 0.0554196\ttotal: 1.84s\tremaining: 628ms\n",
            "753:\tlearn: 0.0554140\ttotal: 1.84s\tremaining: 626ms\n",
            "754:\tlearn: 0.0553666\ttotal: 1.84s\tremaining: 623ms\n",
            "755:\tlearn: 0.0553338\ttotal: 1.85s\tremaining: 621ms\n",
            "756:\tlearn: 0.0551924\ttotal: 1.85s\tremaining: 618ms\n",
            "757:\tlearn: 0.0551262\ttotal: 1.85s\tremaining: 616ms\n",
            "758:\tlearn: 0.0551229\ttotal: 1.85s\tremaining: 613ms\n",
            "759:\tlearn: 0.0551229\ttotal: 1.85s\tremaining: 611ms\n",
            "760:\tlearn: 0.0550623\ttotal: 1.86s\tremaining: 608ms\n",
            "761:\tlearn: 0.0550527\ttotal: 1.86s\tremaining: 605ms\n",
            "762:\tlearn: 0.0550303\ttotal: 1.86s\tremaining: 603ms\n",
            "763:\tlearn: 0.0549932\ttotal: 1.86s\tremaining: 601ms\n",
            "764:\tlearn: 0.0544178\ttotal: 1.87s\tremaining: 598ms\n",
            "765:\tlearn: 0.0542935\ttotal: 1.87s\tremaining: 596ms\n",
            "766:\tlearn: 0.0541590\ttotal: 1.87s\tremaining: 593ms\n",
            "767:\tlearn: 0.0541587\ttotal: 1.87s\tremaining: 591ms\n",
            "768:\tlearn: 0.0541036\ttotal: 1.88s\tremaining: 588ms\n",
            "769:\tlearn: 0.0540199\ttotal: 1.88s\tremaining: 586ms\n",
            "770:\tlearn: 0.0539379\ttotal: 1.88s\tremaining: 583ms\n",
            "771:\tlearn: 0.0537635\ttotal: 1.88s\tremaining: 581ms\n",
            "772:\tlearn: 0.0537498\ttotal: 1.89s\tremaining: 578ms\n",
            "773:\tlearn: 0.0537497\ttotal: 1.89s\tremaining: 576ms\n",
            "774:\tlearn: 0.0537497\ttotal: 1.89s\tremaining: 573ms\n",
            "775:\tlearn: 0.0537218\ttotal: 1.89s\tremaining: 571ms\n",
            "776:\tlearn: 0.0536679\ttotal: 1.9s\tremaining: 568ms\n",
            "777:\tlearn: 0.0536502\ttotal: 1.9s\tremaining: 566ms\n",
            "778:\tlearn: 0.0533938\ttotal: 1.9s\tremaining: 564ms\n",
            "779:\tlearn: 0.0533372\ttotal: 1.9s\tremaining: 562ms\n",
            "780:\tlearn: 0.0533371\ttotal: 1.91s\tremaining: 559ms\n",
            "781:\tlearn: 0.0533030\ttotal: 1.91s\tremaining: 557ms\n",
            "782:\tlearn: 0.0530409\ttotal: 1.91s\tremaining: 554ms\n",
            "783:\tlearn: 0.0529944\ttotal: 1.91s\tremaining: 552ms\n",
            "784:\tlearn: 0.0529943\ttotal: 1.92s\tremaining: 549ms\n",
            "785:\tlearn: 0.0529422\ttotal: 1.92s\tremaining: 547ms\n",
            "786:\tlearn: 0.0528766\ttotal: 1.92s\tremaining: 544ms\n",
            "787:\tlearn: 0.0527076\ttotal: 1.92s\tremaining: 542ms\n",
            "788:\tlearn: 0.0526715\ttotal: 1.93s\tremaining: 539ms\n",
            "789:\tlearn: 0.0526568\ttotal: 1.93s\tremaining: 537ms\n",
            "790:\tlearn: 0.0526496\ttotal: 1.93s\tremaining: 534ms\n",
            "791:\tlearn: 0.0526409\ttotal: 1.93s\tremaining: 532ms\n",
            "792:\tlearn: 0.0525682\ttotal: 1.93s\tremaining: 529ms\n",
            "793:\tlearn: 0.0525682\ttotal: 1.94s\tremaining: 527ms\n",
            "794:\tlearn: 0.0525664\ttotal: 1.94s\tremaining: 525ms\n",
            "795:\tlearn: 0.0525190\ttotal: 1.94s\tremaining: 522ms\n",
            "796:\tlearn: 0.0524571\ttotal: 1.95s\tremaining: 520ms\n",
            "797:\tlearn: 0.0521858\ttotal: 1.95s\tremaining: 517ms\n",
            "798:\tlearn: 0.0521856\ttotal: 1.95s\tremaining: 515ms\n",
            "799:\tlearn: 0.0521518\ttotal: 1.95s\tremaining: 512ms\n",
            "800:\tlearn: 0.0519707\ttotal: 1.95s\tremaining: 510ms\n",
            "801:\tlearn: 0.0519560\ttotal: 1.96s\tremaining: 507ms\n",
            "802:\tlearn: 0.0518172\ttotal: 1.96s\tremaining: 505ms\n",
            "803:\tlearn: 0.0517161\ttotal: 1.96s\tremaining: 503ms\n",
            "804:\tlearn: 0.0517101\ttotal: 1.96s\tremaining: 500ms\n",
            "805:\tlearn: 0.0516138\ttotal: 1.97s\tremaining: 497ms\n",
            "806:\tlearn: 0.0515996\ttotal: 1.97s\tremaining: 495ms\n",
            "807:\tlearn: 0.0515325\ttotal: 1.97s\tremaining: 492ms\n",
            "808:\tlearn: 0.0515212\ttotal: 1.97s\tremaining: 490ms\n",
            "809:\tlearn: 0.0515052\ttotal: 1.97s\tremaining: 487ms\n",
            "810:\tlearn: 0.0515032\ttotal: 1.98s\tremaining: 485ms\n",
            "811:\tlearn: 0.0514950\ttotal: 1.98s\tremaining: 482ms\n",
            "812:\tlearn: 0.0514923\ttotal: 1.98s\tremaining: 480ms\n",
            "813:\tlearn: 0.0514922\ttotal: 1.98s\tremaining: 477ms\n",
            "814:\tlearn: 0.0514713\ttotal: 1.98s\tremaining: 475ms\n",
            "815:\tlearn: 0.0514659\ttotal: 2s\tremaining: 475ms\n",
            "816:\tlearn: 0.0514565\ttotal: 2s\tremaining: 472ms\n",
            "817:\tlearn: 0.0513781\ttotal: 2s\tremaining: 470ms\n",
            "818:\tlearn: 0.0513741\ttotal: 2s\tremaining: 467ms\n",
            "819:\tlearn: 0.0513739\ttotal: 2s\tremaining: 465ms\n",
            "820:\tlearn: 0.0513406\ttotal: 2.01s\tremaining: 462ms\n",
            "821:\tlearn: 0.0511489\ttotal: 2.01s\tremaining: 460ms\n",
            "822:\tlearn: 0.0511424\ttotal: 2.02s\tremaining: 458ms\n",
            "823:\tlearn: 0.0508593\ttotal: 2.02s\tremaining: 456ms\n",
            "824:\tlearn: 0.0507958\ttotal: 2.02s\tremaining: 454ms\n",
            "825:\tlearn: 0.0507956\ttotal: 2.03s\tremaining: 452ms\n",
            "826:\tlearn: 0.0507956\ttotal: 2.03s\tremaining: 449ms\n",
            "827:\tlearn: 0.0507954\ttotal: 2.03s\tremaining: 447ms\n",
            "828:\tlearn: 0.0507836\ttotal: 2.03s\tremaining: 444ms\n",
            "829:\tlearn: 0.0506958\ttotal: 2.04s\tremaining: 442ms\n",
            "830:\tlearn: 0.0506880\ttotal: 2.04s\tremaining: 439ms\n",
            "831:\tlearn: 0.0506866\ttotal: 2.04s\tremaining: 437ms\n",
            "832:\tlearn: 0.0506864\ttotal: 2.04s\tremaining: 434ms\n",
            "833:\tlearn: 0.0506568\ttotal: 2.05s\tremaining: 432ms\n",
            "834:\tlearn: 0.0506282\ttotal: 2.05s\tremaining: 430ms\n",
            "835:\tlearn: 0.0506265\ttotal: 2.05s\tremaining: 427ms\n",
            "836:\tlearn: 0.0505757\ttotal: 2.05s\tremaining: 425ms\n",
            "837:\tlearn: 0.0505672\ttotal: 2.06s\tremaining: 422ms\n",
            "838:\tlearn: 0.0505659\ttotal: 2.06s\tremaining: 420ms\n",
            "839:\tlearn: 0.0505657\ttotal: 2.06s\tremaining: 417ms\n",
            "840:\tlearn: 0.0504040\ttotal: 2.06s\tremaining: 415ms\n",
            "841:\tlearn: 0.0500938\ttotal: 2.06s\tremaining: 412ms\n",
            "842:\tlearn: 0.0500800\ttotal: 2.07s\tremaining: 410ms\n",
            "843:\tlearn: 0.0500769\ttotal: 2.07s\tremaining: 407ms\n",
            "844:\tlearn: 0.0500145\ttotal: 2.07s\tremaining: 405ms\n",
            "845:\tlearn: 0.0499919\ttotal: 2.07s\tremaining: 402ms\n",
            "846:\tlearn: 0.0499918\ttotal: 2.08s\tremaining: 400ms\n",
            "847:\tlearn: 0.0499784\ttotal: 2.08s\tremaining: 397ms\n",
            "848:\tlearn: 0.0499783\ttotal: 2.08s\tremaining: 395ms\n",
            "849:\tlearn: 0.0499780\ttotal: 2.08s\tremaining: 392ms\n",
            "850:\tlearn: 0.0499780\ttotal: 2.08s\tremaining: 390ms\n",
            "851:\tlearn: 0.0499173\ttotal: 2.09s\tremaining: 387ms\n",
            "852:\tlearn: 0.0499173\ttotal: 2.09s\tremaining: 385ms\n",
            "853:\tlearn: 0.0499173\ttotal: 2.09s\tremaining: 382ms\n",
            "854:\tlearn: 0.0498838\ttotal: 2.09s\tremaining: 380ms\n",
            "855:\tlearn: 0.0498838\ttotal: 2.1s\tremaining: 377ms\n",
            "856:\tlearn: 0.0498715\ttotal: 2.1s\tremaining: 375ms\n",
            "857:\tlearn: 0.0498675\ttotal: 2.1s\tremaining: 372ms\n",
            "858:\tlearn: 0.0498674\ttotal: 2.1s\tremaining: 370ms\n",
            "859:\tlearn: 0.0498613\ttotal: 2.1s\tremaining: 367ms\n",
            "860:\tlearn: 0.0498458\ttotal: 2.11s\tremaining: 365ms\n",
            "861:\tlearn: 0.0498236\ttotal: 2.11s\tremaining: 362ms\n",
            "862:\tlearn: 0.0497586\ttotal: 2.11s\tremaining: 360ms\n",
            "863:\tlearn: 0.0496802\ttotal: 2.11s\tremaining: 357ms\n",
            "864:\tlearn: 0.0496667\ttotal: 2.12s\tremaining: 355ms\n",
            "865:\tlearn: 0.0496633\ttotal: 2.12s\tremaining: 352ms\n",
            "866:\tlearn: 0.0495500\ttotal: 2.12s\tremaining: 350ms\n",
            "867:\tlearn: 0.0492018\ttotal: 2.12s\tremaining: 348ms\n",
            "868:\tlearn: 0.0491371\ttotal: 2.13s\tremaining: 345ms\n",
            "869:\tlearn: 0.0491058\ttotal: 2.13s\tremaining: 343ms\n",
            "870:\tlearn: 0.0490865\ttotal: 2.13s\tremaining: 340ms\n",
            "871:\tlearn: 0.0490761\ttotal: 2.13s\tremaining: 338ms\n",
            "872:\tlearn: 0.0489821\ttotal: 2.14s\tremaining: 335ms\n",
            "873:\tlearn: 0.0488853\ttotal: 2.14s\tremaining: 333ms\n",
            "874:\tlearn: 0.0488852\ttotal: 2.14s\tremaining: 330ms\n",
            "875:\tlearn: 0.0488514\ttotal: 2.14s\tremaining: 328ms\n",
            "876:\tlearn: 0.0487920\ttotal: 2.15s\tremaining: 325ms\n",
            "877:\tlearn: 0.0487607\ttotal: 2.15s\tremaining: 323ms\n",
            "878:\tlearn: 0.0487607\ttotal: 2.15s\tremaining: 320ms\n",
            "879:\tlearn: 0.0486907\ttotal: 2.15s\tremaining: 318ms\n",
            "880:\tlearn: 0.0485122\ttotal: 2.15s\tremaining: 315ms\n",
            "881:\tlearn: 0.0483650\ttotal: 2.15s\tremaining: 313ms\n",
            "882:\tlearn: 0.0483562\ttotal: 2.16s\tremaining: 310ms\n",
            "883:\tlearn: 0.0483433\ttotal: 2.16s\tremaining: 308ms\n",
            "884:\tlearn: 0.0483330\ttotal: 2.16s\tremaining: 305ms\n",
            "885:\tlearn: 0.0483326\ttotal: 2.16s\tremaining: 303ms\n",
            "886:\tlearn: 0.0483245\ttotal: 2.17s\tremaining: 300ms\n",
            "887:\tlearn: 0.0483155\ttotal: 2.17s\tremaining: 298ms\n",
            "888:\tlearn: 0.0482803\ttotal: 2.17s\tremaining: 295ms\n",
            "889:\tlearn: 0.0482660\ttotal: 2.17s\tremaining: 293ms\n",
            "890:\tlearn: 0.0481975\ttotal: 2.17s\tremaining: 291ms\n",
            "891:\tlearn: 0.0481974\ttotal: 2.18s\tremaining: 288ms\n",
            "892:\tlearn: 0.0481610\ttotal: 2.18s\tremaining: 286ms\n",
            "893:\tlearn: 0.0481384\ttotal: 2.18s\tremaining: 283ms\n",
            "894:\tlearn: 0.0481293\ttotal: 2.18s\tremaining: 281ms\n",
            "895:\tlearn: 0.0481293\ttotal: 2.19s\tremaining: 278ms\n",
            "896:\tlearn: 0.0481277\ttotal: 2.19s\tremaining: 276ms\n",
            "897:\tlearn: 0.0481228\ttotal: 2.19s\tremaining: 274ms\n",
            "898:\tlearn: 0.0481031\ttotal: 2.2s\tremaining: 271ms\n",
            "899:\tlearn: 0.0479722\ttotal: 2.2s\tremaining: 269ms\n",
            "900:\tlearn: 0.0479476\ttotal: 2.2s\tremaining: 266ms\n",
            "901:\tlearn: 0.0478577\ttotal: 2.2s\tremaining: 264ms\n",
            "902:\tlearn: 0.0478576\ttotal: 2.21s\tremaining: 261ms\n",
            "903:\tlearn: 0.0478394\ttotal: 2.21s\tremaining: 259ms\n",
            "904:\tlearn: 0.0478121\ttotal: 2.21s\tremaining: 257ms\n",
            "905:\tlearn: 0.0477202\ttotal: 2.21s\tremaining: 254ms\n",
            "906:\tlearn: 0.0476040\ttotal: 2.21s\tremaining: 252ms\n",
            "907:\tlearn: 0.0474725\ttotal: 2.22s\tremaining: 249ms\n",
            "908:\tlearn: 0.0473289\ttotal: 2.22s\tremaining: 247ms\n",
            "909:\tlearn: 0.0472453\ttotal: 2.22s\tremaining: 244ms\n",
            "910:\tlearn: 0.0471770\ttotal: 2.23s\tremaining: 242ms\n",
            "911:\tlearn: 0.0470917\ttotal: 2.23s\tremaining: 239ms\n",
            "912:\tlearn: 0.0470121\ttotal: 2.23s\tremaining: 237ms\n",
            "913:\tlearn: 0.0469404\ttotal: 2.23s\tremaining: 234ms\n",
            "914:\tlearn: 0.0469160\ttotal: 2.23s\tremaining: 232ms\n",
            "915:\tlearn: 0.0469157\ttotal: 2.24s\tremaining: 230ms\n",
            "916:\tlearn: 0.0468418\ttotal: 2.24s\tremaining: 227ms\n",
            "917:\tlearn: 0.0468309\ttotal: 2.24s\tremaining: 225ms\n",
            "918:\tlearn: 0.0467628\ttotal: 2.24s\tremaining: 222ms\n",
            "919:\tlearn: 0.0467076\ttotal: 2.25s\tremaining: 220ms\n",
            "920:\tlearn: 0.0466526\ttotal: 2.25s\tremaining: 217ms\n",
            "921:\tlearn: 0.0460757\ttotal: 2.25s\tremaining: 215ms\n",
            "922:\tlearn: 0.0459417\ttotal: 2.25s\tremaining: 212ms\n",
            "923:\tlearn: 0.0457818\ttotal: 2.25s\tremaining: 210ms\n",
            "924:\tlearn: 0.0456052\ttotal: 2.26s\tremaining: 207ms\n",
            "925:\tlearn: 0.0455903\ttotal: 2.26s\tremaining: 205ms\n",
            "926:\tlearn: 0.0455726\ttotal: 2.26s\tremaining: 203ms\n",
            "927:\tlearn: 0.0455629\ttotal: 2.26s\tremaining: 200ms\n",
            "928:\tlearn: 0.0455629\ttotal: 2.27s\tremaining: 198ms\n",
            "929:\tlearn: 0.0455439\ttotal: 2.27s\tremaining: 195ms\n",
            "930:\tlearn: 0.0455241\ttotal: 2.27s\tremaining: 193ms\n",
            "931:\tlearn: 0.0455241\ttotal: 2.27s\tremaining: 190ms\n",
            "932:\tlearn: 0.0455153\ttotal: 2.27s\tremaining: 188ms\n",
            "933:\tlearn: 0.0454963\ttotal: 2.28s\tremaining: 185ms\n",
            "934:\tlearn: 0.0454942\ttotal: 2.28s\tremaining: 183ms\n",
            "935:\tlearn: 0.0454942\ttotal: 2.28s\tremaining: 180ms\n",
            "936:\tlearn: 0.0454941\ttotal: 2.28s\tremaining: 178ms\n",
            "937:\tlearn: 0.0454928\ttotal: 2.29s\tremaining: 175ms\n",
            "938:\tlearn: 0.0454800\ttotal: 2.29s\tremaining: 173ms\n",
            "939:\tlearn: 0.0454800\ttotal: 2.29s\tremaining: 171ms\n",
            "940:\tlearn: 0.0454777\ttotal: 2.29s\tremaining: 168ms\n",
            "941:\tlearn: 0.0454679\ttotal: 2.29s\tremaining: 166ms\n",
            "942:\tlearn: 0.0454677\ttotal: 2.3s\tremaining: 163ms\n",
            "943:\tlearn: 0.0454572\ttotal: 2.3s\tremaining: 161ms\n",
            "944:\tlearn: 0.0454570\ttotal: 2.3s\tremaining: 158ms\n",
            "945:\tlearn: 0.0454569\ttotal: 2.3s\tremaining: 156ms\n",
            "946:\tlearn: 0.0454519\ttotal: 2.3s\tremaining: 153ms\n",
            "947:\tlearn: 0.0454338\ttotal: 2.31s\tremaining: 151ms\n",
            "948:\tlearn: 0.0454171\ttotal: 2.31s\tremaining: 148ms\n",
            "949:\tlearn: 0.0454008\ttotal: 2.31s\tremaining: 146ms\n",
            "950:\tlearn: 0.0453884\ttotal: 2.31s\tremaining: 144ms\n",
            "951:\tlearn: 0.0453883\ttotal: 2.31s\tremaining: 141ms\n",
            "952:\tlearn: 0.0453883\ttotal: 2.32s\tremaining: 139ms\n",
            "953:\tlearn: 0.0453883\ttotal: 2.32s\tremaining: 136ms\n",
            "954:\tlearn: 0.0453417\ttotal: 2.32s\tremaining: 134ms\n",
            "955:\tlearn: 0.0453086\ttotal: 2.32s\tremaining: 131ms\n",
            "956:\tlearn: 0.0453066\ttotal: 2.33s\tremaining: 129ms\n",
            "957:\tlearn: 0.0452834\ttotal: 2.33s\tremaining: 126ms\n",
            "958:\tlearn: 0.0452494\ttotal: 2.33s\tremaining: 124ms\n",
            "959:\tlearn: 0.0452493\ttotal: 2.33s\tremaining: 121ms\n",
            "960:\tlearn: 0.0452374\ttotal: 2.33s\tremaining: 119ms\n",
            "961:\tlearn: 0.0452228\ttotal: 2.34s\tremaining: 117ms\n",
            "962:\tlearn: 0.0452189\ttotal: 2.34s\tremaining: 114ms\n",
            "963:\tlearn: 0.0452137\ttotal: 2.34s\tremaining: 112ms\n",
            "964:\tlearn: 0.0451986\ttotal: 2.34s\tremaining: 109ms\n",
            "965:\tlearn: 0.0450825\ttotal: 2.35s\tremaining: 107ms\n",
            "966:\tlearn: 0.0449511\ttotal: 2.35s\tremaining: 104ms\n",
            "967:\tlearn: 0.0449511\ttotal: 2.35s\tremaining: 102ms\n",
            "968:\tlearn: 0.0448531\ttotal: 2.35s\tremaining: 99.6ms\n",
            "969:\tlearn: 0.0448530\ttotal: 2.35s\tremaining: 97.1ms\n",
            "970:\tlearn: 0.0448428\ttotal: 2.36s\tremaining: 94.7ms\n",
            "971:\tlearn: 0.0446305\ttotal: 2.36s\tremaining: 92.3ms\n",
            "972:\tlearn: 0.0446305\ttotal: 2.36s\tremaining: 89.8ms\n",
            "973:\tlearn: 0.0446268\ttotal: 2.36s\tremaining: 87.4ms\n",
            "974:\tlearn: 0.0446266\ttotal: 2.37s\tremaining: 85ms\n",
            "975:\tlearn: 0.0446266\ttotal: 2.37s\tremaining: 82.5ms\n",
            "976:\tlearn: 0.0446263\ttotal: 2.37s\tremaining: 80.1ms\n",
            "977:\tlearn: 0.0446263\ttotal: 2.37s\tremaining: 77.6ms\n",
            "978:\tlearn: 0.0443846\ttotal: 2.38s\tremaining: 75.2ms\n",
            "979:\tlearn: 0.0443408\ttotal: 2.38s\tremaining: 72.8ms\n",
            "980:\tlearn: 0.0443190\ttotal: 2.38s\tremaining: 70.3ms\n",
            "981:\tlearn: 0.0443171\ttotal: 2.38s\tremaining: 67.9ms\n",
            "982:\tlearn: 0.0443046\ttotal: 2.38s\tremaining: 65.5ms\n",
            "983:\tlearn: 0.0442376\ttotal: 2.39s\tremaining: 63.1ms\n",
            "984:\tlearn: 0.0441514\ttotal: 2.39s\tremaining: 60.7ms\n",
            "985:\tlearn: 0.0441007\ttotal: 2.4s\tremaining: 58.3ms\n",
            "986:\tlearn: 0.0441007\ttotal: 2.4s\tremaining: 55.9ms\n",
            "987:\tlearn: 0.0440915\ttotal: 2.4s\tremaining: 53.4ms\n",
            "988:\tlearn: 0.0440915\ttotal: 2.4s\tremaining: 51ms\n",
            "989:\tlearn: 0.0440914\ttotal: 2.4s\tremaining: 48.6ms\n",
            "990:\tlearn: 0.0440822\ttotal: 2.41s\tremaining: 46.1ms\n",
            "991:\tlearn: 0.0440588\ttotal: 2.41s\tremaining: 43.7ms\n",
            "992:\tlearn: 0.0439888\ttotal: 2.41s\tremaining: 41.3ms\n",
            "993:\tlearn: 0.0439721\ttotal: 2.41s\tremaining: 38.8ms\n",
            "994:\tlearn: 0.0439721\ttotal: 2.42s\tremaining: 36.4ms\n",
            "995:\tlearn: 0.0439644\ttotal: 2.42s\tremaining: 34ms\n",
            "996:\tlearn: 0.0439530\ttotal: 2.42s\tremaining: 31.6ms\n",
            "997:\tlearn: 0.0439530\ttotal: 2.42s\tremaining: 29.1ms\n",
            "998:\tlearn: 0.0438818\ttotal: 2.42s\tremaining: 26.7ms\n",
            "999:\tlearn: 0.0438817\ttotal: 2.43s\tremaining: 24.3ms\n",
            "1000:\tlearn: 0.0438627\ttotal: 2.43s\tremaining: 21.8ms\n",
            "1001:\tlearn: 0.0438290\ttotal: 2.43s\tremaining: 19.4ms\n",
            "1002:\tlearn: 0.0437892\ttotal: 2.43s\tremaining: 17ms\n",
            "1003:\tlearn: 0.0437891\ttotal: 2.44s\tremaining: 14.6ms\n",
            "1004:\tlearn: 0.0437855\ttotal: 2.44s\tremaining: 12.1ms\n",
            "1005:\tlearn: 0.0437645\ttotal: 2.44s\tremaining: 9.7ms\n",
            "1006:\tlearn: 0.0437645\ttotal: 2.44s\tremaining: 7.28ms\n",
            "1007:\tlearn: 0.0437451\ttotal: 2.44s\tremaining: 4.85ms\n",
            "1008:\tlearn: 0.0437357\ttotal: 2.45s\tremaining: 2.42ms\n",
            "1009:\tlearn: 0.0437118\ttotal: 2.45s\tremaining: 0us\n",
            "Accuracy: 0.8395522388059702 \n",
            "\n",
            "[[154  20]\n",
            " [ 23  71]] \n",
            "\n",
            "              precision    recall  f1-score   support\n",
            "\n",
            "           0       0.87      0.89      0.88       174\n",
            "           1       0.78      0.76      0.77        94\n",
            "\n",
            "    accuracy                           0.84       268\n",
            "   macro avg       0.83      0.82      0.82       268\n",
            "weighted avg       0.84      0.84      0.84       268\n",
            "\n"
          ],
          "name": "stdout"
        }
      ]
    },
    {
      "cell_type": "markdown",
      "metadata": {
        "id": "QYS02OfFIJDG"
      },
      "source": [
        "## 10. Conclusion\n",
        "\n",
        "Some of the conclusions that can be made from this project:\n",
        "\n",
        "- For this specific dataset, the KNN optimization procedure that worked best was feature scaling.\n",
        "- Changing the distance metric to Manhattan increased the recall by 2%\n",
        "- When compared to the model created using catboost, Catboost did better. It recorded a higher recall by 1% and higher accuracy by about 3%"
      ]
    },
    {
      "cell_type": "markdown",
      "metadata": {
        "id": "v8eH73txK2sl"
      },
      "source": [
        "# Recommendations\n",
        "\n",
        "Some of the recommendations I would make are:\n",
        "\n",
        "* When building a model using KNN, perform feature scaling to improve the accuracy of your model. If your data is skewed, perform normalization. If it is normal, perform standardization.\n",
        "* Try to play around with other algorithms such as Random Forest and Gradient Boost and compare model performance.\n",
        "* Acquire a dataset with high dimensionality and perform dimensionality reduction on it. Compare its performance before and after the dimensionality reduction."
      ]
    }
  ]
}